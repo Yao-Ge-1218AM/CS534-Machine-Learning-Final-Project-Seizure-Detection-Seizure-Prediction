{
  "nbformat": 4,
  "nbformat_minor": 0,
  "metadata": {
    "colab": {
      "provenance": []
    },
    "kernelspec": {
      "name": "python3",
      "display_name": "Python 3"
    },
    "language_info": {
      "name": "python"
    }
  },
  "cells": [
    {
      "cell_type": "code",
      "execution_count": null,
      "metadata": {
        "id": "SJmvEiVoSTFP"
      },
      "outputs": [],
      "source": [
        "import pandas as pd\n",
        "import numpy as np\n",
        "from nltk.tokenize import word_tokenize\n",
        "from nltk import pos_tag\n",
        "from nltk.corpus import stopwords\n",
        "from nltk.stem import WordNetLemmatizer\n",
        "from sklearn.preprocessing import LabelEncoder\n",
        "from collections import defaultdict\n",
        "from nltk.corpus import wordnet as wn\n",
        "from sklearn.feature_extraction.text import TfidfVectorizer\n",
        "from sklearn import model_selection, naive_bayes, svm\n",
        "from sklearn.metrics import accuracy_score"
      ]
    },
    {
      "cell_type": "code",
      "source": [
        "np.random.seed(500)"
      ],
      "metadata": {
        "id": "8XXPhswDXAqE"
      },
      "execution_count": null,
      "outputs": []
    },
    {
      "cell_type": "code",
      "source": [
        "Corpus = pd.read_csv(\"/content/tagged02-07-2022-122843.csv\",encoding='utf8')"
      ],
      "metadata": {
        "id": "UGqH84KJXDAw"
      },
      "execution_count": null,
      "outputs": []
    },
    {
      "cell_type": "code",
      "source": [
        "Corpus"
      ],
      "metadata": {
        "colab": {
          "base_uri": "https://localhost:8080/",
          "height": 423
        },
        "id": "Fa7W7LCXsl5r",
        "outputId": "4375f4dc-b5b4-47fb-930b-41756a760fad"
      },
      "execution_count": null,
      "outputs": [
        {
          "output_type": "execute_result",
          "data": {
            "text/plain": [
              "     order  index ENCNTR_ID PERSON_ID  \\\n",
              "0        0      0  63659760  88639569   \n",
              "1        1      1  63927816  78432102   \n",
              "2        2      2  64686569  89329608   \n",
              "3        3      3  65001068  69612068   \n",
              "4        4      4  65330296  90343247   \n",
              "..     ...    ...       ...       ...   \n",
              "146    146    303  66866343  19337092   \n",
              "147    147    304  66767408  51120121   \n",
              "148    148    310  66940878  90116249   \n",
              "149    149    311  66738084  18912196   \n",
              "150    150    138  66706858  70050005   \n",
              "\n",
              "                                           dcNoteFinal  Tag  \n",
              "0    *   Patient:    BOARD, CATHERINE              ...    1  \n",
              "1    b\"EMORY UNIVERSITY HOSPITAL MIDTOWN SUMMARY NA...    0  \n",
              "2    b\"EMORY UNIVERSITY HOSPITAL SUMMARY NAME:     ...    0  \n",
              "3    b\"* TX_RTF32 10.1.323.501* d469a1f3* EMORY UNI...    0  \n",
              "4    EMORY UNIVERSITY HOSPITAL SUMMARY NAME:       ...    2  \n",
              "..                                                 ...  ...  \n",
              "146  *   Patient:    WILMONT, SELENA R             ...    1  \n",
              "147  b\"*   Patient:    MOORE, LUTHER LAVELLE       ...    1  \n",
              "148  b\"* TX_RTF32 10.1.323.501* d469a1f3* EMORY UNI...    1  \n",
              "149  b\"EMORY UNIVERSITY HOSPITAL MIDTOWN SUMMARY NA...    1  \n",
              "150  *   Patient:    MYERS, PHILIP              MRN...    0  \n",
              "\n",
              "[151 rows x 6 columns]"
            ],
            "text/html": [
              "\n",
              "  <div id=\"df-864dbe22-def8-43ab-971d-0b64ed2a293a\">\n",
              "    <div class=\"colab-df-container\">\n",
              "      <div>\n",
              "<style scoped>\n",
              "    .dataframe tbody tr th:only-of-type {\n",
              "        vertical-align: middle;\n",
              "    }\n",
              "\n",
              "    .dataframe tbody tr th {\n",
              "        vertical-align: top;\n",
              "    }\n",
              "\n",
              "    .dataframe thead th {\n",
              "        text-align: right;\n",
              "    }\n",
              "</style>\n",
              "<table border=\"1\" class=\"dataframe\">\n",
              "  <thead>\n",
              "    <tr style=\"text-align: right;\">\n",
              "      <th></th>\n",
              "      <th>order</th>\n",
              "      <th>index</th>\n",
              "      <th>ENCNTR_ID</th>\n",
              "      <th>PERSON_ID</th>\n",
              "      <th>dcNoteFinal</th>\n",
              "      <th>Tag</th>\n",
              "    </tr>\n",
              "  </thead>\n",
              "  <tbody>\n",
              "    <tr>\n",
              "      <th>0</th>\n",
              "      <td>0</td>\n",
              "      <td>0</td>\n",
              "      <td>63659760</td>\n",
              "      <td>88639569</td>\n",
              "      <td>*   Patient:    BOARD, CATHERINE              ...</td>\n",
              "      <td>1</td>\n",
              "    </tr>\n",
              "    <tr>\n",
              "      <th>1</th>\n",
              "      <td>1</td>\n",
              "      <td>1</td>\n",
              "      <td>63927816</td>\n",
              "      <td>78432102</td>\n",
              "      <td>b\"EMORY UNIVERSITY HOSPITAL MIDTOWN SUMMARY NA...</td>\n",
              "      <td>0</td>\n",
              "    </tr>\n",
              "    <tr>\n",
              "      <th>2</th>\n",
              "      <td>2</td>\n",
              "      <td>2</td>\n",
              "      <td>64686569</td>\n",
              "      <td>89329608</td>\n",
              "      <td>b\"EMORY UNIVERSITY HOSPITAL SUMMARY NAME:     ...</td>\n",
              "      <td>0</td>\n",
              "    </tr>\n",
              "    <tr>\n",
              "      <th>3</th>\n",
              "      <td>3</td>\n",
              "      <td>3</td>\n",
              "      <td>65001068</td>\n",
              "      <td>69612068</td>\n",
              "      <td>b\"* TX_RTF32 10.1.323.501* d469a1f3* EMORY UNI...</td>\n",
              "      <td>0</td>\n",
              "    </tr>\n",
              "    <tr>\n",
              "      <th>4</th>\n",
              "      <td>4</td>\n",
              "      <td>4</td>\n",
              "      <td>65330296</td>\n",
              "      <td>90343247</td>\n",
              "      <td>EMORY UNIVERSITY HOSPITAL SUMMARY NAME:       ...</td>\n",
              "      <td>2</td>\n",
              "    </tr>\n",
              "    <tr>\n",
              "      <th>...</th>\n",
              "      <td>...</td>\n",
              "      <td>...</td>\n",
              "      <td>...</td>\n",
              "      <td>...</td>\n",
              "      <td>...</td>\n",
              "      <td>...</td>\n",
              "    </tr>\n",
              "    <tr>\n",
              "      <th>146</th>\n",
              "      <td>146</td>\n",
              "      <td>303</td>\n",
              "      <td>66866343</td>\n",
              "      <td>19337092</td>\n",
              "      <td>*   Patient:    WILMONT, SELENA R             ...</td>\n",
              "      <td>1</td>\n",
              "    </tr>\n",
              "    <tr>\n",
              "      <th>147</th>\n",
              "      <td>147</td>\n",
              "      <td>304</td>\n",
              "      <td>66767408</td>\n",
              "      <td>51120121</td>\n",
              "      <td>b\"*   Patient:    MOORE, LUTHER LAVELLE       ...</td>\n",
              "      <td>1</td>\n",
              "    </tr>\n",
              "    <tr>\n",
              "      <th>148</th>\n",
              "      <td>148</td>\n",
              "      <td>310</td>\n",
              "      <td>66940878</td>\n",
              "      <td>90116249</td>\n",
              "      <td>b\"* TX_RTF32 10.1.323.501* d469a1f3* EMORY UNI...</td>\n",
              "      <td>1</td>\n",
              "    </tr>\n",
              "    <tr>\n",
              "      <th>149</th>\n",
              "      <td>149</td>\n",
              "      <td>311</td>\n",
              "      <td>66738084</td>\n",
              "      <td>18912196</td>\n",
              "      <td>b\"EMORY UNIVERSITY HOSPITAL MIDTOWN SUMMARY NA...</td>\n",
              "      <td>1</td>\n",
              "    </tr>\n",
              "    <tr>\n",
              "      <th>150</th>\n",
              "      <td>150</td>\n",
              "      <td>138</td>\n",
              "      <td>66706858</td>\n",
              "      <td>70050005</td>\n",
              "      <td>*   Patient:    MYERS, PHILIP              MRN...</td>\n",
              "      <td>0</td>\n",
              "    </tr>\n",
              "  </tbody>\n",
              "</table>\n",
              "<p>151 rows × 6 columns</p>\n",
              "</div>\n",
              "      <button class=\"colab-df-convert\" onclick=\"convertToInteractive('df-864dbe22-def8-43ab-971d-0b64ed2a293a')\"\n",
              "              title=\"Convert this dataframe to an interactive table.\"\n",
              "              style=\"display:none;\">\n",
              "        \n",
              "  <svg xmlns=\"http://www.w3.org/2000/svg\" height=\"24px\"viewBox=\"0 0 24 24\"\n",
              "       width=\"24px\">\n",
              "    <path d=\"M0 0h24v24H0V0z\" fill=\"none\"/>\n",
              "    <path d=\"M18.56 5.44l.94 2.06.94-2.06 2.06-.94-2.06-.94-.94-2.06-.94 2.06-2.06.94zm-11 1L8.5 8.5l.94-2.06 2.06-.94-2.06-.94L8.5 2.5l-.94 2.06-2.06.94zm10 10l.94 2.06.94-2.06 2.06-.94-2.06-.94-.94-2.06-.94 2.06-2.06.94z\"/><path d=\"M17.41 7.96l-1.37-1.37c-.4-.4-.92-.59-1.43-.59-.52 0-1.04.2-1.43.59L10.3 9.45l-7.72 7.72c-.78.78-.78 2.05 0 2.83L4 21.41c.39.39.9.59 1.41.59.51 0 1.02-.2 1.41-.59l7.78-7.78 2.81-2.81c.8-.78.8-2.07 0-2.86zM5.41 20L4 18.59l7.72-7.72 1.47 1.35L5.41 20z\"/>\n",
              "  </svg>\n",
              "      </button>\n",
              "      \n",
              "  <style>\n",
              "    .colab-df-container {\n",
              "      display:flex;\n",
              "      flex-wrap:wrap;\n",
              "      gap: 12px;\n",
              "    }\n",
              "\n",
              "    .colab-df-convert {\n",
              "      background-color: #E8F0FE;\n",
              "      border: none;\n",
              "      border-radius: 50%;\n",
              "      cursor: pointer;\n",
              "      display: none;\n",
              "      fill: #1967D2;\n",
              "      height: 32px;\n",
              "      padding: 0 0 0 0;\n",
              "      width: 32px;\n",
              "    }\n",
              "\n",
              "    .colab-df-convert:hover {\n",
              "      background-color: #E2EBFA;\n",
              "      box-shadow: 0px 1px 2px rgba(60, 64, 67, 0.3), 0px 1px 3px 1px rgba(60, 64, 67, 0.15);\n",
              "      fill: #174EA6;\n",
              "    }\n",
              "\n",
              "    [theme=dark] .colab-df-convert {\n",
              "      background-color: #3B4455;\n",
              "      fill: #D2E3FC;\n",
              "    }\n",
              "\n",
              "    [theme=dark] .colab-df-convert:hover {\n",
              "      background-color: #434B5C;\n",
              "      box-shadow: 0px 1px 3px 1px rgba(0, 0, 0, 0.15);\n",
              "      filter: drop-shadow(0px 1px 2px rgba(0, 0, 0, 0.3));\n",
              "      fill: #FFFFFF;\n",
              "    }\n",
              "  </style>\n",
              "\n",
              "      <script>\n",
              "        const buttonEl =\n",
              "          document.querySelector('#df-864dbe22-def8-43ab-971d-0b64ed2a293a button.colab-df-convert');\n",
              "        buttonEl.style.display =\n",
              "          google.colab.kernel.accessAllowed ? 'block' : 'none';\n",
              "\n",
              "        async function convertToInteractive(key) {\n",
              "          const element = document.querySelector('#df-864dbe22-def8-43ab-971d-0b64ed2a293a');\n",
              "          const dataTable =\n",
              "            await google.colab.kernel.invokeFunction('convertToInteractive',\n",
              "                                                     [key], {});\n",
              "          if (!dataTable) return;\n",
              "\n",
              "          const docLinkHtml = 'Like what you see? Visit the ' +\n",
              "            '<a target=\"_blank\" href=https://colab.research.google.com/notebooks/data_table.ipynb>data table notebook</a>'\n",
              "            + ' to learn more about interactive tables.';\n",
              "          element.innerHTML = '';\n",
              "          dataTable['output_type'] = 'display_data';\n",
              "          await google.colab.output.renderOutput(dataTable, element);\n",
              "          const docLink = document.createElement('div');\n",
              "          docLink.innerHTML = docLinkHtml;\n",
              "          element.appendChild(docLink);\n",
              "        }\n",
              "      </script>\n",
              "    </div>\n",
              "  </div>\n",
              "  "
            ]
          },
          "metadata": {},
          "execution_count": 17
        }
      ]
    },
    {
      "cell_type": "code",
      "source": [
        "Corpus['Tag'] = [int(str(entry).replace('2','0')) for entry in Corpus['Tag']]"
      ],
      "metadata": {
        "id": "Wid1UHC-sieO"
      },
      "execution_count": null,
      "outputs": []
    },
    {
      "cell_type": "code",
      "source": [
        "Corpus['Tag'] = [int(str(entry).replace('4','0')) for entry in Corpus['Tag']]"
      ],
      "metadata": {
        "id": "0uCbJDmcs16V"
      },
      "execution_count": null,
      "outputs": []
    },
    {
      "cell_type": "code",
      "source": [
        "Corpus['Tag'] = [int(str(entry).replace('3','1')) for entry in Corpus['Tag']]"
      ],
      "metadata": {
        "id": "tzJ194O_s36D"
      },
      "execution_count": null,
      "outputs": []
    },
    {
      "cell_type": "code",
      "source": [
        "Corpus"
      ],
      "metadata": {
        "colab": {
          "base_uri": "https://localhost:8080/",
          "height": 423
        },
        "id": "veHQSv9ss5vd",
        "outputId": "8ab8b4a1-8114-4b57-9ecc-74d7f6b861e7"
      },
      "execution_count": null,
      "outputs": [
        {
          "output_type": "execute_result",
          "data": {
            "text/plain": [
              "     order  index ENCNTR_ID PERSON_ID  \\\n",
              "0        0      0  63659760  88639569   \n",
              "1        1      1  63927816  78432102   \n",
              "2        2      2  64686569  89329608   \n",
              "3        3      3  65001068  69612068   \n",
              "4        4      4  65330296  90343247   \n",
              "..     ...    ...       ...       ...   \n",
              "146    146    303  66866343  19337092   \n",
              "147    147    304  66767408  51120121   \n",
              "148    148    310  66940878  90116249   \n",
              "149    149    311  66738084  18912196   \n",
              "150    150    138  66706858  70050005   \n",
              "\n",
              "                                           dcNoteFinal  Tag  \n",
              "0    *   Patient:    BOARD, CATHERINE              ...    1  \n",
              "1    b\"EMORY UNIVERSITY HOSPITAL MIDTOWN SUMMARY NA...    0  \n",
              "2    b\"EMORY UNIVERSITY HOSPITAL SUMMARY NAME:     ...    0  \n",
              "3    b\"* TX_RTF32 10.1.323.501* d469a1f3* EMORY UNI...    0  \n",
              "4    EMORY UNIVERSITY HOSPITAL SUMMARY NAME:       ...    0  \n",
              "..                                                 ...  ...  \n",
              "146  *   Patient:    WILMONT, SELENA R             ...    1  \n",
              "147  b\"*   Patient:    MOORE, LUTHER LAVELLE       ...    1  \n",
              "148  b\"* TX_RTF32 10.1.323.501* d469a1f3* EMORY UNI...    1  \n",
              "149  b\"EMORY UNIVERSITY HOSPITAL MIDTOWN SUMMARY NA...    1  \n",
              "150  *   Patient:    MYERS, PHILIP              MRN...    0  \n",
              "\n",
              "[151 rows x 6 columns]"
            ],
            "text/html": [
              "\n",
              "  <div id=\"df-5474d35e-119d-489b-96c3-b887126b5a49\">\n",
              "    <div class=\"colab-df-container\">\n",
              "      <div>\n",
              "<style scoped>\n",
              "    .dataframe tbody tr th:only-of-type {\n",
              "        vertical-align: middle;\n",
              "    }\n",
              "\n",
              "    .dataframe tbody tr th {\n",
              "        vertical-align: top;\n",
              "    }\n",
              "\n",
              "    .dataframe thead th {\n",
              "        text-align: right;\n",
              "    }\n",
              "</style>\n",
              "<table border=\"1\" class=\"dataframe\">\n",
              "  <thead>\n",
              "    <tr style=\"text-align: right;\">\n",
              "      <th></th>\n",
              "      <th>order</th>\n",
              "      <th>index</th>\n",
              "      <th>ENCNTR_ID</th>\n",
              "      <th>PERSON_ID</th>\n",
              "      <th>dcNoteFinal</th>\n",
              "      <th>Tag</th>\n",
              "    </tr>\n",
              "  </thead>\n",
              "  <tbody>\n",
              "    <tr>\n",
              "      <th>0</th>\n",
              "      <td>0</td>\n",
              "      <td>0</td>\n",
              "      <td>63659760</td>\n",
              "      <td>88639569</td>\n",
              "      <td>*   Patient:    BOARD, CATHERINE              ...</td>\n",
              "      <td>1</td>\n",
              "    </tr>\n",
              "    <tr>\n",
              "      <th>1</th>\n",
              "      <td>1</td>\n",
              "      <td>1</td>\n",
              "      <td>63927816</td>\n",
              "      <td>78432102</td>\n",
              "      <td>b\"EMORY UNIVERSITY HOSPITAL MIDTOWN SUMMARY NA...</td>\n",
              "      <td>0</td>\n",
              "    </tr>\n",
              "    <tr>\n",
              "      <th>2</th>\n",
              "      <td>2</td>\n",
              "      <td>2</td>\n",
              "      <td>64686569</td>\n",
              "      <td>89329608</td>\n",
              "      <td>b\"EMORY UNIVERSITY HOSPITAL SUMMARY NAME:     ...</td>\n",
              "      <td>0</td>\n",
              "    </tr>\n",
              "    <tr>\n",
              "      <th>3</th>\n",
              "      <td>3</td>\n",
              "      <td>3</td>\n",
              "      <td>65001068</td>\n",
              "      <td>69612068</td>\n",
              "      <td>b\"* TX_RTF32 10.1.323.501* d469a1f3* EMORY UNI...</td>\n",
              "      <td>0</td>\n",
              "    </tr>\n",
              "    <tr>\n",
              "      <th>4</th>\n",
              "      <td>4</td>\n",
              "      <td>4</td>\n",
              "      <td>65330296</td>\n",
              "      <td>90343247</td>\n",
              "      <td>EMORY UNIVERSITY HOSPITAL SUMMARY NAME:       ...</td>\n",
              "      <td>0</td>\n",
              "    </tr>\n",
              "    <tr>\n",
              "      <th>...</th>\n",
              "      <td>...</td>\n",
              "      <td>...</td>\n",
              "      <td>...</td>\n",
              "      <td>...</td>\n",
              "      <td>...</td>\n",
              "      <td>...</td>\n",
              "    </tr>\n",
              "    <tr>\n",
              "      <th>146</th>\n",
              "      <td>146</td>\n",
              "      <td>303</td>\n",
              "      <td>66866343</td>\n",
              "      <td>19337092</td>\n",
              "      <td>*   Patient:    WILMONT, SELENA R             ...</td>\n",
              "      <td>1</td>\n",
              "    </tr>\n",
              "    <tr>\n",
              "      <th>147</th>\n",
              "      <td>147</td>\n",
              "      <td>304</td>\n",
              "      <td>66767408</td>\n",
              "      <td>51120121</td>\n",
              "      <td>b\"*   Patient:    MOORE, LUTHER LAVELLE       ...</td>\n",
              "      <td>1</td>\n",
              "    </tr>\n",
              "    <tr>\n",
              "      <th>148</th>\n",
              "      <td>148</td>\n",
              "      <td>310</td>\n",
              "      <td>66940878</td>\n",
              "      <td>90116249</td>\n",
              "      <td>b\"* TX_RTF32 10.1.323.501* d469a1f3* EMORY UNI...</td>\n",
              "      <td>1</td>\n",
              "    </tr>\n",
              "    <tr>\n",
              "      <th>149</th>\n",
              "      <td>149</td>\n",
              "      <td>311</td>\n",
              "      <td>66738084</td>\n",
              "      <td>18912196</td>\n",
              "      <td>b\"EMORY UNIVERSITY HOSPITAL MIDTOWN SUMMARY NA...</td>\n",
              "      <td>1</td>\n",
              "    </tr>\n",
              "    <tr>\n",
              "      <th>150</th>\n",
              "      <td>150</td>\n",
              "      <td>138</td>\n",
              "      <td>66706858</td>\n",
              "      <td>70050005</td>\n",
              "      <td>*   Patient:    MYERS, PHILIP              MRN...</td>\n",
              "      <td>0</td>\n",
              "    </tr>\n",
              "  </tbody>\n",
              "</table>\n",
              "<p>151 rows × 6 columns</p>\n",
              "</div>\n",
              "      <button class=\"colab-df-convert\" onclick=\"convertToInteractive('df-5474d35e-119d-489b-96c3-b887126b5a49')\"\n",
              "              title=\"Convert this dataframe to an interactive table.\"\n",
              "              style=\"display:none;\">\n",
              "        \n",
              "  <svg xmlns=\"http://www.w3.org/2000/svg\" height=\"24px\"viewBox=\"0 0 24 24\"\n",
              "       width=\"24px\">\n",
              "    <path d=\"M0 0h24v24H0V0z\" fill=\"none\"/>\n",
              "    <path d=\"M18.56 5.44l.94 2.06.94-2.06 2.06-.94-2.06-.94-.94-2.06-.94 2.06-2.06.94zm-11 1L8.5 8.5l.94-2.06 2.06-.94-2.06-.94L8.5 2.5l-.94 2.06-2.06.94zm10 10l.94 2.06.94-2.06 2.06-.94-2.06-.94-.94-2.06-.94 2.06-2.06.94z\"/><path d=\"M17.41 7.96l-1.37-1.37c-.4-.4-.92-.59-1.43-.59-.52 0-1.04.2-1.43.59L10.3 9.45l-7.72 7.72c-.78.78-.78 2.05 0 2.83L4 21.41c.39.39.9.59 1.41.59.51 0 1.02-.2 1.41-.59l7.78-7.78 2.81-2.81c.8-.78.8-2.07 0-2.86zM5.41 20L4 18.59l7.72-7.72 1.47 1.35L5.41 20z\"/>\n",
              "  </svg>\n",
              "      </button>\n",
              "      \n",
              "  <style>\n",
              "    .colab-df-container {\n",
              "      display:flex;\n",
              "      flex-wrap:wrap;\n",
              "      gap: 12px;\n",
              "    }\n",
              "\n",
              "    .colab-df-convert {\n",
              "      background-color: #E8F0FE;\n",
              "      border: none;\n",
              "      border-radius: 50%;\n",
              "      cursor: pointer;\n",
              "      display: none;\n",
              "      fill: #1967D2;\n",
              "      height: 32px;\n",
              "      padding: 0 0 0 0;\n",
              "      width: 32px;\n",
              "    }\n",
              "\n",
              "    .colab-df-convert:hover {\n",
              "      background-color: #E2EBFA;\n",
              "      box-shadow: 0px 1px 2px rgba(60, 64, 67, 0.3), 0px 1px 3px 1px rgba(60, 64, 67, 0.15);\n",
              "      fill: #174EA6;\n",
              "    }\n",
              "\n",
              "    [theme=dark] .colab-df-convert {\n",
              "      background-color: #3B4455;\n",
              "      fill: #D2E3FC;\n",
              "    }\n",
              "\n",
              "    [theme=dark] .colab-df-convert:hover {\n",
              "      background-color: #434B5C;\n",
              "      box-shadow: 0px 1px 3px 1px rgba(0, 0, 0, 0.15);\n",
              "      filter: drop-shadow(0px 1px 2px rgba(0, 0, 0, 0.3));\n",
              "      fill: #FFFFFF;\n",
              "    }\n",
              "  </style>\n",
              "\n",
              "      <script>\n",
              "        const buttonEl =\n",
              "          document.querySelector('#df-5474d35e-119d-489b-96c3-b887126b5a49 button.colab-df-convert');\n",
              "        buttonEl.style.display =\n",
              "          google.colab.kernel.accessAllowed ? 'block' : 'none';\n",
              "\n",
              "        async function convertToInteractive(key) {\n",
              "          const element = document.querySelector('#df-5474d35e-119d-489b-96c3-b887126b5a49');\n",
              "          const dataTable =\n",
              "            await google.colab.kernel.invokeFunction('convertToInteractive',\n",
              "                                                     [key], {});\n",
              "          if (!dataTable) return;\n",
              "\n",
              "          const docLinkHtml = 'Like what you see? Visit the ' +\n",
              "            '<a target=\"_blank\" href=https://colab.research.google.com/notebooks/data_table.ipynb>data table notebook</a>'\n",
              "            + ' to learn more about interactive tables.';\n",
              "          element.innerHTML = '';\n",
              "          dataTable['output_type'] = 'display_data';\n",
              "          await google.colab.output.renderOutput(dataTable, element);\n",
              "          const docLink = document.createElement('div');\n",
              "          docLink.innerHTML = docLinkHtml;\n",
              "          element.appendChild(docLink);\n",
              "        }\n",
              "      </script>\n",
              "    </div>\n",
              "  </div>\n",
              "  "
            ]
          },
          "metadata": {},
          "execution_count": 23
        }
      ]
    },
    {
      "cell_type": "code",
      "source": [
        "print(Corpus['dcNoteFinal'])"
      ],
      "metadata": {
        "colab": {
          "base_uri": "https://localhost:8080/"
        },
        "id": "sqJDd2Tmj-yS",
        "outputId": "605dafc4-0593-44b8-ae6d-f1aed1cdba4e"
      },
      "execution_count": null,
      "outputs": [
        {
          "output_type": "stream",
          "name": "stdout",
          "text": [
            "0      *   Patient:    BOARD, CATHERINE              ...\n",
            "1      b\"EMORY UNIVERSITY HOSPITAL MIDTOWN SUMMARY NA...\n",
            "2      b\"EMORY UNIVERSITY HOSPITAL SUMMARY NAME:     ...\n",
            "3      b\"* TX_RTF32 10.1.323.501* d469a1f3* EMORY UNI...\n",
            "4      EMORY UNIVERSITY HOSPITAL SUMMARY NAME:       ...\n",
            "                             ...                        \n",
            "146    *   Patient:    WILMONT, SELENA R             ...\n",
            "147    b\"*   Patient:    MOORE, LUTHER LAVELLE       ...\n",
            "148    b\"* TX_RTF32 10.1.323.501* d469a1f3* EMORY UNI...\n",
            "149    b\"EMORY UNIVERSITY HOSPITAL MIDTOWN SUMMARY NA...\n",
            "150    *   Patient:    MYERS, PHILIP              MRN...\n",
            "Name: dcNoteFinal, Length: 151, dtype: object\n"
          ]
        }
      ]
    },
    {
      "cell_type": "code",
      "source": [
        "# Step - a : Remove blank rows if any.\n",
        "Corpus['dcNoteFinal'].dropna(inplace=True)"
      ],
      "metadata": {
        "id": "l_Zu7ZF4kbhE"
      },
      "execution_count": null,
      "outputs": []
    },
    {
      "cell_type": "code",
      "source": [
        "# Step - b : Change all the text to lower case. This is required as python interprets 'dog' and 'DOG' differently\n",
        "Corpus['dcNoteFinal'] = [entry.lower().replace('b\"','') for entry in Corpus['dcNoteFinal']]"
      ],
      "metadata": {
        "id": "ejK_rF4ykeCB"
      },
      "execution_count": null,
      "outputs": []
    },
    {
      "cell_type": "code",
      "source": [
        "print(Corpus['dcNoteFinal'])"
      ],
      "metadata": {
        "colab": {
          "base_uri": "https://localhost:8080/"
        },
        "id": "jktj4hSNkksu",
        "outputId": "373439f0-5b81-467a-ac34-187162d79231"
      },
      "execution_count": null,
      "outputs": [
        {
          "output_type": "stream",
          "name": "stdout",
          "text": [
            "0      *   patient:    board, catherine              ...\n",
            "1      emory university hospital midtown summary name...\n",
            "2      emory university hospital summary name:       ...\n",
            "3      * tx_rtf32 10.1.323.501* d469a1f3* emory unive...\n",
            "4      emory university hospital summary name:       ...\n",
            "                             ...                        \n",
            "146    *   patient:    wilmont, selena r             ...\n",
            "147    *   patient:    moore, luther lavelle         ...\n",
            "148    * tx_rtf32 10.1.323.501* d469a1f3* emory unive...\n",
            "149    emory university hospital midtown summary name...\n",
            "150    *   patient:    myers, philip              mrn...\n",
            "Name: dcNoteFinal, Length: 151, dtype: object\n"
          ]
        }
      ]
    },
    {
      "cell_type": "code",
      "source": [
        "print(Corpus['dcNoteFinal'][0])"
      ],
      "metadata": {
        "colab": {
          "base_uri": "https://localhost:8080/"
        },
        "id": "SELbL5vZkqgq",
        "outputId": "17eda0f1-9a2c-40a0-b79c-9550ad04bc15"
      },
      "execution_count": null,
      "outputs": [
        {
          "output_type": "stream",
          "name": "stdout",
          "text": [
            "*   patient:    board, catherine              mrn: euh_02058777              fin: 39093702276               age:    80 years      sex:   female      dob:   5/25/1932   associated diagnoses:    none   author:    sadeghi yarandi, shadi     discharge information   discharge summary information :         date of admission: 10/2/2012 .        date of discharge: 10/10/2012 .        reason for admission:  acute decompensated right side heart failure  .        discharge diagnosis:  congestive heart failure exacerbation severely depressed rv function. lvef 55%. atrial fibrillation s/p pacemaker. currently paced. rate controlled. copd diabetes mellituslast hgba!c 6.2% history of coronary artery disease chronic kidney disease stage iii gout   .     results review   radiology results     echocardiogram 8/2012:    1. left ventricular ejection fraction is 55%.  2. severely dilated left atrium.  3. severely dilated right atrium.  4. trivial pericardial effusion as described below.  5. mild tricuspid regurgitation.  6. plethoric ivc suggests high ra pressure (>20mmhg).  7. mild thickening of the mitral leaflets.  8. moderate mitral annular calcification.  9. moderately to severely reduced right ventricular systolic function. 10. severely enlarged right ventricular cavity size. 11. there is moderately elevated right ventricular systolic pressure. 12. bubble study is mildly positive in a pattern most consistent with a pfo. however, given the severe ra and rv enlargement, and asd cannot be excluded. clinical correlation is recommended.     hospital course   problem and hospital course   hospital course:  80 y/o african american female with coronary artery disease, cor pulmonale secondary to longstanding copd and hypoxemia on home oxygen, hypertension, diabetes mellitus, chronic kidney disease stage iii and gout who presented to emory university hospital ed complaining of worsening shortness of breath on mild exertion. patient was not responsive to iv lasix high dose, but did durese well with twice daily pulse doing of lasix with diuril. she was back to her baseline status after 8 days of aggressive diuresis, it was deemed that she would need torsemide for further diuresis as outpatient. of note she had transient episodes of diarrhea while inhouse stool studies were positive for wbc but cultures were all negative.  inr therapeutic upon discharge , patient will follow up with coumadin clinic.    .      discharge plan   discharge destination   home with family.      plan   education and follow-up :    diet and activity: diet ( 2 gram sodium, and fluid restriction - 2,000 cc/day ), and activity ( progress activity as tolerated ).   discharge planning:  patient will follow up with dr lutz. .  '\n"
          ]
        }
      ]
    },
    {
      "cell_type": "code",
      "source": [
        "import nltk\n",
        "nltk.download('punkt')"
      ],
      "metadata": {
        "colab": {
          "base_uri": "https://localhost:8080/"
        },
        "id": "k9DF2m3xlRiZ",
        "outputId": "52c9f609-3e8c-4706-fb35-d1c5a5a2ef9d"
      },
      "execution_count": null,
      "outputs": [
        {
          "output_type": "stream",
          "name": "stderr",
          "text": [
            "[nltk_data] Downloading package punkt to /root/nltk_data...\n",
            "[nltk_data]   Package punkt is already up-to-date!\n"
          ]
        },
        {
          "output_type": "execute_result",
          "data": {
            "text/plain": [
              "True"
            ]
          },
          "metadata": {},
          "execution_count": 26
        }
      ]
    },
    {
      "cell_type": "code",
      "source": [
        "# Step - b2: remove punctuation\n",
        "\n",
        "from nltk.tokenize import RegexpTokenizer\n",
        "\n",
        "tokenizer = RegexpTokenizer(r'\\w+')\n",
        "Corpus['dcNoteFinal'] = [tokenizer.tokenize(entry) for entry in Corpus['dcNoteFinal']]\n",
        "#tokenizer.tokenize('Eighty-seven miles to go, yet.  Onward!')\n"
      ],
      "metadata": {
        "id": "hqcOro2aloiX"
      },
      "execution_count": null,
      "outputs": []
    },
    {
      "cell_type": "code",
      "source": [
        "print(Corpus['dcNoteFinal'][1])"
      ],
      "metadata": {
        "colab": {
          "base_uri": "https://localhost:8080/"
        },
        "id": "XzTBiaIAmFrY",
        "outputId": "337bcace-072d-4fc4-bcbe-d80a83bba076"
      },
      "execution_count": null,
      "outputs": [
        {
          "output_type": "stream",
          "name": "stdout",
          "text": [
            "['emory', 'university', 'hospital', 'midtown', 'summary', 'name', 'logan', 'la', 'shawn', 'nicole', '3042739', 'no', '36004532284', 'date', '10', '11', '2012', 'date', '10', '14', '2012', 'no', '058570', 'md', 'imran', 'baloch', 'm', 'd', 'nephrologist', 'dr', 'jason', 'cobb', 'care', 'physician', 'dr', 'george', 'jones', 'diagnoses', 'chest', 'pain', 'workup', 'negative', 'with', 'a', 'vq', 'scan', 'hypertensive', 'urgency', 'now', 'blood', 'pressure', 'in', 'much', 'better', 'control', 'chronic', 'kidney', 'disease', 'progressing', 'to', 'stage', '5', 'human', 'immunodeficiency', 'virus', 'disease', 'history', 'of', 'chronic', 'back', 'pain', 'history', 'of', 'dilated', 'cardiomyopathy', 'with', 'last', 'ejection', 'fraction', 'being', '55', 'in', '07', '2012', 'which', 'is', 'an', 'improvement', 'from', 'an', 'echocardiogram', '02', '2012', 'when', 'it', 'was', '30', 'to', '35', 'medications', 'ziagen', '300', 'mg', '2', 'tabs', 'by', 'mouth', 'every', 'day', 'aspirin', '81', 'mg', 'p', 'o', 'daily', 'atorvastatin', '40', 'mg', '1', 'tab', 'by', 'mouth', 'daily', 'clonidine', '0', '2', 'mg', '1', 'tab', 'by', 'mouth', 'twice', 'a', 'day', 'darunavir', '600', 'mg', '1', 'tab', 'by', 'mouth', 'every', '12', 'hours', 'lasix', '80', 'mg', 'p', 'o', 'daily', 'labetalol', '200', 'mg', '1', 'tab', 'by', 'mouth', 'twice', 'a', 'day', 'lamivudine', '10', 'mg', 'ml', '2', '5', 'ml', 'every', '24', 'hours', 'nifedipine', '60', 'mg', 'extended', 'release', 'twice', 'a', 'day', 'oxycodone', '5', 'mg', '1', 'tab', 'by', 'mouth', 'every', '6', 'hours', 'norvir', '100', 'mg', '1', 'tab', 'every', '12', 'hours', 'follow', 'up', 'with', 'your', 'primary', 'care', 'physician', '1', '2', 'weeks', 'follow', 'up', 'with', 'dr', 'jason', 'cobb', 'within', '1', 'week', 'and', 'diagnostic', 'studies', 'done', 'during', 'this', 'admission', 'the', 'patient', 'had', 'a', 'chest', 'ray', 'done', 'on', 'the', '10th', 'which', 'showed', 'no', 'acute', 'cardiopulmonary', 'abnormality', 'mild', 'cardiomegaly', 'a', 'lung', 'perfusion', 'scan', 'was', 'done', 'which', 'showed', 'vq', 'is', 'normal', 'without', 'evidence', 'of', 'pulmonary', 'embolism', 'hospital', 'course', 'in', 'brief', 'this', 'is', 'a', '40', 'year', 'old', 'transgender', 'to', 'female', 'although', 'she', 'has', 'not', 'undergone', 'any', 'surgeries', 'has', 'had', 'hormonal', 'in', 'the', 'past', 'not', 'currently', 'on', 'it', 'who', 'presented', 'to', 'the', 'hospital', 'on', 'the', '11', '2012', 'with', 'complaints', 'of', 'having', 'shortness', 'of', 'breath', 'and', 'chest', 'pain', 'and', 'having', 'nausea', 'and', 'vomiting', '4', 'days', 'prior', 'she', 'was', 'found', 'to', 'have', 'a', 'blood', 'of', '263', '174', 'and', 'a', 'heart', 'rate', 'of', '117', 'initially', 'was', 'admitted', 'to', 'the', 'icu', 'her', 'blood', 'pressure', 'was', 'controlled', 'with', 'iv', 'antihypertensives', 'and', 'then', 'was', 'to', 'oral', 'and', 'transferred', 'to', 'our', 'service', 'the', 'chest', 'pain', 'she', 'had', 'in', 'february', 'a', 'stress', 'test', 'done', 'which', 'was', 'normal', 'had', 'a', 'troponin', 'of', '0', '18', 'which', 'peaked', 'to', 'a', 'troponin', 'of', '0', '35', 'and', 'has', 'since', 'down', 'to', '0', '10', 'her', 'troponinemia', 'is', 'likely', 'secondary', 'to', 'her', 'hypertension', 'in', 'setting', 'of', 'ckd', 'given', 'her', 'last', 'negative', 'stress', 'test', 'no', 'further', 'cardiac', 'was', 'done', 'the', 'floor', 'her', 'blood', 'pressure', 'remained', 'stable', 'from', 'the', 'last', 'discharge', 'i', 'see', 'that', 'she', 'was', 'discharged', 'on', 'coreg', 'but', 'the', 'patient', 'stated', 'that', 'she', 'still', 'taking', 'labetalol', 'and', 'this', 'was', 'also', 'noted', 'on', 'the', 'last', 'note', 'from', 'renal', 'she', 'was', 'on', 'labetalol', 'and', 'nifedipine', 'she', 'recalls', 'the', 'medications', 'in', 'terms', 'dose', 'timing', 'similar', 'to', 'her', 'renal', 'medication', 'regimen', 'and', 'discharging', 'her', 'on', 'regimen', 'she', 'she', 'has', 'intermittently', 'back', 'pain', 'which', 'has', 'been', 'going', 'on', 'a', 'couple', 'of', 'years', 'which', 'she', 'relates', 'to', 'a', 'fall', 'for', 'which', 'she', 'has', 'been', 'given', 'limited', 'supply', 'of', 'oxycodone', 'also', 'baloch', 'm', 'd', 'medq', '10', '14', '2012', '10', '15', '2012', '534417717', 'mq', 'jason', 'cobb', 'm', 'd']\n"
          ]
        }
      ]
    },
    {
      "cell_type": "code",
      "source": [
        "print(Corpus['dcNoteFinal'][0])"
      ],
      "metadata": {
        "colab": {
          "base_uri": "https://localhost:8080/"
        },
        "id": "U2BCj2kFlWwk",
        "outputId": "362e9e41-0f11-4cee-ce91-034f8f593864"
      },
      "execution_count": null,
      "outputs": [
        {
          "output_type": "stream",
          "name": "stdout",
          "text": [
            "['patient', 'board', 'catherine', 'mrn', 'euh_02058777', 'fin', '39093702276', 'age', '80', 'years', 'sex', 'female', 'dob', '5', '25', '1932', 'associated', 'diagnoses', 'none', 'author', 'sadeghi', 'yarandi', 'shadi', 'discharge', 'information', 'discharge', 'summary', 'information', 'date', 'of', 'admission', '10', '2', '2012', 'date', 'of', 'discharge', '10', '10', '2012', 'reason', 'for', 'admission', 'acute', 'decompensated', 'right', 'side', 'heart', 'failure', 'discharge', 'diagnosis', 'congestive', 'heart', 'failure', 'exacerbation', 'severely', 'depressed', 'rv', 'function', 'lvef', '55', 'atrial', 'fibrillation', 's', 'p', 'pacemaker', 'currently', 'paced', 'rate', 'controlled', 'copd', 'diabetes', 'mellituslast', 'hgba', 'c', '6', '2', 'history', 'of', 'coronary', 'artery', 'disease', 'chronic', 'kidney', 'disease', 'stage', 'iii', 'gout', 'results', 'review', 'radiology', 'results', 'echocardiogram', '8', '2012', '1', 'left', 'ventricular', 'ejection', 'fraction', 'is', '55', '2', 'severely', 'dilated', 'left', 'atrium', '3', 'severely', 'dilated', 'right', 'atrium', '4', 'trivial', 'pericardial', 'effusion', 'as', 'described', 'below', '5', 'mild', 'tricuspid', 'regurgitation', '6', 'plethoric', 'ivc', 'suggests', 'high', 'ra', 'pressure', '20mmhg', '7', 'mild', 'thickening', 'of', 'the', 'mitral', 'leaflets', '8', 'moderate', 'mitral', 'annular', 'calcification', '9', 'moderately', 'to', 'severely', 'reduced', 'right', 'ventricular', 'systolic', 'function', '10', 'severely', 'enlarged', 'right', 'ventricular', 'cavity', 'size', '11', 'there', 'is', 'moderately', 'elevated', 'right', 'ventricular', 'systolic', 'pressure', '12', 'bubble', 'study', 'is', 'mildly', 'positive', 'in', 'a', 'pattern', 'most', 'consistent', 'with', 'a', 'pfo', 'however', 'given', 'the', 'severe', 'ra', 'and', 'rv', 'enlargement', 'and', 'asd', 'cannot', 'be', 'excluded', 'clinical', 'correlation', 'is', 'recommended', 'hospital', 'course', 'problem', 'and', 'hospital', 'course', 'hospital', 'course', '80', 'y', 'o', 'african', 'american', 'female', 'with', 'coronary', 'artery', 'disease', 'cor', 'pulmonale', 'secondary', 'to', 'longstanding', 'copd', 'and', 'hypoxemia', 'on', 'home', 'oxygen', 'hypertension', 'diabetes', 'mellitus', 'chronic', 'kidney', 'disease', 'stage', 'iii', 'and', 'gout', 'who', 'presented', 'to', 'emory', 'university', 'hospital', 'ed', 'complaining', 'of', 'worsening', 'shortness', 'of', 'breath', 'on', 'mild', 'exertion', 'patient', 'was', 'not', 'responsive', 'to', 'iv', 'lasix', 'high', 'dose', 'but', 'did', 'durese', 'well', 'with', 'twice', 'daily', 'pulse', 'doing', 'of', 'lasix', 'with', 'diuril', 'she', 'was', 'back', 'to', 'her', 'baseline', 'status', 'after', '8', 'days', 'of', 'aggressive', 'diuresis', 'it', 'was', 'deemed', 'that', 'she', 'would', 'need', 'torsemide', 'for', 'further', 'diuresis', 'as', 'outpatient', 'of', 'note', 'she', 'had', 'transient', 'episodes', 'of', 'diarrhea', 'while', 'inhouse', 'stool', 'studies', 'were', 'positive', 'for', 'wbc', 'but', 'cultures', 'were', 'all', 'negative', 'inr', 'therapeutic', 'upon', 'discharge', 'patient', 'will', 'follow', 'up', 'with', 'coumadin', 'clinic', 'discharge', 'plan', 'discharge', 'destination', 'home', 'with', 'family', 'plan', 'education', 'and', 'follow', 'up', 'diet', 'and', 'activity', 'diet', '2', 'gram', 'sodium', 'and', 'fluid', 'restriction', '2', '000', 'cc', 'day', 'and', 'activity', 'progress', 'activity', 'as', 'tolerated', 'discharge', 'planning', 'patient', 'will', 'follow', 'up', 'with', 'dr', 'lutz']\n"
          ]
        }
      ]
    },
    {
      "cell_type": "code",
      "source": [
        "import nltk\n",
        "nltk.download('wordnet')\n",
        "nltk.download('omw-1.4')\n",
        "nltk.download('averaged_perceptron_tagger')\n",
        "nltk.download('stopwords')"
      ],
      "metadata": {
        "colab": {
          "base_uri": "https://localhost:8080/"
        },
        "id": "mJ_KYs1aodx0",
        "outputId": "df663a06-a7a0-4ba2-b7b0-f3521a72330c"
      },
      "execution_count": null,
      "outputs": [
        {
          "output_type": "stream",
          "name": "stderr",
          "text": [
            "[nltk_data] Downloading package wordnet to /root/nltk_data...\n",
            "[nltk_data]   Package wordnet is already up-to-date!\n",
            "[nltk_data] Downloading package omw-1.4 to /root/nltk_data...\n",
            "[nltk_data]   Package omw-1.4 is already up-to-date!\n",
            "[nltk_data] Downloading package averaged_perceptron_tagger to\n",
            "[nltk_data]     /root/nltk_data...\n",
            "[nltk_data]   Package averaged_perceptron_tagger is already up-to-\n",
            "[nltk_data]       date!\n",
            "[nltk_data] Downloading package stopwords to /root/nltk_data...\n",
            "[nltk_data]   Package stopwords is already up-to-date!\n"
          ]
        },
        {
          "output_type": "execute_result",
          "data": {
            "text/plain": [
              "True"
            ]
          },
          "metadata": {},
          "execution_count": 28
        }
      ]
    },
    {
      "cell_type": "code",
      "source": [
        "# Step - d : Remove Stop words, Non-Numeric and perfom Word Stemming/Lemmenting.\n",
        "# WordNetLemmatizer requires Pos tags to understand if the word is noun or verb or adjective etc. By default it is set to Noun\n",
        "tag_map = defaultdict(lambda : wn.NOUN)\n",
        "tag_map['J'] = wn.ADJ\n",
        "tag_map['V'] = wn.VERB\n",
        "tag_map['R'] = wn.ADV\n",
        "for index,entry in enumerate(Corpus['dcNoteFinal']):\n",
        "    # Declaring Empty List to store the words that follow the rules for this step\n",
        "    Final_words = []\n",
        "    # Initializing WordNetLemmatizer()\n",
        "    word_Lemmatized = WordNetLemmatizer()\n",
        "    # pos_tag function below will provide the 'tag' i.e if the word is Noun(N) or Verb(V) or something else.\n",
        "    for word, tag in pos_tag(entry):\n",
        "        # Below condition is to check for Stop words and consider only alphabets\n",
        "        if word not in stopwords.words('english') and word.isalpha():\n",
        "            word_Final = word_Lemmatized.lemmatize(word,tag_map[tag[0]])\n",
        "            Final_words.append(word_Final)\n",
        "    # The final processed set of words for each iteration will be stored in 'text_final'\n",
        "    Corpus.loc[index,'text_final'] = str(Final_words)"
      ],
      "metadata": {
        "id": "PRvWXKtPlifL"
      },
      "execution_count": null,
      "outputs": []
    },
    {
      "cell_type": "code",
      "source": [
        "Train_X, Test_X, Train_Y, Test_Y = model_selection.train_test_split(Corpus['text_final'],Corpus['Tag'],test_size=0.3)"
      ],
      "metadata": {
        "id": "EIw1qqWgo6AN"
      },
      "execution_count": null,
      "outputs": []
    },
    {
      "cell_type": "code",
      "source": [
        "print(Corpus['text_final'].shape)"
      ],
      "metadata": {
        "id": "_uwuFkazpw52"
      },
      "execution_count": null,
      "outputs": []
    },
    {
      "cell_type": "code",
      "source": [
        "Encoder = LabelEncoder()\n",
        "Y = Encoder.fit_transform(Corpus['Tag'])"
      ],
      "metadata": {
        "id": "4nYyuLCjRl0f"
      },
      "execution_count": null,
      "outputs": []
    },
    {
      "cell_type": "code",
      "source": [
        "Tfidf_vect = TfidfVectorizer(max_features=5000)\n",
        "Tfidf_vect.fit(Corpus['text_final'])\n",
        "X = Tfidf_vect.transform(Corpus['text_final'])"
      ],
      "metadata": {
        "id": "8UA4FzN4RwNv"
      },
      "execution_count": null,
      "outputs": []
    },
    {
      "cell_type": "code",
      "source": [
        "Encoder = LabelEncoder()\n",
        "Train_Y = Encoder.fit_transform(Train_Y)\n",
        "Test_Y = Encoder.fit_transform(Test_Y)"
      ],
      "metadata": {
        "id": "KkyMCGSap4G3"
      },
      "execution_count": null,
      "outputs": []
    },
    {
      "cell_type": "code",
      "source": [
        "Tfidf_vect = TfidfVectorizer(max_features=5000)\n",
        "Tfidf_vect.fit(Corpus['text_final'])\n",
        "Train_X_Tfidf = Tfidf_vect.transform(Train_X)\n",
        "Test_X_Tfidf = Tfidf_vect.transform(Test_X)"
      ],
      "metadata": {
        "id": "8WhkQNakp4K5"
      },
      "execution_count": null,
      "outputs": []
    },
    {
      "cell_type": "code",
      "source": [
        "print(Tfidf_vect.vocabulary_)"
      ],
      "metadata": {
        "colab": {
          "base_uri": "https://localhost:8080/"
        },
        "id": "WfNlx-m_p9Gy",
        "outputId": "874ee514-fcc5-4bf9-ccd8-688e54ec562e"
      },
      "execution_count": null,
      "outputs": [
        {
          "output_type": "stream",
          "name": "stdout",
          "text": [
            "{'patient': 3393, 'board': 619, 'catherine': 802, 'mrn': 2989, 'fin': 1722, 'age': 122, 'year': 4974, 'sex': 3980, 'female': 1706, 'dob': 1451, 'associated': 403, 'diagnosis': 1370, 'none': 3152, 'author': 452, 'sadeghi': 3861, 'yarandi': 4972, 'shadi': 3983, 'discharge': 1417, 'information': 2237, 'summary': 4281, 'date': 1264, 'admission': 92, 'reason': 3683, 'acute': 65, 'decompensated': 1292, 'right': 3809, 'side': 4016, 'heart': 1944, 'failure': 1686, 'congestive': 1072, 'exacerbation': 1643, 'severely': 3978, 'depress': 1345, 'rv': 3853, 'function': 1784, 'lvef': 2692, 'atrial': 426, 'fibrillation': 1714, 'pacemaker': 3351, 'currently': 1225, 'pace': 3350, 'rate': 3672, 'control': 1121, 'copd': 1139, 'diabetes': 1366, 'mellituslast': 2826, 'hgba': 2008, 'history': 2017, 'coronary': 1147, 'artery': 376, 'disease': 1423, 'chronic': 897, 'kidney': 2457, 'stage': 4167, 'iii': 2143, 'gout': 1850, 'result': 3781, 'review': 3793, 'radiology': 3661, 'echocardiogram': 1520, 'leave': 2552, 'ventricular': 4799, 'ejection': 1540, 'fraction': 1771, 'dilated': 1400, 'atrium': 429, 'trivial': 4611, 'pericardial': 3427, 'effusion': 1536, 'describe': 1351, 'mild': 2892, 'tricuspid': 4602, 'regurgitation': 3725, 'ivc': 2369, 'suggest': 4273, 'high': 2013, 'ra': 3653, 'pressure': 3550, 'thickening': 4434, 'mitral': 2926, 'leaflet': 2548, 'moderate': 2946, 'annular': 267, 'calcification': 716, 'moderately': 2947, 'reduce': 3709, 'systolic': 4350, 'enlarged': 1590, 'cavity': 815, 'size': 4049, 'elevated': 1551, 'bubble': 689, 'study': 4240, 'mildly': 2893, 'positive': 3507, 'pattern': 3396, 'consistent': 1087, 'pfo': 3446, 'however': 2049, 'give': 1829, 'severe': 3977, 'enlargement': 1591, 'asd': 388, 'cannot': 745, 'exclude': 1652, 'clinical': 940, 'correlation': 1151, 'recommend': 3694, 'hospital': 2042, 'course': 1175, 'problem': 3566, 'african': 116, 'american': 205, 'cor': 1140, 'secondary': 3933, 'longstanding': 2653, 'hypoxemia': 2118, 'home': 2030, 'oxygen': 3347, 'hypertension': 2090, 'mellitus': 2825, 'present': 3545, 'emory': 1567, 'university': 4686, 'ed': 1525, 'complaining': 1032, 'worsen': 4955, 'shortness': 4006, 'breath': 661, 'exertion': 1656, 'responsive': 3774, 'iv': 2368, 'lasix': 2524, 'dose': 1465, 'well': 4901, 'twice': 4636, 'daily': 1253, 'pulse': 3623, 'diuril': 1439, 'back': 483, 'baseline': 509, 'status': 4185, 'day': 1269, 'aggressive': 124, 'diuresis': 1436, 'deem': 1304, 'would': 4958, 'need': 3063, 'torsemide': 4531, 'outpatient': 3331, 'note': 3176, 'transient': 4573, 'episode': 1608, 'diarrhea': 1377, 'inhouse': 2249, 'stool': 4216, 'wbc': 4886, 'culture': 1220, 'negative': 3067, 'inr': 2269, 'therapeutic': 4426, 'upon': 4707, 'follow': 1759, 'coumadin': 1167, 'clinic': 939, 'plan': 3473, 'destination': 1354, 'family': 1690, 'education': 1529, 'diet': 1383, 'activity': 61, 'gram': 1861, 'sodium': 4084, 'fluid': 1751, 'restriction': 3779, 'cc': 818, 'progress': 3579, 'tolerated': 4510, 'dr': 1470, 'lutz': 2688, 'midtown': 2888, 'name': 3034, 'logan': 2648, 'la': 2486, 'shawn': 3990, 'nicole': 3116, 'md': 2795, 'imran': 2181, 'baloch': 498, 'nephrologist': 3074, 'jason': 2384, 'cobb': 966, 'care': 779, 'physician': 3463, 'george': 1817, 'jones': 2412, 'diagnose': 1369, 'chest': 878, 'pain': 3359, 'workup': 4950, 'vq': 4860, 'scan': 3900, 'hypertensive': 2091, 'urgency': 4722, 'blood': 608, 'much': 2995, 'good': 1848, 'human': 2057, 'immunodeficiency': 2160, 'virus': 4832, 'dilate': 1399, 'cardiomyopathy': 769, 'last': 2526, 'improvement': 2178, 'medication': 2810, 'ziagen': 4990, 'mg': 2869, 'tab': 4354, 'mouth': 2981, 'every': 1640, 'aspirin': 396, 'atorvastatin': 422, 'clonidine': 945, 'darunavir': 1262, 'hour': 2045, 'labetalol': 2488, 'lamivudine': 2509, 'ml': 2930, 'nifedipine': 3120, 'extend': 1668, 'release': 3733, 'oxycodone': 3346, 'norvir': 3173, 'primary': 3560, 'week': 4894, 'within': 4939, 'diagnostic': 1371, 'do': 1450, 'ray': 3674, 'show': 4009, 'cardiopulmonary': 771, 'abnormality': 15, 'cardiomegaly': 768, 'lung': 2686, 'perfusion': 3426, 'normal': 3163, 'without': 4940, 'evidence': 1641, 'pulmonary': 3621, 'embolism': 1559, 'brief': 667, 'old': 3250, 'transgender': 4572, 'although': 191, 'undergone': 4667, 'surgery': 4308, 'hormonal': 2036, 'past': 3385, 'complaint': 1034, 'nausea': 3049, 'vomit': 4855, 'prior': 3562, 'find': 1725, 'initially': 2252, 'admit': 93, 'icu': 2128, 'antihypertensive': 297, 'oral': 3295, 'transfer': 4567, 'service': 3970, 'february': 1696, 'stress': 4228, 'test': 4418, 'troponin': 4615, 'peak': 3408, 'since': 4032, 'troponinemia': 4616, 'likely': 2609, 'set': 3972, 'ckd': 918, 'cardiac': 763, 'floor': 1747, 'remain': 3735, 'stable': 4165, 'see': 3938, 'coreg': 1143, 'state': 4182, 'still': 4207, 'take': 4367, 'also': 182, 'renal': 3742, 'recall': 3686, 'term': 4409, 'time': 4485, 'similar': 4026, 'regimen': 3720, 'intermittently': 2296, 'go': 1842, 'couple': 1174, 'relate': 3729, 'fall': 1689, 'limited': 2614, 'supply': 4295, 'medq': 2813, 'mq': 2985, 'rook': 3833, 'voncile': 4857, 'vasilis': 4773, 'babaliaros': 480, 'non': 3144, 'st': 4162, 'elevation': 1552, 'myocardial': 3025, 'infarction': 2221, 'atherosclerotic': 418, 'peripheral': 3433, 'vascular': 4769, 'obstructive': 3223, 'recently': 3690, 'endovascular': 1584, 'repair': 3745, 'abdominal': 7, 'aneurysm': 245, 'previous': 3558, 'abnormal': 14, 'cath': 800, 'stenosis': 4191, 'left': 2554, 'circumflex': 912, 'medically': 2809, 'intervention': 2310, 'underwent': 4673, 'versus': 4808, 'condition': 1059, 'outside': 3335, 'hypotension': 2109, 'pe': 3407, 'exam': 1644, 'dry': 1482, 'cause': 809, 'leak': 2550, 'insufficiency': 2280, 'initial': 2251, 'creatinine': 1195, 'improve': 2176, 'think': 4437, 'start': 4179, 'steroid': 4201, 'taper': 4378, 'previously': 3559, 'treat': 4595, 'bring': 671, 'receive': 3688, 'mm': 2933, 'integrity': 2285, 'bare': 502, 'metal': 2845, 'stent': 4192, 'excellent': 1648, 'residual': 3763, 'telemetry': 4395, 'breathe': 662, 'treatment': 4597, 'breathing': 663, 'significantly': 4023, 'troponins': 4617, 'trend': 4599, 'transthoracic': 4584, 'aortic': 312, 'valve': 4754, 'area': 351, 'structural': 4234, 'return': 3787, 'month': 2963, 'percutaneous': 3423, 'replacement': 3748, 'followup': 1761, 'surgeon': 4307, 'veeraswamy': 4781, 'approximately': 341, 'appointment': 334, 'team': 4386, 'ask': 389, 'doctor': 1454, 'john': 2407, 'glenn': 1832, 'eastman': 1513, 'georgia': 1818, 'management': 2734, 'therapy': 4427, 'make': 2720, 'martha': 2756, 'smith': 4070, 'general': 1809, 'wilson': 4927, 'pa': 3348, 'sosebee': 4109, 'peggy': 3412, 'encounter': 1575, 'attend': 434, 'niall': 3110, 'galloway': 1796, 'urinary': 4727, 'incontinence': 2196, 'neurogenic': 3086, 'bladder': 596, 'procedure': 3567, 'perform': 3425, 'urethral': 4721, 'closure': 950, 'martius': 2758, 'flap': 1741, 'anterior': 278, 'vaginal': 4746, 'advancement': 101, 'suprapubic': 4301, 'tube': 4627, 'placement': 3472, 'illness': 2150, 'multiple': 3006, 'stroke': 4232, 'subsequent': 4256, 'paraplegia': 3370, 'suffer': 4270, 'many': 2740, 'almost': 173, 'constantly': 1093, 'unable': 4657, 'void': 4850, 'command': 1011, 'ulcer': 4649, 'complicate': 1043, 'already': 181, 'colostomy': 998, 'several': 3976, 'ago': 130, 'assist': 399, 'interested': 2290, 'pursue': 3627, 'discussion': 1422, 'risk': 3815, 'benefit': 542, 'alternative': 189, 'potential': 3521, 'complication': 1045, 'consent': 1081, 'procedures': 3568, 'preoperative': 3537, 'include': 2191, 'lab': 2487, 'ekg': 1541, 'operating': 3275, 'room': 3834, 'tolerate': 4509, 'pacu': 3357, 'postoperative': 3515, 'notable': 3174, 'anemia': 241, 'hemoglobin': 1982, 'hypotensive': 2110, 'transfuse': 4569, 'unit': 4684, 'packed': 3355, 'red': 3706, 'cell': 834, 'appropriate': 338, 'response': 3773, 'stay': 4186, 'wound': 4959, 'sacrum': 3860, 'buttock': 707, 'local': 2640, 'application': 332, 'zinc': 4992, 'base': 508, 'barrier': 505, 'cream': 1191, 'otherwise': 3323, 'unremarkable': 4692, 'combination': 1003, 'regular': 3724, 'adequate': 80, 'bowel': 636, 'able': 12, 'achieve': 48, 'usual': 4736, 'level': 2572, 'physical': 3461, 'remove': 3741, 'incident': 2187, 'labial': 2489, 'drain': 1471, 'ready': 3682, 'afebrile': 111, 'vital': 4842, 'sign': 4018, 'provide': 3604, 'prescription': 3543, 'instruction': 2278, 'visit': 4836, 'voice': 4849, 'understanding': 4671, 'nursing': 3206, 'afternoon': 118, 'strenuous': 4226, 'driving': 1478, 'narcotic': 3039, 'may': 2776, 'shower': 4010, 'wash': 4877, 'soap': 4081, 'water': 4880, 'pat': 3386, 'continue': 1110, 'sores': 4107, 'catheter': 805, 'instruct': 2277, 'nurse': 3205, 'refer': 3712, 'percocet': 3422, 'tablet': 4356, 'calmoseptine': 732, 'topical': 4524, 'ointment': 3249, 'apply': 333, 'sore': 4106, 'clean': 930, 'affect': 112, 'indicate': 2207, 'paperwork': 3368, 'special': 4121, 'er': 1611, 'fever': 1710, 'great': 1868, 'inability': 2183, 'anything': 308, 'redness': 3707, 'around': 358, 'incision': 2190, 'bloody': 609, 'purulent': 3628, 'drainage': 1472, 'concern': 1054, 'contact': 1101, 'regard': 3719, 'andrew': 239, 'michigan': 2874, 'dd': 1272, 'dt': 1484, 'milne': 2898, 'tavr': 4382, 'evaluation': 1634, 'observation': 3218, 'medical': 2808, 'trileaflet': 4606, 'calcific': 715, 'cm': 955, 'square': 4154, 'symptomatic': 4340, 'dyspnea': 1503, 'symptom': 4339, 'nyha': 3209, 'class': 926, 'post': 3511, 'bypass': 710, 'grafting': 1860, 'vessel': 4812, 'graft': 1859, 'lima': 2610, 'lad': 2502, 'svgs': 4321, 'diagonal': 1372, 'om': 3251, 'pda': 3406, 'catheterization': 806, 'patent': 3390, 'occlude': 3232, 'native': 3046, 'rca': 3676, 'require': 3755, 'rest': 3776, 'sinus': 4039, 'bradycardia': 648, 'bundle': 697, 'branch': 653, 'block': 604, 'hyperlipidemia': 2085, 'echocardiography': 1522, 'carotid': 787, 'duplex': 1489, 'ultrasound': 4654, 'low': 2671, 'extremity': 1677, 'angiography': 256, 'ct': 1214, 'abdomen': 6, 'pelvis': 3414, 'cardiothoracic': 773, 'pleasant': 3480, 'gentleman': 1816, 'prescribe': 3541, 'indication': 2209, 'favorable': 1695, 'transfemoral': 4566, 'option': 3293, 'undergo': 4666, 'anulus': 302, 'measurement': 2801, 'anywhere': 309, 'internal': 2297, 'luminal': 2683, 'diameter': 1375, 'appear': 327, 'significant': 4022, 'circumferential': 911, 'calcium': 721, 'iliofemoral': 2147, 'tree': 4598, 'overall': 3339, 'heavily': 1949, 'calcify': 718, 'predict': 3530, 'partner': 3383, 'protocol': 3602, 'qualify': 3639, 'trial': 4600, 'velocity': 4786, 'gradient': 1855, 'evaluate': 1633, 'agree': 131, 'surgical': 4309, 'candidate': 743, 'enrollment': 1593, 'cohort': 977, 'modality': 2943, 'though': 4449, 'lvot': 2694, 'probably': 3565, 'idea': 2131, 'balloon': 496, 'concurrent': 1058, 'aortography': 313, 'assess': 397, 'implantation': 2171, 'decide': 1288, 'whether': 4912, 'remainder': 3736, 'cardiology': 767, 'schedule': 3906, 'testing': 4420, 'might': 2889, 'ii': 2141, 'detail': 1355, 'available': 459, 'randomization': 3667, 'savr': 3891, 'arm': 356, 'unchanged': 4661, 'please': 3481, 'reconciliation': 3698, 'cardiologist': 766, 'johnson': 2409, 'aiken': 139, 'south': 4113, 'carolina': 785, 'kanitkar': 2433, 'wright': 4960, 'lyle': 2695, 'elective': 1544, 'transcatheter': 4561, 'part': 3378, 'nest': 3079, 'registry': 3723, 'list': 2625, 'enrol': 1592, 'unfortunately': 4682, 'table': 4355, 'annulus': 268, 'large': 2519, 'fit': 1735, 'hence': 1987, 'postpone': 3518, 'approach': 337, 'common': 1015, 'femoral': 1707, 'delivery': 1332, 'system': 4348, 'abort': 18, 'due': 1487, 'technical': 4390, 'malfunction': 2724, 'device': 1362, 'develop': 1360, 'hematoma': 1966, 'pseudoaneurysm': 3608, 'incidental': 2188, 'appendage': 328, 'thrombus': 4468, 'hold': 2025, 'preoperatively': 3538, 'preparation': 3539, 'heparin': 1993, 'drip': 1476, 'immediately': 2157, 'range': 3670, 'early': 1511, 'heparinization': 1994, 'groin': 1874, 'rima': 3812, 'completely': 1037, 'multifactorial': 3002, 'ischemic': 2356, 'valvular': 4755, 'flutter': 1753, 'chronically': 898, 'anticoagulated': 292, 'type': 4640, 'dyslipidemia': 1500, 'visual': 4838, 'impairment': 2167, 'bilaterally': 573, 'contrast': 1118, 'caucasian': 808, 'nasa': 3042, 'aerospace': 109, 'live': 2628, 'could': 1166, 'implant': 2169, 'edward': 1530, 'sapien': 3878, 'interim': 2292, 'valvuloplasty': 4756, 'electively': 1545, 'xt': 4971, 'nested': 3080, 'new': 3099, 'lower': 2672, 'pfts': 3447, 'luckily': 2681, 'sheath': 3992, 'introduction': 2331, 'introduce': 2329, 'successfully': 4267, 'trace': 4546, 'perivalvular': 3434, 'standpoint': 4173, 'functional': 1785, 'capacity': 753, 'occur': 3239, 'bleed': 600, 'arteriotomy': 374, 'venotomy': 4791, 'site': 4045, 'wife': 4918, 'daughter': 1265, 'goal': 1843, 'triamterene': 4601, 'hydrochlorothiazide': 2069, 'diuretic': 1437, 'zilincik': 4991, 'albert': 151, 'male': 2723, 'khalil': 2454, 'mazen': 2779, 'active': 59, 'snomed': 4079, 'confirm': 1065, 'laboratory': 2491, 'activate': 57, 'clotting': 953, 'act': 56, 'lr': 2677, 'poct': 3495, 'second': 3931, 'hi': 2009, 'mmol': 2936, 'potassium': 3520, 'chloride': 887, 'carbon': 758, 'dioxide': 1409, 'ag': 121, 'osmolality': 3314, 'calculate': 722, 'mosm': 2975, 'kg': 2453, 'glucose': 1839, 'dl': 1446, 'urea': 4718, 'nitrogen': 3132, 'gfr': 1823, 'footnote': 1764, 'total': 4533, 'cholesterol': 891, 'triglyceride': 4604, 'hdl': 1936, 'ldl': 2545, 'vldl': 4848, 'chd': 871, 'white': 4914, 'count': 1172, 'mcl': 2792, 'gm': 1841, 'hematocrit': 1962, 'mcv': 2794, 'fl': 1738, 'mch': 2786, 'pg': 3448, 'mchc': 2787, 'rdw': 3677, 'platelet': 3478, 'mean': 2797, 'volume': 4854, 'finding': 1726, 'lm': 2635, 'ostial': 3320, 'main': 2715, 'mid': 2883, 'proximal': 3607, 'distal': 1431, 'ffr': 1711, 'lesion': 2561, 'cx': 1240, 'small': 4068, 'isr': 2364, 'circulation': 909, 'dominant': 1459, 'lv': 2689, 'recent': 3689, 'echo': 1519, 'sob': 4082, 'work': 4947, 'radial': 3656, 'cad': 713, 'instent': 2276, 'restenosis': 3778, 'caregiver': 781, 'fat': 1693, 'hodges': 2024, 'betty': 557, 'chen': 877, 'preserved': 3548, 'dysfunction': 1499, 'hypercholesterolemia': 2083, 'tia': 4477, 'cerebrovascular': 848, 'depression': 1346, 'magna': 2711, 'ease': 1512, 'axillary': 475, 'cutdown': 1233, 'cannulation': 748, 'felt': 1704, 'optimize': 3292, 'inotropes': 2265, 'pressor': 3549, 'wean': 4889, 'extubated': 1678, 'fib': 1713, 'occupational': 3238, 'throughout': 4470, 'difficulty': 1392, 'social': 4083, 'consult': 1096, 'rehab': 3726, 'bed': 527, 'bun': 696, 'lortab': 2660, 'amiodarone': 209, 'lipitor': 2621, 'colace': 980, 'ferrous': 1709, 'sulfate': 4278, 'metoprolol': 2865, 'multivitamin': 3008, 'protonix': 3603, 'meq': 2838, 'sertraline': 3968, 'warfarin': 4873, 'directed': 1413, 'routine': 3839, 'question': 3645, 'answered': 275, 'anton': 300, 'tate': 4380, 'bennie': 545, 'miller': 2897, 'tom': 4513, 'nguyen': 3107, 'paroxysmal': 3377, 'cabg': 712, 'maze': 2778, 'center': 840, 'otitis': 3324, 'medium': 2812, 'diastolic': 1378, 'subsequently': 4257, 'angio': 251, 'today': 4503, 'come': 1007, 'lisinopril': 2624, 'metformin': 2852, 'simvastatin': 4031, 'clay': 929, 'richard': 3806, 'chandanreddy': 862, 'devireddy': 1363, 'hospitalization': 2043, 'angiogram': 253, 'grade': 1854, 'ica': 2124, 'reveal': 3789, 'cerebral': 847, 'runoff': 3850, 'reveals': 3791, 'successful': 4266, 'stenting': 4194, 'embolic': 1558, 'protection': 3598, 'protege': 3599, 'plavix': 3479, 'least': 2551, 'upper': 4708, 'increase': 2197, 'normally': 3166, 'restart': 3777, 'consistently': 1088, 'anatomy': 237, 'svg': 4320, 'saphenous': 3877, 'vein': 4784, 'continuation': 1109, 'limb': 2611, 'occluded': 3233, 'beyond': 558, 'touchdown': 4535, 'extensive': 1670, 'collateral': 987, 'network': 3082, 'maximal': 2775, 'antianginal': 285, 'beta': 556, 'blocker': 607, 'nitrate': 3128, 'ranexa': 3669, 'essential': 1621, 'tobacco': 4501, 'dependence': 1343, 'anxiety': 304, 'remote': 3739, 'confusion': 1069, 'dizziness': 1444, 'noninvasive': 3153, 'imaging': 2154, 'occlusion': 3235, 'via': 4817, 'arch': 349, 'dilatation': 1398, 'intracranial': 2320, 'fill': 1720, 'vertebral': 4810, 'ulcerative': 4650, 'plaque': 3475, 'diffuse': 1393, 'protect': 3597, 'ccu': 820, 'drop': 1480, 'stop': 4217, 'agent': 123, 'baroreceptor': 504, 'starting': 4181, 'temporary': 4403, 'pacing': 3353, 'atropine': 431, 'rise': 3814, 'ambulation': 200, 'chronotropic': 900, 'glyburide': 1840, 'nitroglycerin': 3133, 'minute': 2912, 'imdur': 2155, 'tell': 4396, 'next': 3103, 'villa': 4824, 'rica': 3803, 'chandan': 861, 'periodic': 3431, 'close': 947, 'surveillance': 4310, 'development': 1361, 'jeroudi': 2396, 'turner': 4633, 'robert': 3821, 'lana': 2511, 'skelton': 4052, 'operative': 3277, 'attempt': 433, 'get': 1822, 'stick': 4205, 'external': 1672, 'use': 4734, 'unsuccessful': 4699, 'transverse': 4587, 'send': 3948, 'keep': 2442, 'monitor': 2959, 'ensure': 1594, 'recovery': 3701, 'safe': 3862, 'ambulate': 199, 'deny': 1340, 'instructions': 2279, 'eemr': 1532, 'salt': 3871, 'advise': 104, 'trans': 4556, 'apical': 321, 'call': 730, 'degree': 1324, 'staff': 4166, 'infection': 2223, 'keegan': 2440, 'weingarten': 4899, 'yo': 4981, 'euh': 1628, 'rhc': 3798, 'lhc': 2586, 'eval': 1632, 'pt': 3614, 'boca': 622, 'yr': 4984, 'move': 2982, 'winter': 4929, 'park': 3376, 'pronounce': 3591, 'sx': 4333, 'walk': 4868, 'mo': 2937, 'progressive': 3581, 'hard': 1918, 'extreme': 1674, 'quite': 3652, 'shock': 4001, 'ms': 2992, 'feel': 1700, 'happen': 1917, 'suddenly': 4268, 'difficult': 1391, 'accept': 31, 'dse': 1483, 'yesterday': 4979, 'true': 4620, 'poor': 3501, 'contractile': 1114, 'reserve': 3761, 'vol': 4852, 'less': 2562, 'dobutamine': 1453, 'parameter': 3369, 'ava': 457, 'mmhg': 2934, 'vti': 4864, 'sv': 4319, 'mcg': 2785, 'tte': 4625, 'demonstrate': 1335, 'comparison': 1023, 'ar': 346, 'enter': 1595, 'coa': 960, 'bedrest': 529, 'counseled': 1169, 'burton': 705, 'joyce': 2416, 'mcdowell': 2784, 'juan': 2420, 'sarmiento': 3882, 'adrenal': 95, 'pheochromocytoma': 3451, 'intra': 2318, 'abscess': 22, 'operation': 3276, 'excision': 1651, 'giant': 1826, 'en': 1573, 'bloc': 603, 'hepatectomy': 1995, 'nephrectomy': 3071, 'inferior': 2226, 'vena': 4788, 'cava': 813, 'adrenalectomy': 96, 'endocrinology': 1581, 'related': 3730, 'metyrosine': 2868, 'postoperatively': 3516, 'leukocytosis': 2567, 'maintain': 2716, 'place': 3471, 'saw': 3892, 'undrained': 4678, 'collection': 989, 'interventional': 2311, 'radiologist': 3660, 'cocci': 968, 'rod': 3826, 'yeast': 4975, 'cipro': 907, 'flagyl': 1739, 'clindamycin': 938, 'diflucan': 1396, 'clear': 931, 'open': 3272, 'postop': 3514, 'pack': 3354, 'wet': 4907, 'change': 863, 'calorie': 733, 'heavy': 1950, 'lifting': 2602, 'pound': 3522, 'saline': 3867, 'moisten': 2952, 'kerlix': 2449, 'measure': 2800, 'record': 3699, 'output': 3334, 'wednesday': 4893, 'check': 872, 'resume': 3782, 'insulin': 2281, 'plus': 3486, 'health': 1941, 'emergency': 1561, 'distension': 1432, 'cessation': 851, 'movement': 2983, 'flatus': 1744, 'concerning': 1056, 'neil': 3068, 'saunders': 3890, 'ns': 3192, 'tolbert': 4506, 'aster': 408, 'syncope': 4344, 'critical': 1202, 'complete': 1035, 'commercial': 1013, 'crown': 1205, 'little': 2627, 'postprocedure': 3519, 'cardiovascular': 774, 'awake': 469, 'directly': 1414, 'columbus': 999, 'dual': 1485, 'chamber': 857, 'permanent': 3436, 'jonathan': 2411, 'langberg': 2512, 'discuss': 1421, 'mi': 2871, 'bav': 518, 'ep': 1603, 'aggressively': 125, 'diuresed': 1435, 'possible': 3509, 'even': 1636, 'sizing': 4050, 'chunk': 901, 'near': 3056, 'septum': 3959, 'spread': 4147, 'transfusion': 4571, 'addition': 72, 'baby': 481, 'instead': 2275, 'amlodipine': 212, 'detailed': 1356, 'report': 3751, 'electronic': 1547, 'carter': 792, 'emma': 1566, 'woman': 4945, 'weakness': 4888, 'adventist': 102, 'full': 1781, 'additionally': 74, 'want': 4872, 'minimize': 2906, 'load': 2637, 'virgin': 4829, 'believe': 538, 'score': 3921, 'breast': 660, 'mass': 2762, 'mammogram': 2731, 'suspicious': 4316, 'cancer': 740, 'severity': 3979, 'address': 76, 'first': 1730, 'proceed': 3569, 'fine': 1727, 'needle': 3064, 'aspiration': 395, 'michael': 2873, 'cohen': 976, 'group': 1881, 'brian': 664, 'organ': 3299, 'transaortic': 4558, 'hydration': 2067, 'explain': 1663, 'son': 4100, 'seal': 3929, 'thelma': 4425, 'elizabeth': 1553, 'merlino': 2840, 'haack': 1901, 'sq': 4152, 'avr': 467, 'doppler': 1462, 'uncomplicated': 4663, 'method': 2856, 'forward': 1767, 'iia': 2142, 'coordinator': 1137, 'program': 3578, 'christopher': 896, 'riddell': 3808, 'burnett': 701, 'jesse': 2399, 'schuette': 3912, 'subarachnoid': 4242, 'hemorrhage': 1984, 'communicate': 1016, 'clip': 942, 'mca': 2782, 'basilar': 511, 'apex': 317, 'superior': 4288, 'hypophyseal': 2108, 'infarct': 2219, 'subdural': 4248, 'hygroma': 2075, 'delirium': 1330, 'agitation': 129, 'prolong': 3586, 'respiratory': 3771, 'trach': 4548, 'central': 841, 'rectus': 3704, 'abdominis': 8, 'muscle': 3011, 'neurologic': 3087, 'intensive': 2286, 'headache': 1938, 'neck': 3062, 'identify': 2136, 'intervascular': 2308, 'ligation': 2605, 'communicating': 1017, 'period': 3430, 'additional': 73, 'vasospasm': 4777, 'become': 526, 'confused': 1068, 'delirious': 1329, 'combative': 1002, 'tcd': 4384, 'window': 4928, 'head': 1937, 'aca': 28, 'intrathecal': 2326, 'nicardipine': 3111, 'revealed': 3790, 'point': 3497, 'evd': 1635, 'pretty': 3555, 'persistent': 3440, 'sedation': 3937, 'seroquel': 3966, 'klonopin': 2466, 'image': 2153, 'hemorrhagic': 1985, 'discontinue': 1420, 'aware': 471, 'presence': 3544, 'yet': 4980, 'definitive': 1318, 'possibility': 3508, 'burr': 702, 'hole': 2026, 'either': 1539, 'addendum': 71, 'outline': 3330, 'final': 1723, 'dictate': 1380, 'rapid': 3671, 'diltiazem': 1404, 'initiate': 2253, 'transition': 4574, 'chads': 854, 'component': 1046, 'peg': 3411, 'anticoagulation': 293, 'intubation': 2334, 'airway': 142, 'edema': 1526, 'angioedema': 252, 'zyrtec': 4999, 'pepcid': 3417, 'resolution': 3766, 'allow': 172, 'extubation': 1679, 'prolonged': 3587, 'alter': 185, 'mental': 2835, 'tracheostomy': 4551, 'bedside': 530, 'otolaryngology': 3325, 'slow': 4063, 'collar': 986, 'intermittent': 2295, 'mechanical': 2802, 'support': 4296, 'ventilation': 4794, 'peep': 3410, 'intubate': 2332, 'dobbhoff': 1452, 'feed': 1698, 'begin': 533, 'actual': 63, 'bleeding': 601, 'visible': 4833, 'coli': 983, 'tract': 4553, 'klebsiella': 2465, 'levaquin': 2571, 'repeat': 3746, 'growth': 1883, 'bilateral': 571, 'scd': 3905, 'dvt': 1492, 'prophylaxis': 3593, 'longer': 2652, 'anemic': 242, 'ot': 3322, 'speech': 4133, 'picc': 3466, 'line': 2616, 'morning': 2969, 'bedtime': 531, 'per': 3420, 'lovenox': 2670, 'subcutaneous': 4246, 'methadone': 2853, 'sterile': 4197, 'kolenda': 2473, 'williams': 4923, 'lee': 2553, 'benroe': 546, 'blount': 610, 'degenerative': 1322, 'disk': 1426, 'knee': 2468, 'seizure': 3943, 'disorder': 1428, 'cocaine': 967, 'abuse': 25, 'involve': 2338, 'leg': 2555, 'collapse': 985, 'bradyarrhythmia': 646, 'department': 1342, 'night': 3121, 'nonradiating': 3158, 'squeeze': 4155, 'constant': 1092, 'specific': 4125, 'association': 404, 'meal': 2796, 'denies': 1336, 'direct': 1412, 'trauma': 4590, 'suspect': 4313, 'syncopal': 4343, 'cook': 1132, 'numbness': 3202, 'tingle': 4491, 'tongue': 4520, 'irregular': 2348, 'cough': 1163, 'gastroenteritis': 1802, 'dental': 1339, 'mention': 2837, 'neurological': 3088, 'bradyarrhythmias': 647, 'fail': 1685, 'keen': 2441, 'injury': 2259, 'limp': 2615, 'tramadol': 4554, 'drug': 1481, 'seek': 3939, 'behavior': 535, 'process': 3570, 'tibia': 4478, 'fibula': 1717, 'tiny': 4492, 'bony': 628, 'ankle': 262, 'lateral': 2531, 'radiograph': 3659, 'sequela': 3960, 'dislocation': 1427, 'subtle': 4263, 'irregularity': 2349, 'medial': 2804, 'plateau': 3477, 'represent': 3753, 'torn': 4530, 'meniscus': 2834, 'joint': 2410, 'space': 4117, 'narrow': 3041, 'fracture': 1772, 'musculoskeletal': 3013, 'induce': 2214, 'ischemia': 2355, 'ventricle': 4798, 'root': 3835, 'spect': 4130, 'uds': 4643, 'opiates': 3280, 'famotidine': 1691, 'naprosyn': 3037, 'put': 3629, 'tylenol': 4639, 'avoid': 466, 'fusion': 1789, 'osteoarthritis': 3317, 'laceration': 2493, 'shin': 4000, 'orthopedic': 3308, 'questionable': 3646, 'hypoglycemia': 2100, 'sugar': 4272, 'limit': 2612, 'banu': 499, 'anam': 231, 'vinod': 4825, 'thourani': 4452, 'known': 2470, 'allergy': 168, 'reschedule': 3758, 'sometime': 4095, 'lovastatin': 2668, 'xanax': 4964, 'nickum': 3114, 'pelzer': 3415, 'wesley': 4905, 'sreedhar': 4157, 'maddineni': 2708, 'gait': 1795, 'instability': 2274, 'uti': 4738, 'hypokalemia': 2103, 'peroneal': 3439, 'generalize': 1810, 'venous': 4792, 'mra': 2987, 'mri': 2988, 'brain': 651, 'neurology': 3090, 'consultation': 1098, 'mr': 2986, 'man': 2732, 'stand': 4171, 'hernia': 2002, 'examination': 1645, 'bradycardic': 649, 'dip': 1410, 'temperature': 4399, 'benign': 543, 'medicine': 2811, 'investigation': 2337, 'rule': 3848, 'accident': 35, 'segment': 3941, 'neurologist': 3089, 'compare': 1022, 'advised': 105, 'urinalysis': 4726, 'suspected': 4314, 'rocephin': 3825, 'urine': 4730, 'replace': 3747, 'reasonably': 3684, 'monitoring': 2960, 'comanagement': 1001, 'pravastatin': 3525, 'constipation': 1094, 'vitamin': 4843, 'lonnie': 2654, 'jenkins': 2393, 'im': 2151, 'supplementation': 4294, 'switch': 4331, 'barron': 506, 'darryl': 1261, 'vigneswaran': 4822, 'krishanthan': 2480, 'op': 3269, 'stitch': 4212, 'select': 3945, 'unspecified': 4697, 'icd': 2126, 'confirmed': 1066, 'situ': 4046, 'consults': 1099, 'inguinal': 2242, 'subjective': 4250, 'resolve': 3767, 'enzyme': 1601, 'estimate': 1625, 'loss': 2663, 'minimal': 2904, 'aam': 1, 'tof': 4504, 'chb': 870, 'biv': 591, 'pacer': 3352, 'distress': 1434, 'discomfort': 1418, 'unclear': 4662, 'comfortable': 1009, 'sgins': 3982, 'definitely': 1316, 'explanation': 1664, 'document': 1455, 'somatization': 4091, 'consideration': 1085, 'abg': 9, 'hypoxia': 2120, 'arrhythmia': 364, 'differential': 1389, 'enzymes': 1602, 'unconcerning': 4664, 'free': 1773, 'cycle': 1243, 'interrogate': 2302, 'setting': 3973, 'vvir': 4865, 'effect': 1534, 'asa': 384, 'outpt': 3333, 'bnp': 618, 'cxr': 1241, 'pre': 3527, 'overnight': 3343, 'order': 3297, 'write': 4962, 'weight': 4898, 'smoking': 4073, 'smoke': 4072, 'russell': 3852, 'verifies': 4806, 'adjustment': 87, 'planning': 3474, 'collins': 991, 'jacquelyn': 2376, 'lisa': 2623, 'gail': 1793, 'thomas': 4440, 'jeffrey': 2392, 'baer': 491, 'gastroenterologist': 1803, 'dalton': 1254, 'piedmont': 3469, 'tachycardia': 4360, 'mixed': 2929, 'iron': 2346, 'deficiency': 1311, 'gerd': 1820, 'atrophy': 430, 'precede': 3529, 'unresponsive': 4694, 'arrival': 367, 'detect': 1357, 'inappropriate': 2184, 'tsh': 4623, 'rhythm': 3802, 'pac': 3349, 'presentation': 3546, 'remarkable': 3737, 'nadir': 3032, 'decrease': 1299, 'eventually': 1639, 'speak': 4120, 'ethan': 1626, 'hematology': 1965, 'administration': 90, 'spep': 4136, 'encourage': 1576, 'colonoscopy': 994, 'chad': 853, 'omeprazole': 3254, 'gastroenterology': 1804, 'miralax': 2915, 'lgt': 2585, 'gi': 1825, 'quick': 3648, 'randomize': 3668, 'number': 3201, 'bioprosthetic': 581, 'bioprosthesis': 580, 'convalesce': 1124, 'consist': 1086, 'twitch': 4637, 'keppra': 2447, 'facial': 1681, 'dysarthria': 1497, 'posterior': 3512, 'lobe': 2639, 'cerebellar': 846, 'incidentally': 2189, 'subclavian': 4243, 'duration': 1490, 'onset': 3264, 'ameliorate': 202, 'ng': 3104, 'decompression': 1294, 'egd': 1537, 'esophagitis': 1619, 'gastroesophageal': 1805, 'junction': 2427, 'hiatal': 2010, 'thicken': 4433, 'overload': 3342, 'required': 3756, 'gentle': 1815, 'strength': 4225, 'mobility': 2940, 'deconditioned': 1295, 'subacute': 4241, 'facility': 1682, 'max': 2772, 'chair': 855, 'commode': 1014, 'canadian': 737, 'york': 4982, 'hydralazine': 2065, 'wear': 4890, 'holter': 2029, 'anti': 284, 'diabetic': 1367, 'aaron': 2, 'anderson': 238, 'member': 2830, 'assessment': 398, 'office': 3244, 'rogers': 3828, 'pleasure': 3482, 'lovely': 2669, 'look': 2655, 'simone': 4027, 'bell': 539, 'charles': 867, 'stuart': 4238, 'taofeek': 4376, 'admissiion': 91, 'underlying': 4669, 'dementia': 1334, 'indwelling': 2217, 'organism': 3300, 'metastatic': 2850, 'rectal': 3702, 'adenocarcinoma': 77, 'metastasis': 2849, 'chemotherapy': 876, 'definite': 1315, 'microangiopathic': 2876, 'matter': 2769, 'impression': 2175, 'holohemispheric': 2028, 'midline': 2886, 'shift': 3997, 'overlie': 3341, 'hemisphere': 1973, 'rightward': 3810, 'following': 1760, 'seem': 3940, 'underlie': 4668, 'dehydration': 1326, 'neuro': 3084, 'appreciate': 336, 'gad': 1792, 'mets': 2866, 'hematomas': 1967, 'qt': 3634, 'interval': 2307, 'sundowning': 4284, 'haldol': 1904, 'try': 4621, 'benadryl': 540, 'lorazepam': 2659, 'essentially': 1622, 'min': 2900, 'indwell': 2216, 'cont': 1100, 'cefuro': 829, 'med': 2803, 'gen': 1807, 'code': 971, 'current': 1224, 'temp': 4398, 'bp': 639, 'hr': 2052, 'rr': 3845, 'eye': 1680, 'sclera': 3917, 'anicteric': 259, 'hent': 1991, 'temple': 4400, 'normocephalic': 3167, 'auscultation': 449, 'skipped': 4055, 'beat': 523, 'later': 2530, 'nsr': 3195, 'gastrointestinal': 1806, 'sound': 4111, 'colosotmy': 997, 'genitourinary': 1813, 'foley': 1757, 'swell': 4329, 'groggy': 1873, 'focal': 1755, 'defect': 1307, 'orientation': 3303, 'situation': 4047, 'psychiatric': 3610, 'cooperative': 1134, 'ehc': 1538, 'acetaminophen': 45, 'po': 3494, 'prn': 3563, 'ascorbic': 387, 'acid': 49, 'carbonate': 759, 'qday': 3632, 'carvedilol': 793, 'cefuroxime': 830, 'bid': 567, 'chondroitin': 892, 'glucosamine': 1838, 'methylsulfonylmethane': 2862, 'msm': 2993, 'diphenhydramine': 1411, 'capsule': 755, 'qhs': 3633, 'docusate': 1457, 'furosemide': 1787, 'hydrocodone': 2071, 'levothyroxine': 2577, 'synthroid': 4346, 'ativan': 419, 'memantine': 2829, 'namenda': 3035, 'mineral': 2902, 'centrum': 843, 'prochlorperazine': 3571, 'tid': 4479, 'zoloft': 4995, 'counsel': 1168, 'kristen': 2481, 'greiner': 1871, 'sr': 4156, 'joseph': 2414, 'hwang': 2061, 'patricia': 3394, 'bilirubin': 577, 'protein': 3600, 'albumin': 152, 'alkaline': 162, 'phosphatase': 3457, 'alanine': 147, 'aminotransferase': 207, 'aspartate': 392, 'ascites': 386, 'incrreased': 2199, 'interstitial': 2305, 'airspace': 141, 'opacity': 3271, 'enteric': 1596, 'stomach': 4213, 'tip': 4493, 'view': 4821, 'pneumothorax': 3493, 'pleural': 3483, 'kub': 2482, 'ngt': 3105, 'coiling': 979, 'cranially': 1190, 'gastric': 1801, 'distention': 1433, 'obstruction': 3222, 'fecal': 1697, 'worsening': 4957, 'nsip': 3194, 'scleroderma': 3918, 'fibrosis': 1715, 'superimposed': 4287, 'smooth': 4074, 'interlobular': 2293, 'septal': 3957, 'reflux': 3717, 'hepatic': 1996, 'burden': 698, 'colon': 992, 'loop': 2656, 'scout': 3923, 'ngtd': 3106, 'pcp': 3402, 'stain': 4169, 'bal': 495, 'viral': 4828, 'pending': 3416, 'death': 1277, 'inferolateral': 2227, 'must': 3015, 'ia': 2122, 'buldges': 694, 'motion': 2978, 'tr': 4544, 'mvr': 3017, 'reduced': 3710, 'intracardiac': 2319, 'shunt': 4013, 'rvsp': 3855, 'hg': 2006, 'individual': 2213, 'ild': 2145, 'nephrology': 3075, 'hepatology': 1999, 'arterial': 373, 'va': 4742, 'bronchoscopy': 680, 'cathter': 807, 'ij': 2144, 'ards': 350, 'increased': 2198, 'trasnferred': 4589, 'micu': 2882, 'know': 2469, 'long': 2651, 'pneumonia': 3491, 'cap': 752, 'tamiflu': 4371, 'empiric': 1569, 'vanc': 4758, 'zosyn': 4997, 'decision': 1289, 'terminate': 4410, 'life': 2597, 'sustain': 4317, 'tolst': 4511, 'shortly': 4005, 'dead': 1276, 'ast': 407, 'alt': 183, 'upwards': 4715, 'respectively': 3769, 'elevate': 1550, 'liver': 2629, 'cytoxan': 1251, 'assistance': 400, 'injyr': 2260, 'transplant': 4578, 'panel': 3366, 'hepatitis': 1997, 'ogt': 3246, 'unecessary': 4679, 'cardiogenic': 765, 'startedon': 4180, 'percent': 3421, 'levophed': 2576, 'map': 2741, 'thrombocytopenia': 4461, 'conern': 1064, 'dic': 1379, 'hemolysis': 1983, 'ldh': 2544, 'vas': 4766, 'crrt': 1207, 'hematuria': 1968, 'metabolic': 2843, 'acidosis': 50, 'ph': 3450, 'bicarb': 564, 'lactic': 2498, 'possibly': 3510, 'ischemis': 2357, 'compartment': 1024, 'syndrome': 4345, 'disposition': 1429, 'termination': 4411, 'whitaker': 4913, 'jam': 2378, 'clack': 920, 'justin': 2428, 'philip': 3453, 'empyema': 1571, 'bacteremia': 485, 'decortication': 1298, 'septic': 3958, 'hemodialysis': 1977, 'removal': 3740, 'mellitis': 2823, 'hypothryoidism': 2112, 'flu': 1749, 'fungal': 1786, 'vat': 4778, 'december': 1287, 'permcath': 3437, 'january': 2382, 'hypothyrodism': 2114, 'peptic': 3418, 'spaulding': 4118, 'ceftriaxone': 828, 'linezolid': 2618, 'euhm': 1629, 'crescentic': 1197, 'adjacent': 84, 'vs': 4861, 'multifocal': 3003, 'layering': 2540, 'allan': 164, 'pickens': 3467, 'thoracoscopic': 4444, 'ventilator': 4795, 'david': 1266, 'berkowitz': 551, 'antibiotic': 286, 'massive': 2764, 'emphysema': 1568, 'vasopressor': 4776, 'emergent': 1562, 'jay': 2388, 'hemodynamically': 1980, 'arousable': 359, 'respond': 3772, 'awaken': 470, 'tachypneic': 4363, 'agitate': 127, 'fentanyl': 1708, 'patch': 3387, 'zyprexa': 4998, 'cv': 1234, 'pulm': 3620, 'cuffed': 1218, 'air': 140, 'thoracic': 4443, 'dialysis': 1373, 'dependent': 1344, 'manage': 2733, 'frita': 1780, 'fisher': 1732, 'permacath': 3435, 'salem': 3866, 'sump': 4282, 'soon': 4104, 'obtain': 3224, 'lactobacillus': 2499, 'metamucil': 2846, 'diff': 1386, 'clot': 951, 'hemaglobin': 1960, 'heme': 1969, 'accuchecks': 41, 'slide': 4060, 'scale': 3899, 'hypothyroidism': 2115, 'id': 2129, 'micafungin': 2872, 'occipital': 3231, 'trochanter': 4612, 'sacral': 3859, 'heel': 1952, 'foot': 1763, 'specialty': 4123, 'await': 468, 'availability': 458, 'albuterol': 153, 'ipratropium': 2344, 'inhaler': 2247, 'puff': 3617, 'aranesp': 347, 'ss': 4159, 'improves': 2179, 'ondansetron': 3261, 'aricept': 354, 'depakote': 1341, 'flomax': 1745, 'coat': 965, 'breakfast': 658, 'wellbutrin': 4902, 'xl': 4967, 'novasource': 3182, 'willie': 4924, 'cyril': 1244, 'riccardi': 3804, 'molly': 2953, 'pet': 3443, 'htn': 2055, 'hx': 2062, 'dissection': 1430, 'esrd': 1620, 'hypodensities': 2098, 'cysts': 1247, 'sz': 4352, 'conclusion': 1057, 'flow': 1748, 'sensitivity': 3953, 'detection': 1358, 'cta': 1215, 'short': 4003, 'aorta': 311, 'ascend': 385, 'attention': 436, 'scatter': 3902, 'mosaic': 2974, 'attenuation': 437, 'stranding': 4222, 'gutter': 1894, 'grow': 1882, 'probable': 3564, 'cyst': 1245, 'consider': 1084, 'dedicated': 1303, 'characterize': 866, 'indicated': 2208, 'muscuoloskeletal': 3014, 'origin': 3305, 'factor': 1684, 'lf': 2581, 'statin': 4183, 'continued': 1111, 'tele': 4394, 'event': 1638, 'stability': 4163, 'lidocaine': 2593, 'morphine': 2970, 'vicodin': 4819, 'wheeze': 4910, 'hd': 1935, 'session': 3971, 'advair': 98, 'nc': 3054, 'contribute': 1119, 'issue': 2365, 'hypoxic': 2121, 'sat': 3883, 'scattered': 3903, 'bilaterall': 572, 'vessell': 4813, 'missed': 2922, 'dialyze': 1374, 'holiday': 2027, 'phos': 3456, 'binder': 578, 'hyperkalemia': 2084, 'suboptimal': 4252, 'aneruysm': 243, 'ideall': 2133, 'titration': 4498, 'outpatinet': 3332, 'importance': 2173, 'recommendation': 3695, 'meantime': 2798, 'szs': 4353, 'ideally': 2134, 'sbp': 3896, 'phosphorous': 3459, 'calculated': 723, 'calcified': 717, 'access': 33, 'serial': 3964, 'inflation': 2234, 'transapical': 4559, 'carotids': 788, 'angiographically': 255, 'angiographic': 254, 'lifelong': 2598, 'orthopnea': 3309, 'pnd': 3490, 'contributory': 1120, 'retrograde': 3785, 'separate': 3955, 'end': 1577, 'intraprocedure': 2325, 'reduction': 3711, 'suggesting': 4274, 'vasodilator': 4774, 'help': 1957, 'transsubclavian': 4583, 'thompson': 4441, 'implanted': 2172, 'entry': 1600, 'exit': 1659, 'french': 1775, 'prostate': 3594, 'nonobstructive': 3155, 'prostatectomy': 3595, 'extremely': 1675, 'exception': 1650, 'morgan': 2967, 'ronald': 3831, 'allen': 165, 'community': 1018, 'acquire': 53, 'ingestion': 2240, 'jude': 2422, 'interstital': 2304, 'neuropathy': 3093, 'ef': 1533, 'somewhat': 4097, 'cemented': 839, 'artifact': 380, 'fibrotic': 1716, 'ill': 2148, 'define': 1314, 'cluster': 954, 'ground': 1879, 'glass': 1831, 'nodule': 3142, 'infectious': 2224, 'inflammatory': 2232, 'etiology': 1627, 'progressively': 3582, 'dyspneic': 1504, 'along': 176, 'infiltrate': 2229, 'suggestive': 4276, 'hypersensitivity': 2089, 'hiv': 2019, 'subtherapeutic': 4262, 'alone': 175, 'bronchitis': 678, 'kaufmann': 2436, 'gerald': 1819, 'staton': 4184, 'stough': 4220, 'willard': 4921, 'kasoff': 2434, 'hydrocephalus': 2068, 'recurrent': 3705, 'anaplastic': 233, 'alfredo': 159, 'voloschin': 4853, 'neurofibromatosis': 3085, 'optic': 3289, 'radiation': 3658, 'temporal': 4401, 'temodar': 4397, 'resection': 3760, 'motor': 2979, 'strip': 4231, 'contusion': 1123, 'temporarily': 4402, 'weak': 4887, 'effectively': 1535, 'video': 4820, 'run': 3849, 'originally': 3306, 'like': 2607, 'hemodynamic': 1979, 'variability': 4761, 'leptomeningeal': 2559, 'agreement': 133, 'hospice': 2041, 'wish': 4934, 'eat': 1514, 'solution': 4089, 'senna': 3949, 'verbal': 4804, 'neurosurgical': 3097, 'offer': 3243, 'moore': 2965, 'renshaw': 3743, 'timmothy': 4488, 'ahmed': 135, 'hodan': 2023, 'nstemi': 3196, 'atherosclerosis': 417, 'magnesium': 2712, 'crit': 1200, 'natriuretic': 3047, 'peptide': 3419, 'granulocyte': 1863, 'alymph': 193, 'amono': 216, 'aeos': 106, 'abaso': 4, 'partial': 3379, 'thromboplastin': 4465, 'abn': 13, 'labs': 2492, 'interpretation': 2301, 'xr': 4969, 'portable': 3504, 'blunting': 612, 'costophrenic': 1160, 'angle': 258, 'scar': 3901, 'sternal': 4199, 'wire': 4930, 'align': 160, 'card': 761, 'mutiple': 3016, 'spectral': 4131, 'color': 996, 'technically': 4391, 'echocardiographic': 1521, 'best': 555, 'visualize': 4839, 'enhance': 1588, 'segmental': 3942, 'exist': 1658, 'correlate': 1150, 'territory': 4414, 'wall': 4870, 'thickness': 4435, 'impaired': 2166, 'relaxation': 3732, 'average': 460, 'optison': 3294, 'definition': 1317, 'akinetic': 146, 'anteroseptal': 280, 'inferoseptal': 2228, 'hypokinetic': 2105, 'dimension': 1405, 'index': 2206, 'global': 1833, 'structure': 4236, 'excursion': 1653, 'structurally': 4235, 'pulmonic': 3622, 'visualized': 4840, 'valsalva': 4751, 'sinotubular': 4038, 'pericardium': 3428, 'kaebnick': 2431, 'basic': 510, 'attending': 435, 'peter': 3444, 'carl': 783, 'fellow': 1703, 'jerre': 2397, 'entire': 1599, 'case': 794, 'ventriculogram': 4801, 'pullback': 3618, 'shealth': 3991, 'canulate': 751, 'subtotal': 4264, 'occulsion': 3236, 'cirx': 915, 'vesel': 4811, 'jr': 2418, 'engage': 1587, 'anginal': 250, 'modication': 2948, 'anuerysm': 301, 'cashd': 796, 'pci': 3400, 'ima': 2152, 'osh': 3313, 'sharp': 3989, 'associate': 402, 'elbow': 1543, 'radiate': 3657, 'ntg': 3199, 'experience': 1661, 'attack': 432, 'cp': 1183, 'attribute': 440, 'indigestion': 2210, 'symptoms': 4342, 'admits': 94, 'compliance': 1040, 'le': 2546, 'chill': 884, 'cold': 981, 'influenza': 2235, 'bl': 594, 'initated': 2250, 'hep': 1992, 'gtt': 1884, 'nonadherence': 3145, 'bmi': 614, 'wnl': 4943, 'generally': 1812, 'toprol': 4527, 'healthy': 1943, 'food': 1762, 'rich': 3805, 'mrsa': 2991, 'cml': 956, 'kdiney': 2439, 'indirect': 2211, 'uric': 4725, 'lactate': 2497, 'mb': 2780, 'whole': 4915, 'degc': 1321, 'source': 4112, 'mode': 2944, 'thb': 4424, 'hb': 1930, 'cohb': 975, 'methemoglobin': 2854, 'content': 1105, 'ltyellow': 2679, 'clarity': 924, 'gravity': 1866, 'random': 3666, 'qualitative': 3640, 'ketone': 2451, 'urobilinogen': 4731, 'nitrite': 3129, 'leukocyte': 2566, 'esterase': 1624, 'qual': 3637, 'hpf': 2050, 'rbc': 3675, 'mucus': 2998, 'lpf': 2675, 'bacteria': 487, 'modify': 2950, 'aborh': 17, 'antibody': 288, 'screen': 3925, 're': 3678, 'iliac': 2146, 'bifurcation': 569, 'indeterminate': 2205, 'wedge': 4892, 'compression': 1049, 'vertebra': 4809, 'blair': 597, 'eric': 1613, 'james': 2379, 'gilbert': 1827, 'vainer': 4747, 'chief': 882, 'respiration': 3770, 'satting': 3886, 'thin': 4436, 'alert': 156, 'skin': 4053, 'warm': 4874, 'cephalic': 844, 'atraumatic': 424, 'jvd': 2429, 'pupils': 3625, 'equal': 1609, 'round': 3838, 'reactive': 3679, 'light': 2606, 'murmurs': 3010, 'crackle': 1186, 'tenderness': 4404, 'soft': 4085, 'nontender': 3162, 'serum': 3969, 'alk': 161, 'marijuana': 2748, 'ua': 4642, 'flash': 1742, 'actually': 64, 'miss': 2921, 'briefly': 668, 'thus': 4473, 'titrate': 4497, 'comfortably': 1010, 'roswell': 3836, 'house': 2046, 'nicely': 3112, 'eager': 1509, 'monday': 2956, 'friday': 1778, 'alon': 174, 'jerome': 2395, 'scott': 3922, 'rickey': 3807, 'hicham': 2011, 'churbaji': 902, 'combine': 1004, 'combined': 1005, 'noncompliance': 3148, 'stabilize': 4164, 'nitro': 3130, 'ace': 42, 'inhibitor': 2248, 'compliant': 1041, 'vadnais': 4744, 'bjorn': 593, 'tonez': 4518, 'grady': 1858, 'memorial': 2831, 'presyncope': 3554, 'acutely': 66, 'presyncopal': 3553, 'sit': 4044, 'lvh': 2693, 'emergently': 1563, 'contain': 1102, 'descend': 1350, 'lvedp': 2691, 'hypokinesis': 2104, 'pertinent': 3442, 'capillary': 754, 'twenty': 4635, 'four': 1769, 'systolics': 4351, 'orthostatic': 3310, 'hopefully': 2034, 'liter': 2626, 'levit': 2573, 'fatigue': 1694, 'vii': 4823, 'leiden': 2556, 'witness': 4941, 'newly': 3100, 'morbid': 2966, 'obesity': 3211, 'value': 4753, 'orient': 3302, 'murmur': 3009, 'rub': 3847, 'extremities': 1676, 'intact': 2283, 'product': 3572, 'convalescence': 1125, 'thereafter': 4428, 'intake': 2284, 'solid': 4086, 'heal': 1940, 'express': 1666, 'understand': 4670, 'counseling': 1170, 'quantity': 3644, 'refill': 3715, 'half': 1905, 'actos': 62, 'norvasc': 3172, 'provider': 3605, 'crownover': 1206, 'timothy': 4490, 'bolton': 625, 'harris': 1924, 'gain': 1794, 'compensate': 1027, 'acc': 29, 'aha': 134, 'lb': 2541, 'scr': 3924, 'melliutis': 2827, 'systemic': 4349, 'proliferative': 3585, 'retinopathy': 3784, 'major': 2719, 'depressive': 1347, 'no': 3136, 'manifestation': 2738, 'uncontrolled': 4665, 'criterion': 1201, 'intermediate': 2294, 'psychiatry': 3612, 'opthalmology': 3286, 'aki': 145, 'mellitius': 2824, 'cornary': 1145, 'icm': 2127, 'dm': 1447, 'tearful': 4388, 'financial': 1724, 'adhere': 81, 'recommended': 3696, 'feeling': 1701, 'satiety': 3884, 'sprionlactone': 4150, 'town': 4538, 'lack': 2494, 'insurance': 2282, 'coverage': 1181, 'trigylcerides': 4605, 'catherization': 803, 'blockages': 606, 'sprinolactone': 4149, 'complain': 1030, 'opthamalogy': 3287, 'laser': 2522, 'lexapro': 2579, 'celexa': 832, 'upson': 4710, 'county': 1173, 'custom': 1229, 'carb': 757, 'han': 1912, 'grossniklaus': 1878, 'locate': 2642, 'building': 693, 'couselor': 1178, 'dan': 1256, 'sorescu': 4108, 'laskar': 2525, 'mirpoorian': 2916, 'shamsie': 3985, 'hospitalize': 2044, 'gwinnett': 1897, 'angina': 249, 'preserve': 3547, 'claudication': 928, 'welchol': 4900, 'av': 456, 'ablate': 10, 'likelihood': 2608, 'conduction': 1062, 'jerry': 2398, 'inoperability': 2262, 'ideal': 2132, 'innominate': 2261, 'choice': 889, 'paul': 3398, 'involved': 2339, 'willing': 4925, 'concerned': 1055, 'delay': 1328, 'mother': 2977, 'prefer': 3532, 'wait': 4866, 'definitively': 1319, 'agreeable': 132, 'saturation': 3888, 'boatwright': 620, 'johnny': 2408, 'jose': 2413, 'navarrete': 3051, 'william': 4922, 'blake': 598, 'minoxidil': 2910, 'antiretrovirals': 299, 'controlled': 1122, 'cue': 1216, 'fairly': 1688, 'discontinuation': 1419, 'one': 3262, 'reading': 3681, 'cautiously': 812, 'cd': 821, 'defer': 1308, 'timing': 4487, 'afford': 113, 'jaundice': 2386, 'thrombocytopenic': 4462, 'opportunistic': 3283, 'dictation': 1381, 'subheading': 4249, 'cancel': 739, 'arthur': 379, 'stetson': 4203, 'zero': 4989, 'sleep': 4058, 'apnea': 322, 'cva': 1235, 'bph': 640, 'turp': 4634, 'appendectomy': 329, 'lifesciences': 2599, 'minithoracotomy': 2908, 'insertion': 2271, 'transesophageal': 4565, 'cannula': 746, 'tee': 4392, 'guidance': 1888, 'consequently': 1082, 'intraoperative': 2322, 'hall': 1906, 'timely': 4486, 'fashion': 1692, 'urology': 4732, 'endurance': 1586, 'tamsulosin': 4374, 'packet': 3356, 'levofloxacin': 2575, 'guaifenesin': 1885, 'congestion': 1071, 'inhale': 2245, 'citalopram': 916, 'drive': 1477, 'connell': 1078, 'novello': 3183, 'godfrey': 1844, 'chf': 879, 'complaince': 1031, 'aicd': 137, 'indistinctness': 2212, 'vasculature': 4771, 'relatively': 3731, 'loculated': 2646, 'minor': 2909, 'fissure': 1733, 'linear': 2617, 'project': 3583, 'atelectasis': 416, 'mediastinum': 2806, 'contour': 1113, 'bone': 627, 'tissue': 4495, 'prominence': 3588, 'cmp': 957, 'vt': 4862, 'storm': 4218, 'therefore': 4430, 'prescribed': 3542, 'anymore': 306, 'add': 70, 'cr': 1185, 'overdiuresis': 3340, 'spironolactone': 4140, 'meet': 2816, 'cole': 982, 'scheduled': 3907, 'thursday': 4472, 'thrusday': 4471, 'heartwise': 1946, 'rehabilitation': 3727, 'schmidt': 3910, 'beatrice': 524, 'tong': 4519, 'dysphagia': 1502, 'subsegmental': 4255, 'embolus': 1560, 'bipolar': 585, 'rhodes': 3800, 'noncompliant': 3149, 'chip': 886, 'aspirate': 394, 'vancomycin': 4760, 'bipap': 583, 'nighttime': 3123, 'daytime': 1270, 'nasal': 3043, 'metapneumoviral': 2847, 'lingula': 2619, 'patchy': 3388, 'trouble': 4619, 'swallow': 4326, 'liquid': 2622, 'jg': 2402, 'unknown': 4687, 'furthermore': 1788, 'precaution': 3528, 'sedate': 3936, 'neurontin': 3091, 'somnolence': 4099, 'psychiatrist': 3611, 'lantus': 2514, 'novolog': 3185, 'fair': 1687, 'bolus': 626, 'ischarge': 2354, 'coordination': 1136, 'spend': 4135, 'coordinate': 1135, 'cpap': 1184, 'arrange': 360, 'anita': 260, 'saraf': 3880, 'aps': 344, 'urban': 4716, 'yvonne': 4987, 'marie': 2746, 'mikhael': 2891, 'el': 1542, 'chami': 859, 'supraventricular': 4304, 'impair': 2165, 'tolerance': 4508, 'deep': 1306, 'thrombosis': 4467, 'palpitation': 3364, 'complex': 1039, 'rp': 3841, 'ablation': 11, 'sustained': 4318, 'southern': 4115, 'regional': 3722, 'spontaneously': 4145, 'nonsustained': 3161, 'signal': 4019, 'ostium': 3321, 'despite': 1353, 'isoproterenol': 2359, 'region': 3721, 'different': 1388, 'morphology': 2971, 'nodal': 3139, 'physiology': 3464, 'obvious': 3227, 'single': 4035, 'avnrt': 465, 'verapamil': 4803, 'supplement': 4292, 'flonase': 1746, 'ibuprofen': 2123, 'sumatriptan': 4280, 'terbinafine': 4407, 'amitriptyline': 211, 'losartan': 2661, 'merchant': 2839, 'baker': 494, 'ronnie': 3832, 'kyle': 2485, 'tran': 4555, 'limitation': 2613, 'debility': 1280, 'ipf': 2343, 'immunsuppression': 2164, 'myopathy': 3027, 'enterobacter': 1597, 'hypogonadism': 2102, 'endstage': 1585, 'uip': 4647, 'august': 445, 'crystalloid': 1211, 'prbc': 3526, 'cellsaver': 836, 'immunosupression': 2163, 'induction': 2215, 'basiliximab': 513, 'prograf': 3577, 'azathioprine': 476, 'methylprednisolone': 2860, 'ceftazidime': 827, 'voriconazole': 4859, 'tmax': 4499, 'profound': 3575, 'cut': 1230, 'cognitive': 974, 'decline': 1290, 'crm': 1203, 'deficit': 1313, 'occupation': 3237, 'marital': 2750, 'marry': 2755, 'alcohol': 154, 'quit': 3651, 'nka': 3134, 'independent': 2204, 'locomotion': 2645, 'fell': 1702, 'break': 656, 'cease': 824, 'npo': 3190, 'groom': 1875, 'supervision': 4290, 'seat': 3930, 'body': 623, 'toileting': 4505, 'wheelchair': 4909, 'guard': 1886, 'surface': 4306, 'walker': 4869, 'quality': 3641, 'shuffle': 4012, 'cross': 1204, 'turn': 4632, 'comprehension': 1047, 'expression': 1667, 'comprehensive': 1048, 'interdisciplinary': 2288, 'inpt': 2268, 'nutrition': 3207, 'desire': 1352, 'outcome': 3328, 'independence': 2203, 'setup': 3974, 'indep': 2202, 'interaction': 2287, 'solve': 4090, 'memory': 2832, 'hypoactive': 2095, 'dc': 1271, 'comp': 1020, 'pass': 3384, 'barium': 503, 'shorten': 4004, 'methylprednisone': 2861, 'intitially': 2315, 'cmv': 958, 'ebv': 1517, 'pathology': 3392, 'bronch': 676, 'mod': 2942, 'secretion': 3935, 'sluggish': 4065, 'hemidiaphragm': 1970, 'fully': 1782, 'mobile': 2939, 'bx': 708, 'inpatient': 2267, 'armour': 357, 'lidoderm': 2594, 'immodium': 2159, 'androgel': 240, 'afib': 114, 'rvr': 3854, 'meropenem': 2841, 'inhaled': 2246, 'tobramcyin': 4502, 'immunosuppression': 2161, 'prednisone': 3531, 'accordingly': 39, 'cellcept': 835, 'mismatch': 2920, 'valcyte': 4748, 'pcr': 3403, 'weekly': 4896, 'amphotericin': 221, 'posaconazole': 3506, 'bactrim': 489, 'ppi': 3524, 'sc': 3898, 'endocrine': 1580, 'aspart': 391, 'inc': 2185, 'ac': 27, 'hs': 2053, 'ssi': 4160, 'teach': 4385, 'recheck': 3691, 'bmp': 615, 'ivf': 2371, 'weekend': 4895, 'lytes': 2703, 'strasser': 4224, 'wks': 4942, 'mason': 2761, 'conversant': 1127, 'visibly': 4834, 'naris': 3040, 'auricle': 448, 'trachea': 4549, 'grossly': 1877, 'enlarge': 1589, 'thyroid': 4474, 'heave': 1948, 'audible': 442, 'thrill': 4456, 'gross': 1876, 'deformity': 1320, 'cyanosis': 1242, 'valganciclovir': 4749, 'dornase': 1463, 'alfa': 158, 'folic': 1758, 'corrective': 1149, 'subcutan': 4245, 'glargine': 1830, 'ea': 1508, 'oxide': 3345, 'pantoprazole': 3367, 'brkfst': 673, 'spray': 4146, 'sulfamethoxazole': 4277, 'trimethoprim': 4607, 'mwf': 3018, 'tacrolimus': 4364, 'testosterone': 4421, 'jacquin': 2377, 'prem': 3535, 'kandiah': 2432, 'hunt': 2058, 'hess': 2004, 'malignant': 2728, 'yard': 4973, 'confuse': 1067, 'sylvian': 4337, 'intraventricular': 2328, 'extension': 1669, 'hydeocephalus': 2063, 'noxious': 3187, 'pupil': 3624, 'obey': 3212, 'withdraw': 4936, 'stimulus': 4211, 'csf': 1213, 'diversion': 1440, 'amicar': 206, 'nimotop': 3125, 'zocor': 4993, 'standard': 4172, 'transcranial': 4562, 'clamp': 922, 'examiner': 1647, 'minimally': 2905, 'orally': 3296, 'consciousness': 1079, 'anticipate': 289, 'ventilatory': 4796, 'shiley': 3999, 'ure': 4717, 'varied': 4764, 'depth': 1348, 'consolidation': 1091, 'presumed': 3552, 'nutritional': 3208, 'isosource': 2362, 'topically': 4525, 'nimodipine': 3124, 'flush': 1752, 'cawley': 816, 'tomlinson': 4514, 'participate': 3380, 'ordered': 3298, 'lamarr': 2506, 'anna': 264, 'louise': 2666, 'bhatia': 560, 'neal': 3055, 'kumar': 2483, 'stemi': 4190, 'quadrant': 3636, 'cervical': 850, 'spondylosis': 4143, 'myelopathy': 3021, 'esophageal': 1618, 'dysmotility': 1501, 'decreased': 1300, 'bpm': 641, 'ci': 904, 'concentric': 1053, 'hypertrophy': 2093, 'variation': 4763, 'lamar': 2505, 'retroperitoneal': 3786, 'anticoagulate': 291, 'transaminitis': 4557, 'thrombyltic': 4469, 'comorbidities': 1019, 'tpa': 4543, 'contraindication': 1117, 'palliative': 3363, 'palliation': 3362, 'nurisng': 3203, 'eating': 1515, 'sepsis': 3956, 'opioid': 3282, 'altered': 187, 'subside': 4258, 'tachycardic': 4361, 'hyponatremia': 2106, 'drawn': 1474, 'epilepticus': 1605, 'eeg': 1531, 'waveform': 4883, 'fosphenytoin': 1768, 'suggestion': 4275, 'besides': 554, 'parietal': 3375, 'hypodensity': 2099, 'complicated': 1044, 'beginning': 534, 'vasopressin': 4775, 'takotsubo': 4368, 'pseudonormal': 3609, 'arrive': 368, 'intubated': 2333, 'net': 3081, 'haziness': 1928, 'picture': 3468, 'ir': 2345, 'vent': 4793, 'apv': 345, 'simv': 4030, 'sbts': 3897, 'prerenal': 3540, 'slowly': 4064, 'bump': 695, 'hem': 1959, 'onc': 3257, 'hemoconcentrated': 1976, 'hover': 2047, 'carry': 791, 'hypothermic': 2111, 'spike': 4138, 'hide': 2012, 'amount': 217, 'candida': 741, 'mini': 2903, 'afb': 110, 'smear': 4069, 'bacterial': 488, 'maxillofacial': 2774, 'sinusitis': 4040, 'gyn': 1899, 'finish': 1728, 'dvts': 1493, 'ache': 47, 'dilaudid': 1402, 'contin': 1106, 'lead': 2547, 'ltac': 2678, 'nebulizer': 3059, 'clonazepam': 944, 'hardy': 1920, 'sonjoy': 4102, 'middle': 2885, 'cardio': 764, 'bright': 669, 'rectum': 3703, 'dos': 1464, 'two': 4638, 'nonresponsive': 3159, 'greatly': 1869, 'outweigh': 3336, 'golden': 1846, 'living': 2631, 'relief': 3734, 'wireman': 4931, 'judy': 2423, 'sue': 4269, 'hassanyar': 1926, 'mohammad': 2951, 'reza': 3796, 'pcwp': 3405, 'ao': 310, 'fick': 1718, 'co': 959, 'svr': 4322, 'rvswi': 3856, 'anteroseptum': 281, 'moving': 2984, 'posterolateral': 3513, 'sclerotic': 3919, 'focally': 1756, 'hypothryroidism': 2113, 'univ': 4685, 'hosp': 2040, 'augusta': 446, 'sp': 4116, 'de': 1275, 'xience': 4966, 'arrest': 363, 'vtach': 4863, 'milrinone': 2899, 'decompensation': 1293, 'restrictive': 3780, 'myocardium': 3026, 'viable': 4818, 'transmurally': 4577, 'infarcted': 2220, 'amio': 208, 'defibrillator': 1310, 'li': 2587, 'uptitrated': 4713, 'nrb': 3191, 'ggt': 1824, 'improvment': 2180, 'dopamine': 1461, 'cather': 801, 'diuretics': 1438, 'ultrafiltration': 4653, 'dni': 1448, 'comfort': 1008, 'prognosis': 3576, 'meeting': 2817, 'husband': 2060, 'ionotropes': 2342, 'uf': 4645, 'pna': 3489, 'ddx': 1274, 'solumedrol': 4088, 'gr': 1852, 'cover': 1180, 'dah': 1252, 'aldactone': 155, 'harmon': 1922, 'juanita': 2421, 'elsewhere': 1554, 'classify': 927, 'ai': 136, 'goiter': 1845, 'nm': 3135, 'inhalation': 2244, 'mci': 2788, 'xenon': 4965, 'equilibrium': 1610, 'projection': 3584, 'intravenous': 2327, 'maa': 2705, 'correlative': 1152, 'diminish': 1406, 'uptake': 4711, 'match': 2768, 'mesh': 2842, 'lobar': 2638, 'prominent': 3589, 'oblique': 3215, 'anatomic': 236, 'correspond': 1153, 'trap': 4588, 'unmatched': 4688, 'emboli': 1557, 'characteristic': 865, 'tracer': 4547, 'read': 3680, 'verify': 4807, 'gupta': 1892, 'signature': 4020, 'debra': 1282, 'marissa': 2749, 'heather': 1947, 'pelvic': 3413, 'exploratory': 1665, 'laporotomy': 2518, 'salpingo': 3870, 'oophorectomy': 3267, 'staging': 4168, 'lap': 2516, 'bso': 688, 'cirrhosis': 914, 'compute': 1050, 'tomography': 4516, 'groundglass': 1880, 'portal': 3505, 'varix': 4765, 'vascularity': 4770, 'hepatopulmonary': 2000, 'compatible': 1025, 'steatosis': 4188, 'hepatocellular': 1998, 'carcinoma': 760, 'six': 4048, 'splenomegaly': 4141, 'arise': 355, 'sma': 4067, 'laparotomy': 2517, 'lysis': 2702, 'adhesion': 83, 'ureterolysis': 4720, 'omentectomy': 3253, 'washing': 4878, 'umbilical': 4655, 'cystic': 1246, 'ovary': 3338, 'pmh': 3488, 'ebl': 1516, 'cbc': 817, 'accucheck': 40, 'narcan': 3038, 'oriented': 3304, 'intial': 2312, 'buble': 690, 'voiding': 4851, 'additonally': 75, 'condtion': 1061, 'khanna': 2455, 'staple': 4178, 'handwash': 1914, 'friend': 1779, 'nothing': 3178, 'vagina': 4745, 'namita': 3036, 'patrick': 3395, 'youssef': 4983, 'job': 2405, 'adam': 69, 'webb': 4891, 'noted': 3177, 'track': 4552, 'painful': 3360, 'stimuli': 4210, 'wise': 4932, 'asv': 409, 'gut': 1893, 'frequent': 1776, 'electrolyte': 1546, 'minus': 2911, 'checking': 873, 'wood': 4946, 'janet': 2381, 'maddox': 2709, 'larry': 2521, 'chhaya': 880, 'smoiking': 4071, 'nicm': 3115, 'samady': 3873, 'habib': 1902, 'bottom': 635, 'lcx': 2543, 'minx': 2913, 'arteotomy': 371, 'modification': 2949, 'prevent': 3556, 'managment': 2735, 'cveuh': 1238, 'inj': 2256, 'midazolam': 2884, 'lfa': 2582, 'diag': 1368, 'supertorq': 4289, 'jl': 2404, 'micropuncture': 2878, 'nit': 3127, 'guide': 1889, 'mynx': 3024, 'hemodynamics': 1981, 'reference': 3713, 'rx': 3857, 'dominance': 1458, 'circ': 908, 'oms': 3256, 'lpda': 2674, 'lpl': 2676, 'obtuse': 3226, 'marginal': 2744, 'rpda': 3842, 'rpl': 3843, 'ramus': 3664, 'malig': 2726, 'strarted': 4223, 'bb': 519, 'recover': 3700, 'decatur': 1285, 'campus': 735, 'north': 3170, 'jennifer': 2394, 'brown': 683, 'clifton': 936, 'harvey': 1925, 'heeke': 1951, 'garrett': 1800, 'arrhythmogenic': 366, 'th': 4423, 'ultiple': 4652, 'sycopal': 4335, 'philadelphia': 3452, 'atlanta': 420, 'interrogation': 2303, 'boston': 633, 'scientific': 3914, 'vf': 4815, 'zone': 4996, 'deliver': 1331, 'digoxin': 1397, 'mostly': 2976, 'inotropic': 2266, 'maintenence': 2718, 'wendy': 4904, 'book': 629, 'congenital': 1070, 'atresia': 425, 'conduit': 1063, 'thoracotomy': 4445, 'kogon': 2472, 'biobridge': 579, 'endocarditis': 1579, 'productive': 3574, 'sputum': 4151, 'notice': 3179, 'wake': 4867, 'dysuria': 1507, 'jvp': 2430, 'dyssynchrony': 1505, 'afterload': 117, 'captopril': 756, 'euvolemic': 1631, 'educate': 1528, 'dietary': 1384, 'rec': 3685, 'nb': 3053, 'unstable': 4698, 'hld': 2021, 'radiopaque': 3662, 'calculus': 725, 'uropathy': 4733, 'nonspecific': 3160, 'stone': 4215, 'calculi': 724, 'colonic': 993, 'diverticulum': 1442, 'diverticulitis': 1441, 'undescended': 4674, 'testicle': 4419, 'davis': 1267, 'mary': 2759, 'lloyd': 2634, 'tachybrady': 4359, 'scintigraphic': 3916, 'lexiscan': 2580, 'say': 3893, 'bad': 490, 'questioning': 3647, 'determine': 1359, 'pause': 3399, 'arrhythmias': 365, 'unsuccessfully': 4700, 'transvenous': 4586, 'kind': 2462, 'reversible': 3792, 'asymptomatic': 412, 'conjunction': 1075, 'adjust': 85, 'frequently': 1777, 'intimate': 2314, 'amenable': 203, 'nicotine': 3117, 'production': 3573, 'mucinex': 2996, 'compel': 1026, 'transdermal': 4563, 'doxycycline': 1469, 'monohydrate': 2962, 'esomeprazole': 1617, 'tartrate': 4379, 'gum': 1890, 'valsartan': 4752, 'inform': 2236, 'establish': 1623, 'canton': 749, 'sure': 4305, 'reynolds': 3795, 'latimer': 2532, 'casey': 795, 'henritz': 1989, 'taparia': 4377, 'braham': 650, 'racing': 3655, 'data': 1263, 'thromboembolism': 4464, 'triple': 4609, 'lipid': 2620, 'referral': 3714, 'grave': 1865, 'quickly': 3649, 'claim': 921, 'consecutive': 1080, 'sheet': 3993, 'ad': 67, 'lib': 2589, 'kelola': 2445, 'jamila': 2380, 'krakow': 2477, 'brittle': 672, 'compl': 1029, 'ications': 2125, 'nonischemic': 3154, 'acetate': 46, 'snack': 4077, 'topiramate': 4526, 'bowen': 637, 'bailey': 493, 'convenience': 1126, 'danesh': 1257, 'kella': 2444, 'dkk': 1445, 'lashley': 2523, 'omar': 3252, 'mahmood': 2713, 'lattouf': 2533, 'prosthetic': 3596, 'redo': 3708, 'sternotomy': 4200, 'bentall': 547, 'amaurosis': 197, 'hemorrhoid': 1986, 'rotator': 3837, 'cuff': 1217, 'tonsillectomy': 4521, 'variable': 4762, 'symmetric': 4338, 'chemistry': 874, 'hematologic': 1963, 'operate': 3274, 'satisfactory': 3885, 'gentamicin': 1814, 'coughlin': 1165, 'viola': 4826, 'utilize': 4739, 'swan': 4327, 'ganz': 1798, 'ultimately': 4651, 'uneventful': 4680, 'tumor': 4630, 'clopidogrel': 946, 'cardizem': 778, 'alton': 192, 'kreton': 2479, 'mavromatis': 2771, 'kranin': 2478, 'complains': 1033, 'across': 54, 'diffusely': 1394, 'cat': 797, 'bradley': 644, 'leshnower': 2560, 'somewhere': 4098, 'self': 3947, 'arb': 348, 'neujahr': 3083, 'lie': 2595, 'rejection': 3728, 'wheezing': 4911, 'biopsy': 582, 'edematous': 1527, 'flat': 1743, 'upright': 4709, 'diaphragmatic': 1376, 'irritating': 2352, 'evening': 1637, 'alpha': 178, 'bronchospasm': 681, 'supratherapeutic': 4303, 'dinner': 1408, 'lunch': 2685, 'subcutaneously': 4247, 'noxafil': 3186, 'suspension': 4315, 'celsius': 838, 'supple': 4291, 'bruit': 685, 'jugular': 2424, 'slightly': 4062, 'nondistended': 3151, 'douglasville': 1467, 'closely': 948, 'tomorrow': 4517, 'remind': 3738, 'alarm': 149, 'melissa': 2822, 'nelson': 3070, 'mmn': 2935, 'examine': 1646, 'personally': 3441, 'documentation': 1456, 'assistant': 401, 'director': 1415, 'mckelvey': 2790, 'helen': 1955, 'hypercalcemia': 2077, 'hyperparathyroidism': 2087, 'ero': 1614, 'aaf': 0, 'tmng': 4500, 'newton': 3101, 'wither': 4938, 'lose': 2662, 'correct': 1148, 'pth': 3616, 'nephrolithiasis': 3073, 'bisphosphonate': 589, 'sharma': 3987, 'parathyroid': 3374, 'adenoma': 78, 'optimal': 3290, 'ambulatory': 201, 'lynch': 2700, 'haren': 1921, 'hoskins': 2039, 'upgrade': 4706, 'biventricular': 592, 'medtronic': 2815, 'venogram': 4790, 'muscular': 3012, 'dystrophy': 1506, 'quiescence': 3650, 'specifically': 4126, 'supraclavicular': 4300, 'cushing': 1227, 'budesonide': 692, 'microscopic': 2879, 'colitis': 984, 'wisebram': 4933, 'northside': 3171, 'lomotil': 2650, 'pedal': 3409, 'resuscitation': 3783, 'appropriately': 339, 'sandy': 3876, 'spring': 4148, 'stewart': 4204, 'hugh': 2056, 'patton': 3397, 'phone': 3455, 'nuclear': 3200, 'malignancy': 2727, 'accord': 37, 'simplify': 4028, 'fluctuate': 1750, 'qtc': 3635, 'among': 215, 'safely': 3863, 'lois': 2649, 'deemer': 1305, 'nichol': 3113, 'laurence': 2534, 'beer': 532, 'alzheimer': 194, 'hypoxemic': 2119, 'bronchodilator': 679, 'chart': 869, 'reportedly': 3752, 'field': 1719, 'epinephrine': 1607, 'saturate': 3887, 'coarse': 964, 'largely': 2520, 'step': 4195, 'esmolol': 1616, 'moan': 2938, 'audibly': 443, 'recognize': 3693, 'attorney': 439, 'burrow': 703, 'request': 3754, 'tour': 4536, 'moribund': 2968, 'risperdal': 3816, 'xopenex': 4968, 'nebulized': 3058, 'latanoprost': 2528, 'ophthalmic': 3278, 'clotrimazole': 952, 'intertriginous': 2306, 'bisacodyl': 588, 'conjugate': 1074, 'helm': 1956, 'hammock': 1910, 'attokaren': 438, 'alpharetta': 179, 'physically': 3462, 'hit': 2018, 'trip': 4608, 'something': 4094, 'blockage': 605, 'sts': 4237, 'chance': 860, 'unwilling': 4702, 'mind': 2901, 'future': 1790, 'whatley': 4908, 'sarah': 3881, 'lagford': 2503, 'methicillin': 2855, 'resistant': 3765, 'staphylococcus': 4177, 'aureus': 447, 'loose': 2657, 'hypercapnic': 2082, 'hypoventilation': 2116, 'hcap': 1931, 'atable': 413, 'proteus': 3601, 'mirabilis': 2914, 'keflex': 2443, 'gradually': 1857, 'basal': 507, 'ystolic': 4985, 'hyperphosphatemia': 2088, 'progression': 3580, 'brimonidine': 670, 'nexium': 3102, 'miconazole': 2875, 'montitor': 2964, 'na': 3030, 'spe': 4119, 'nt': 3198, 'amanda': 196, 'methvin': 2858, 'uremia': 4719, 'schizophrenia': 3909, 'empirically': 1570, 'difficile': 1390, 'neither': 3069, 'melena': 2821, 'screening': 3926, 'geriatrician': 1821, 'ammonium': 214, 'international': 2299, 'nephro': 3072, 'vite': 4845, 'np': 3188, 'caroline': 786, 'graber': 1853, 'computer': 1051, 'daniel': 1258, 'sims': 4029, 'austin': 450, 'douglas': 1466, 'alexander': 157, 'deka': 1327, 'anjan': 261, 'oht': 3248, 'bm': 613, 'approx': 340, 'tenesmus': 4405, 'endorse': 1583, 'sick': 4015, 'immunosuppressive': 2162, 'leukopenia': 2568, 'cholecystectomy': 890, 'cytomegalovirus': 1249, 'orthotopic': 3311, 'azotemia': 478, 'salmonella': 3869, 'shigella': 3998, 'campy': 736, 'unauth': 4658, 'microsporidium': 2880, 'ovum': 3344, 'parasite': 3373, 'clostridium': 949, 'toxin': 4541, 'cryptococcal': 1210, 'antigen': 296, 'quant': 3642, 'undetect': 4675, 'iu': 2367, 'slight': 4061, 'hypochloremic': 2097, 'alkalosis': 163, 'ova': 3337, 'dif': 1385, 'undetectable': 4676, 'bc': 521, 'crypto': 1209, 'myfortic': 3023, 'pm': 3487, 'januvia': 2383, 'cosby': 1158, 'monaco': 2955, 'hypocalcemia': 2096, 'hpi': 2051, 'tthsa': 4626, 'aid': 138, 'tuesday': 4629, 'transportation': 4581, 'typical': 4641, 'swelling': 4330, 'wrist': 4961, 'fact': 1683, 'manipulation': 2739, 'ongoing': 3263, 'breakdown': 657, 'story': 4219, 'arvs': 383, 'osteodystrophy': 3318, 'miu': 2927, 'phosphorus': 3460, 'vl': 4847, 'ue': 4644, 'ectatic': 1524, 'perihilar': 3429, 'marking': 2752, 'mark': 2751, 'osseous': 3315, 'cellulitis': 837, 'clinically': 941, 'fixation': 1737, 'radius': 3663, 'hardware': 1919, 'basilic': 512, 'occasion': 3229, 'fistula': 1734, 'ligate': 2603, 'throbosis': 4458, 'ligated': 2604, 'neprology': 3077, 'masud': 2767, 'activated': 58, 'transport': 4580, 'wave': 4882, 'sunday': 4283, 'talk': 4370, 'worker': 4948, 'medicaid': 2807, 'qualifies': 3638, 'southeast': 4114, 'share': 3986, 'bcs': 522, 'draw': 1473, 'circumference': 910, 'notably': 3175, 'swollen': 4332, 'mckinnon': 2791, 'arv': 382, 'lopez': 2658, 'vit': 4841, 'meassured': 2799, 'phosphate': 3458, 'calciriol': 719, 'ug': 4646, 'substatially': 4260, 'script': 3927, 'calcitriol': 720, 'fox': 1770, 'endarterectomy': 1578, 'urinate': 4728, 'hydrocortisone': 2072, 'sotalol': 4110, 'coma': 1000, 'curfman': 1223, 'randolph': 3665, 'stephen': 4196, 'clements': 935, 'adult': 97, 'birth': 587, 'accession': 34, 'location': 2643, 'height': 1953, 'bsa': 687, 'sonographer': 4103, 'jp': 2417, 'berger': 550, 'bacteremic': 486, 'malaise': 2721, 'myxomatous': 3029, 'flail': 1740, 'amvl': 227, 'jet': 2401, 'vegetation': 4783, 'ruptured': 3851, 'chord': 893, 'veg': 4782, 'intervene': 2309, 'hemmorage': 1974, 'hemmorahgic': 1975, 'conversion': 1129, 'omfs': 3255, 'teeth': 4393, 'uninsured': 4683, 'counselor': 1171, 'opthamology': 3288, 'conjunctival': 1076, 'injection': 2258, 'burn': 700, 'tearing': 4389, 'dx': 1494, 'blepharitis': 602, 'rxn': 3858, 'conjunctivitis': 1077, 'way': 4884, 'artificial': 381, 'tear': 4387, 'ou': 3326, 'opthalmologic': 3285, 'infective': 2225, 'uveitis': 4741, 'involvement': 2340, 'mclaren': 2793, 'charlotte': 868, 'budd': 691, 'terrace': 4412, 'hsv': 2054, 'keratitis': 2448, 'cutaneous': 1231, 'nerve': 3078, 'susceptible': 4312, 'glucagon': 1837, 'maintenance': 2717, 'normalize': 3165, 'presume': 3551, 'repletion': 3750, 'toxicity': 4540, 'healthcare': 1942, 'initiation': 2255, 'never': 3098, 'rather': 3673, 'inconsistent': 2194, 'localization': 2641, 'adjustable': 86, 'pregabalin': 3533, 'hallucinate': 1907, 'notify': 3181, 'assure': 406, 'necessary': 3060, 'sd': 3928, 'category': 799, 'timolol': 4489, 'hammond': 1911, 'joshua': 2415, 'mccoy': 2783, 'hypovolemic': 2117, 'hypernatremia': 2086, 'normocytic': 3168, 'convexity': 1131, 'nurosergery': 3204, 'drink': 1475, 'malnourishment': 2730, 'exert': 1655, 'strongly': 4233, 'role': 3829, 'thrive': 4457, 'adls': 88, 'snf': 4078, 'cousin': 1179, 'alteration': 186, 'behavioral': 536, 'antipsychotic': 298, 'antidepressant': 294, 'caution': 811, 'topic': 4523, 'advance': 99, 'indefinitely': 2201, 'shot': 4007, 'hope': 2033, 'liberate': 2590, 'amplitude': 224, 'epileptiform': 1606, 'nh': 3108, 'ams': 226, 'requring': 3757, 'em': 1556, 'am': 195, 'tachypnea': 4362, 'pan': 3365, 'sensitive': 3952, 'except': 1649, 'ampicillin': 222, 'completion': 1038, 'gradual': 1856, 'mentals': 2836, 'neurosurgery': 3096, 'held': 1954, 'multifactoral': 3001, 'encephalopathy': 1574, 'form': 1766, 'creatinie': 1194, 'contraction': 1116, 'hgb': 2007, 'hemodilution': 1978, 'isotonic': 2363, 'hn': 2022, 'kobaidze': 2471, 'ketevan': 2450, 'traumatic': 4591, 'acemaker': 44, 'chiami': 881, 'hygiene': 2074, 'arthrocentesis': 378, 'allergic': 166, 'nsaid': 3193, 'basis': 514, 'breakthrough': 659, 'usry': 4735, 'kim': 2460, 'creatine': 1193, 'kinase': 2461, 'cumulative': 1221, 'pvd': 3630, 'cea': 823, 'ptca': 3615, 'late': 2529, 'accelerate': 30, 'sl': 4057, 'bridge': 666, 'morris': 2972, 'lmca': 2636, 'totally': 4534, 'tight': 4481, 'tubular': 4628, 'sequential': 3962, 'anastomosis': 234, 'stented': 4193, 'warn': 4876, 'rodriguez': 3827, 'green': 1870, 'jithendranath': 2403, 'palacherla': 3361, 'arthritis': 377, 'briarcliff': 665, 'buspirone': 706, 'levalbuterol': 2569, 'nasonex': 3045, 'nasally': 3044, 'simethicone': 4025, 'ambien': 198, 'insomnia': 2272, 'lyrica': 2701, 'five': 1736, 'julie': 2426, 'schneider': 3911, 'brook': 682, 'anthony': 282, 'bernard': 552, 'burklin': 699, 'yelena': 4976, 'subsegemental': 4254, 'washout': 4879, 'obscure': 3217, 'subtotalled': 4265, 'diseased': 1424, 'mlad': 2931, 'prox': 3606, 'tt': 4624, 'desaturate': 1349, 'nocturnal': 3137, 'polysomnography': 3498, 'autonomic': 455, 'refuse': 3718, 'liza': 2632, 'hasso': 1927, 'tahsin': 4366, 'ivey': 2370, 'venise': 4789, 'obstetrician': 3220, 'martinuzzi': 2757, 'kurt': 2484, 'resident': 3762, 'obi': 3213, 'ujuka': 4648, 'birhts': 586, 'abortion': 20, 'child': 883, 'labor': 2490, 'antepartum': 277, 'specified': 4127, 'rpr': 3844, 'abo': 16, 'rh': 3797, 'allergies': 167, 'spontaneous': 4144, 'intrapartum': 2324, 'postpartum': 3517, 'specify': 4128, 'unspecificed': 4696, 'nsvd': 3197, 'infant': 2218, 'pp': 3523, 'pod': 3496, 'calf': 726, 'ob': 3210, 'gender': 1808, 'apgar': 318, 'pregnancy': 3534, 'unspecific': 4695, 'lift': 2601, 'libitum': 2592, 'pad': 3358, 'lasting': 2527, 'worrisome': 4951, 'tanasa': 4375, 'carr': 790, 'malissa': 2729, 'knapper': 2467, 'hemiplegia': 1972, 'pontine': 3500, 'gitelman': 1828, 'yellow': 4977, 'hazy': 1929, 'curvilinear': 1226, 'pons': 3499, 'transformation': 4568, 'degrade': 1323, 'cavernous': 814, 'noncontrast': 3150, 'series': 3965, 'gray': 1867, 'territorial': 4413, 'lacunar': 2501, 'supratentorial': 4302, 'extra': 1673, 'axial': 473, 'density': 1338, 'skull': 4056, 'calvarium': 734, 'mastoid': 2766, 'obviously': 3228, 'difference': 1387, 'slur': 4066, 'droop': 1479, 'ems': 1572, 'arrived': 369, 'asymmetry': 411, 'anxious': 305, 'worry': 4952, 'diligent': 1403, 'apparent': 325, 'permissive': 3438, 'exhibit': 1657, 'pronounced': 3592, 'lue': 2682, 'lle': 2633, 'participation': 3381, 'cefpodoxime': 826, 'contaminate': 1104, 'lactam': 2496, 'resistance': 3764, 'benzodiazepenes': 548, 'kcl': 2438, 'neg': 3066, 'cephalosporine': 845, 'cooper': 1133, 'walter': 4871, 'lewis': 2578, 'teresa': 4408, 'lianne': 2588, 'beck': 525, 'bacillus': 482, 'davita': 1268, 'money': 2957, 'vomiting': 4856, 'zofran': 4994, 'sammy': 3874, 'mugambi': 2999, 'gabapentin': 1791, 'specie': 4124, 'anthracis': 283, 'colony': 995, 'coccobacillus': 969, 'another': 272, 'inguina': 2241, 'incarceration': 2186, 'inflammation': 2231, 'sevelamer': 3975, 'sharmin': 3988, 'sb': 3894, 'lucas': 2680, 'tommie': 4515, 'louis': 2665, 'eapen': 1510, 'danny': 1259, 'popliteal': 3503, 'cataract': 798, 'spinal': 4139, 'expand': 1660, 'angioplasty': 257, 'superficial': 4286, 'ring': 3813, 'spielmaker': 4137, 'courtnie': 1177, 'rachel': 3654, 'curettage': 1222, 'noncardiac': 3146, 'scimitar': 3915, 'anomalous': 269, 'tilt': 4484, 'inconsistently': 2195, 'hydrate': 2066, 'midodrine': 2887, 'singnificantly': 4036, 'electrophysiology': 1549, 'chorioamnionitis': 894, 'miscarriage': 2918, 'prenatal': 3536, 'transvaginal': 4585, 'tentatively': 4406, 'wayne': 4885, 'principal': 3561, 'implantable': 2170, 'cardioverter': 777, 'worsened': 4956, 'climb': 937, 'stair': 4170, 'uri': 4724, 'thought': 4451, 'impediment': 2168, 'understood': 4672, 'srivasi': 4158, 'sumathi': 4279, 'garnett': 1799, 'phillips': 3454, 'squamous': 4153, 'scc': 3904, 'node': 3140, 'tired': 4494, 'appetite': 330, 'urination': 4729, 'atn': 421, 'kayexalate': 2437, 'cortisol': 1157, 'stim': 4208, 'acei': 43, 'parashar': 3372, 'hf': 2005, 'dehydrate': 1325, 'wt': 4963, 'isosorbide': 2361, 'dinitrate': 1407, 'toresemide': 4528, 'multi': 3000, 'xrt': 4970, 'lymph': 2697, 'axilla': 474, 'wil': 4919, 'oncologistin': 3259, 'deficient': 1312, 'spoke': 4142, 'reccomended': 3687, 'aout': 314, 'ocde': 3241, 'dnr': 1449, 'calhoun': 727, 'henry': 1990, 'watson': 4881, 'hallucination': 1908, 'threaten': 4454, 'violent': 4827, 'apparently': 326, 'agitated': 128, 'threat': 4453, 'gun': 1891, 'shoot': 4002, 'microvascular': 2881, 'firestone': 1729, 'neuropsychiatric': 3095, 'conversation': 1128, 'monica': 2958, 'neuropsych': 3094, 'neely': 3065, 'vasculopathy': 4772, 'aspergillosis': 393, 'thorascopic': 4446, 'citrobacter': 917, 'elute': 1555, 'allograft': 170, 'thromboses': 4466, 'utis': 4740, 'chilly': 885, 'collect': 988, 'specimen': 4129, 'cefepime': 825, 'bruise': 684, 'adherence': 82, 'continence': 1107, 'lava': 2535, 'freeman': 1774, 'macon': 2706, 'alternate': 188, 'hometown': 2031, 'denorris': 1337, 'someren': 4093, 'malfunctioning': 2725, 'saturday': 3889, 'candler': 744, 'erectile': 1612, 'urgent': 4723, 'corso': 1155, 'cialis': 905, 'abacavir': 3, 'atazanavir': 414, 'ritonavir': 3817, 'renvela': 3744, 'exacerbate': 1642, 'tolerable': 4507, 'interesting': 2291, 'amplatz': 223, 'stiff': 4206, 'inflate': 2233, 'observe': 3219, 'ccs': 819, 'welton': 4903, 'sung': 4285, 'lieu': 2596, 'perforation': 3424, 'hydronephrosis': 2073, 'showing': 4011, 'nonocclusive': 3156, 'intraluminal': 2321, 'aphasia': 319, 'hemiparesis': 1971, 'decannulate': 1283, 'diseases': 1425, 'vanco': 4759, 'abrupt': 21, 'obstruct': 3221, 'continuous': 1112, 'irrigation': 2350, 'clearance': 932, 'decannulation': 1284, 'cannulate': 747, 'cuffless': 1219, 'lot': 2664, 'kilos': 2459, 'kilo': 2458, 'guarded': 1887, 'julia': 2425, 'chamberlain': 858, 'iheanyi': 2140, 'obialo': 3214, 'rhonchus': 3801, 'bibasilar': 563, 'forearm': 1765, 'borderline': 631, 'infiltrates': 2230, 'worse': 4953, 'arrangement': 361, 'onwuanyi': 3266, 'tessalon': 4417, 'crestor': 1198, 'cio': 906, 'bynum': 709, 'roy': 3840, 'monoclonal': 2961, 'gammopathy': 1797, 'significance': 4021, 'scope': 3920, 'fobt': 1754, 'marrow': 2754, 'myeloma': 3020, 'plasma': 3476, 'dyscrasia': 1498, 'mgus': 2870, 'hematologist': 1964, 'amyloidosis': 228, 'congo': 1073, 'normotensive': 3169, 'headedness': 1939, 'callahan': 731, 'diehl': 1382, 'deborah': 1281, 'chao': 864, 'yu': 4986, 'transplantation': 4579, 'official': 3245, 'cl': 919, 'glu': 1836, 'hct': 1932, 'ca': 711, 'alp': 177, 'bili': 574, 'alb': 150, 'auto': 453, 'gran': 1862, 'lym': 2696, 'mon': 2954, 'ba': 479, 'applicable': 331, 'asymmetric': 410, 'transbronchial': 4560, 'pathologic': 3391, 'obliterative': 3216, 'bronchiolitis': 677, 'donor': 1460, 'decease': 1286, 'unos': 4690, 'idiopathic': 2137, 'recipient': 3692, 'nhya': 3109, 'shge': 3996, 'trabsplant': 4545, 'misdiagnosis': 2919, 'hla': 2020, 'antibodies': 287, 'subsquently': 4259, 'november': 3184, 'throid': 4459, 'thyroidectomy': 4475, 'afterwards': 119, 'metasatsis': 2848, 'lawrence': 2538, 'smoothly': 4075, 'intraoperatively': 2323, 'methylpred': 2859, 'noepinephrine': 3143, 'inotrope': 2264, 'anastomsis': 235, 'resp': 3768, 'secreation': 3934, 'malconnection': 2722, 'secondarty': 3932, 'aerobic': 107, 'imuran': 2182, 'mlodipine': 2932, 'dapsone': 1260, 'bg': 559, 'isophane': 2358, 'nph': 3189, 'qam': 3631, 'metoclopramide': 2863, 'autery': 451, 'dyne': 1496, 'osteopathy': 3319, 'amr': 225, 'tsa': 4622, 'ivig': 2372, 'rituxan': 3818, 'endometrial': 1582, 'exercise': 1654, 'sirolimus': 4042, 'mail': 2714, 'sometimes': 4096, 'rituximab': 3819, 'methotrexate': 2857, 'solu': 4087, 'medrol': 2814, 'cost': 1159, 'barbara': 500, 'stanley': 4175, 'sherman': 3995, 'coffee': 973, 'nauseated': 3050, 'convert': 1130, 'vasc': 4767, 'necessitate': 3061, 'benazepril': 541, 'hctz': 1933, 'hematemesis': 1961, 'leuk': 2565, 'akash': 144, 'patel': 3389, 'purple': 3626, 'ap': 315, 'lambert': 2508, 'johanna': 2406, 'sent': 3954, 'bryan': 686, 'suppress': 4298, 'ionized': 2341, 'nephrotoxin': 3076, 'enterococcus': 1598, 'amoxicillin': 218, 'deconditioning': 1296, 'lethargy': 2563, 'extensively': 1671, 'seizures': 3944, 'atypical': 441, 'ventriculomegaly': 4802, 'particularly': 3382, 'third': 4438, 'generalized': 1811, 'mucosal': 2997, 'maxillary': 2773, 'layer': 2539, 'inspissated': 2273, 'tertiary': 4416, 'syphillis': 4347, 'accompany': 36, 'neb': 3057, 'duonebs': 1488, 'nod': 3138, 'yes': 4978, 'asleep': 390, 'unavailable': 4659, 'fulton': 1783, 'trigger': 4603, 'trop': 4613, 'ecg': 1518, 'clearly': 933, 'thoughout': 4450, 'absorption': 23, 'towards': 4537, 'helpful': 1958, 'myalgia': 3019, 'actively': 60, 'sgarbossa': 3981, 'infected': 2222, 'miguel': 2890, 'stubbs': 4239, 'glove': 1835, 'mangum': 2736, 'worseining': 4954, 'bathroom': 516, 'jeffery': 2391, 'howard': 2048, 'tamiflufor': 4372, 'burst': 704, 'uptitrate': 4712, 'uptitrating': 4714, 'strep': 4227, 'staph': 4176, 'abx': 26, 'contaminant': 1103, 'lemonia': 2557, 'sophia': 4105, 'cdu': 822, 'tracheal': 4550, 'maybe': 2777, 'jdk': 2390, 'skinner': 4054, 'wiley': 4920, 'zanthia': 4988, 'wide': 4916, 'cardioverted': 776, 'akas': 143, 'sheila': 3994, 'robinson': 3823, 'hunter': 2059, 'benzodiazepine': 549, 'tox': 4539, 'cagb': 714, 'abstain': 24, 'christian': 895, 'mattie': 2770, 'pneumoniae': 3492, 'responsiveness': 3775, 'bedbound': 528, 'prompt': 3590, 'cardioprotective': 770, 'initiated': 2254, 'erratic': 1615, 'anorexia': 271, 'advanced': 100, 'con': 1052, 'opt': 3284, 'debilitated': 1278, 'misty': 2923, 'vanajakshi': 4757, 'bollineni': 624, 'horatio': 2035, 'substernal': 4261, 'pleuritic': 3484, 'nature': 3048, 'shoulder': 4008, 'sweat': 4328, 'travel': 4593, 'vb': 4779, 'cottrill': 1162, 'singificant': 4034, 'bms': 616, 'vfib': 4816, 'rheumatoid': 3799, 'mile': 2894, 'metts': 2867, 'vivian': 4846, 'virginia': 4830, 'allopurinol': 171, 'mastectomy': 2765, 'lumpectomy': 2684, 'irradiation': 2347, 'operability': 3273, 'bit': 590, 'certainly': 849, 'submit': 4251, 'euvolemia': 1630, 'acceptance': 32, 'cornelius': 1146, 'lett': 2564, 'celia': 833, 'sinha': 4037, 'identification': 2135, 'electrophoresis': 1548, 'clonal': 943, 'cytometry': 1250, 'fish': 1731, 'cytogenetics': 1248, 'translocation': 4576, 'skeletal': 4051, 'survey': 4311, 'igg': 2138, 'lambda': 2507, 'paraprotein': 3371, 'transfused': 4570, 'durie': 1491, 'salmon': 3868, 'revlimid': 3794, 'velcade': 4785, 'dexamethasone': 1364, 'infrequent': 2238, 'bmt': 617, 'kps': 2476, 'ecog': 1523, 'gvhd': 1896, 'stem': 4189, 'ant': 276, 'coagulation': 962, 'doxazosin': 1468, 'injectable': 2257, 'lock': 2644, 'vitamins': 4844, 'mobilization': 2941, 'chemo': 875, 'rn': 3820, 'ackey': 52, 'annette': 265, 'noncompaction': 3147, 'black': 595, 'stride': 4230, 'travatan': 4592, 'macrodantin': 2707, 'megestrol': 2818, 'harold': 1923, 'cardell': 762, 'inversion': 2336, 'avf': 461, 'sensipar': 3951, 'sylvia': 4336, 'kendrick': 2446, 'gwynn': 1898, 'metatarsophalangeal': 2851, 'herpes': 2003, 'nonproductive': 3157, 'homogeneous': 2032, 'onto': 3265, 'melanotic': 2820, 'top': 4522, 'multilobar': 3004, 'nodular': 3141, 'mediastinal': 2805, 'hilar': 2014, 'adenopathy': 79, 'lymphoma': 2699, 'suffice': 4271, 'gordon': 1849, 'jackson': 2375, 'sterilize': 4198, 'chloroprep': 888, 'anesthesized': 244, 'rij': 3811, 'catherter': 804, 'marginally': 2745, 'filling': 1721, 'pcw': 3404, 'arteral': 372, 'carol': 784, 'hcv': 1934, 'creation': 1196, 'brachiocephalic': 643, 'brachial': 642, 'arteriovenous': 375, 'avg': 462, 'create': 1192, 'boswell': 634, 'unfortunate': 4681, 'thereby': 4429, 'expire': 1662, 'angela': 248, 'massart': 2763, 'annie': 266, 'immature': 2156, 'granulocytes': 1864, 'nippv': 3126, 'mix': 2928, 'ven': 4787, 'canu': 750, 'osa': 3312, 'oh': 3247, 'hypercapneia': 2079, 'bathtub': 517, 'hypercapneic': 2080, 'warming': 4875, 'bath': 515, 'intolerance': 2316, 'mask': 2760, 'hypercapnia': 2081, 'hypercapnea': 2078, 'supplemental': 4293, 'unquestionable': 4691, 'imminent': 2158, 'away': 472, 'terry': 4415, 'koura': 2474, 'update': 4704, 'discern': 1416, 'biliary': 575, 'anyone': 307, 'kevin': 2452, 'cveeg': 1237, 'gpds': 1851, 'occasionally': 3230, 'background': 484, 'theta': 4431, 'myotonic': 3028, 'meningitis': 2833, 'lp': 2673, 'celcius': 831, 'broaden': 675, 'ammonia': 213, 'normalization': 3164, 'debilitation': 1279, 'church': 903, 'sw': 4324, 'weigh': 4897, 'pgy': 3449, 'pic': 3465, 'feeding': 1699, 'horton': 2038, 'robin': 3822, 'centrilobular': 842, 'coughing': 1164, 'occurs': 3240, 'symptomatically': 4341, 'azithromycin': 477, 'goldstein': 1847, 'kaufman': 2435, 'melphalan': 2828, 'kp': 2475, 'mel': 2819, 'conditioning': 1060, 'crisis': 1199, 'fem': 1705, 'pop': 3502, 'tightness': 4482, 'ate': 415, 'salty': 3872, 'withdrawal': 4937, 'hydral': 2064, 'important': 2174, 'vision': 4835, 'acs': 55, 'damage': 1255, 'widen': 4917, 'argue': 353, 'isordil': 2360, 'anterolateral': 279, 'trops': 4618, 'iscemia': 2353, 'tritrated': 4610, 'appt': 343, 'dye': 1495, 'anal': 230, 'sample': 3875, 'wissam': 4935, 'jaber': 2374, 'hip': 2016, 'inoperable': 2263, 'ballooning': 497, 'apart': 316, 'aborted': 19, 'tortuous': 4532, 'transecho': 4564, 'answer': 274, 'candidacy': 742, 'tavi': 4381, 'mill': 2896, 'shah': 3984, 'amit': 210, 'jasvant': 2385, 'anoxic': 273, 'automatic': 454, 'heartmate': 1945, 'iddm': 2130, 'caries': 782, 'ssri': 4161, 'approximation': 342, 'mssa': 2994, 'suppressive': 4299, 'sxs': 4334, 'completed': 1036, 'antifungal': 295, 'neuropathic': 3092, 'specialist': 4122, 'avms': 464, 'sbe': 3895, 'argon': 352, 'cauterization': 810, 'lvad': 2690, 'avm': 463, 'sleepiness': 4059, 'smothering': 4076, 'sensation': 3950, 'obtund': 3225, 'levo': 2574, 'broad': 674, 'spectrum': 4132, 'acidotic': 51, 'amp': 219, 'bag': 492, 'oropharyngeal': 3307, 'thick': 4432, 'aflutter': 115, 'od': 3242, 'virtually': 4831, 'brainstem': 652, 'cortical': 1156, 'maged': 2710, 'nabil': 3031, 'hypoparathyroidism': 2107, 'lft': 2583, 'hyperbilirubinemia': 2076, 'thromboemboli': 4463, 'strain': 4221, 'treatement': 4596, 'replete': 3749, 'cfc': 852, 'inh': 2243, 'aerosol': 108, 'three': 4455, 'comment': 1012, 'ounce': 3327, 'emily': 1565, 'taylor': 4383, 'bicuspid': 566, 'cusp': 1228, 'aneurysmal': 246, 'mitigate': 2925, 'careful': 780, 'someone': 4092, 'steadily': 4187, 'bidil': 568, 'noticeable': 3180, 'cox': 1182, 'anticipation': 290, 'mirtazapine': 2917, 'spence': 4134, 'craig': 1187, 'peterson': 3445, 'indeed': 2200, 'optimization': 3291, 'umbrella': 4656, 'inclusion': 2192, 'minimum': 2907, 'invasive': 2335, 'osteo': 3316, 'bi': 561, 'sincerely': 4033, 'mitchell': 2924, 'courtney': 1176, 'pullin': 3619, 'consultant': 1097, 'cramp': 1188, 'alleviate': 169, 'infusion': 2239, 'cramping': 1189, 'cockburn': 970, 'workman': 4949, 'multiorgan': 3005, 'abd': 5, 'dilation': 1401, 'opacification': 3270, 'reflect': 3716, 'dedicate': 1302, 'clarify': 923, 'alternatively': 190, 'thrombectomy': 4460, 'dificil': 1395, 'levaphed': 2570, 'mottling': 2980, 'organs': 3301, 'hendley': 1988, 'mrs': 2990, 'shut': 4014, 'amendable': 204, 'vistacare': 4837, 'berry': 553, 'anand': 232, 'apparatus': 324, 'sided': 4017, 'kink': 2463, 'silhouette': 4024, 'afw': 120, 'ddir': 1273, 'consitent': 1090, 'niddm': 3119, 'tachy': 4357, 'brady': 645, 'compliants': 1042, 'unremitting': 4693, 'mc': 2781, 'ventricularly': 4800, 'lbbb': 2542, 'tropinin': 4614, 'demand': 1333, 'beleived': 537, 'hap': 1916, 'lfts': 2584, 'decreasing': 1301, 'tfts': 4422, 'mar': 2742, 'accordance': 38, 'woest': 4944, 'mortality': 2973, 'adverse': 103, 'cop': 1138, 'maro': 2753, 'hank': 1915, 'tammy': 4373, 'navette': 3052, 'ham': 1909, 'valiani': 4750, 'kiran': 2464, 'stimulate': 4209, 'hormone': 2037, 'mciu': 2789, 'core': 1142, 'toxoplasma': 4542, 'quantitation': 3643, 'igm': 2139, 'titer': 4496, 'interp': 2300, 'combo': 1006, 'cotinine': 1161, 'amphetamine': 220, 'barbiturate': 501, 'metabolite': 2844, 'opiate': 3279, 'cvclh': 1236, 'challenge': 856, 'nidcm': 3118, 'metolazone': 2864, 'cvp': 1239, 'psychosocial': 3613, 'cardiorenal': 772, 'apneic': 323, 'snore': 4080, 'calhoune': 728, 'thorax': 4447, 'hilum': 2015, 'compaction': 1021, 'bos': 632, 'sci': 3913, 'vest': 4814, 'prevention': 3557, 'rescue': 3759, 'internally': 2298, 'dft': 1365, 'subq': 4253, 'array': 362, 'cs': 1212, 'coil': 978, 'vector': 4780, 'tikosyn': 4483, 'epicardial': 1604, 'safety': 3864, 'margin': 2743, 'bianca': 562, 'kiara': 2456, 'torgersen': 4529, 'jessie': 2400, 'sir': 4041, 'bbca': 520, 'peripartum': 3432, 'leaflets': 2549, 'cordis': 1141, 'introducer': 2330, 'alread': 180, 'hypervolemia': 2094, 'transpulmonary': 4582, 'tolvaptan': 4512, 'aggressviely': 126, 'boost': 630, 'hydrocholothiazide': 2070, 'lifevest': 2600, 'arrythmias': 370, 'defibrillation': 1309, 'livevest': 2630, 'chronis': 899, 'voral': 4858, 'micrococcus': 2877, 'coagulase': 961, 'conservatively': 1083, 'gynecology': 1900, 'divya': 1443, 'braxton': 655, 'benjamin': 544, 'atrioventricular': 428, 'canal': 738, 'cleft': 934, 'plug': 3485, 'ductal': 1486, 'occluder': 3234, 'biplane': 584, 'ooze': 3268, 'intolerant': 2317, 'anurag': 303, 'sahu': 3865, 'anomalus': 270, 'blue': 611, 'grey': 1872, 'boyfriend': 638, 'illicit': 2149, 'corroborate': 1154, 'lymphedema': 2698, 'hyperthyroidism': 2092, 'uterine': 4737, 'oncology': 3260, 'decopensation': 1297, 'nitrofurantoin': 3131, 'roll': 3830, 'reconcile': 3697, 'ada': 68, 'oncologist': 3258, 'jt': 2419, 'emesis': 1564, 'bilious': 576, 'fiancee': 1712, 'incompliant': 2193, 'globulin': 1834, 'upep': 4705, 'brand': 654, 'clark': 925, 'rsv': 3846, 'steroids': 4202, 'augment': 444, 'itching': 2366, 'sara': 3879, 'ann': 263, 'liberman': 2591, 'ivus': 2373, 'carpal': 789, 'tunnel': 4631, 'jaw': 2387, 'subcu': 4244, 'nightly': 3122, 'trazodone': 4594, 'cutchins': 1232, 'westbrook': 4906, 'jd': 2389, 'college': 990, 'unusual': 4701, 'cardioversion': 775, 'marietta': 2747, 'lactulose': 2500, 'continually': 1108, 'altace': 184, 'herbal': 2001, 'milk': 2895, 'thistle': 4439, 'alanna': 148, 'amyre': 229, 'outflow': 3329, 'contractility': 1115, 'assumed': 405, 'codominant': 972, 'consisting': 1089, 'cormorbidities': 1144, 'thorough': 4448, 'guyton': 1895, 'robust': 3824, 'uop': 4703, 'compete': 1028, 'aphthous': 320, 'stomatitis': 4214, 'swab': 4325, 'najmi': 3033, 'tahereh': 4365, 'vad': 4743, 'thoracenteses': 4442, 'intiated': 2313, 'circumstance': 913, 'california': 729, 'pit': 3470, 'manifest': 2737, 'stanford': 4174, 'lampton': 2510, 'bobby': 621, 'undetermined': 4677, 'lytic': 2704, 'blastic': 599, 'lacombe': 2495, 'louisiana': 2667, 'habit': 1903, 'sister': 4043, 'opinion': 3281, 'interest': 2289, 'atrially': 427, 'insert': 2270, 'pcis': 3401, 'appointments': 335, 'wilmont': 4926, 'selena': 3946, 'schizoaffective': 3908, 'constriction': 1095, 'luther': 2687, 'lavelle': 2537, 'tachyarrhythmias': 4358, 'decomepensated': 1291, 'thyroxine': 4476, 'strict': 4229, 'atp': 423, 'improved': 2177, 'bigemny': 570, 'lave': 2536, 'serotype': 3967, 'supportively': 4297, 'lakone': 2504, 'multivessel': 3007, 'language': 2513, 'laotian': 2515, 'sequence': 3961, 'translator': 4575, 'unaware': 4660, 'revascularization': 3788, 'hypoglycemics': 2101, 'administer': 89, 'coagulopathy': 963, 'unmonitored': 4689, 'verification': 4805, 'irritable': 2351, 'talc': 4369, 'svt': 4323, 'leon': 2558, 'tifton': 4480, 'bicarbonate': 565, 'sequentially': 3963, 'crt': 1208, 'model': 2945, 'angel': 247, 'log': 2647, 'hancock': 1913, 'myers': 3022, 'song': 4101, 'ventlatr': 4797, 'vascath': 4768}\n"
          ]
        }
      ]
    },
    {
      "cell_type": "code",
      "source": [
        "print(Train_X_Tfidf.shape)"
      ],
      "metadata": {
        "colab": {
          "base_uri": "https://localhost:8080/"
        },
        "id": "vtTS0d2Rp_xg",
        "outputId": "8f8ecd43-b4c8-43ce-d37b-cb0ee3f9ff10"
      },
      "execution_count": null,
      "outputs": [
        {
          "output_type": "stream",
          "name": "stdout",
          "text": [
            "(105, 5000)\n"
          ]
        }
      ]
    },
    {
      "cell_type": "code",
      "source": [
        "print(Train_Y.shape)"
      ],
      "metadata": {
        "colab": {
          "base_uri": "https://localhost:8080/"
        },
        "id": "yEsz6VAQRGu8",
        "outputId": "4aad4868-346d-4ecf-c045-a0f2d8571079"
      },
      "execution_count": null,
      "outputs": [
        {
          "output_type": "stream",
          "name": "stdout",
          "text": [
            "(105,)\n"
          ]
        }
      ]
    },
    {
      "cell_type": "code",
      "source": [
        "# fit the training dataset on the NB classifier\n",
        "Naive = naive_bayes.MultinomialNB()\n",
        "Naive.fit(Train_X_Tfidf,Train_Y)\n",
        "# predict the labels on validation dataset\n",
        "predictions_NB = Naive.predict(Test_X_Tfidf)\n",
        "# Use accuracy_score function to get the accuracy\n",
        "print(\"Naive Bayes Accuracy Score -> \",accuracy_score(predictions_NB, Test_Y)*100)"
      ],
      "metadata": {
        "colab": {
          "base_uri": "https://localhost:8080/"
        },
        "id": "NqbCXUvEqBgq",
        "outputId": "1310ea1e-688e-4bae-870f-fdfef126ad79"
      },
      "execution_count": null,
      "outputs": [
        {
          "output_type": "stream",
          "name": "stdout",
          "text": [
            "Naive Bayes Accuracy Score ->  56.52173913043478\n"
          ]
        }
      ]
    },
    {
      "cell_type": "code",
      "source": [
        "# Classifier - Algorithm - SVM\n",
        "# fit the training dataset on the classifier\n",
        "SVM = svm.SVC(C=1.0, kernel='linear', degree=3, gamma='auto')\n",
        "SVM.fit(Train_X_Tfidf,Train_Y)\n",
        "# predict the labels on validation dataset\n",
        "predictions_SVM = SVM.predict(Test_X_Tfidf)\n",
        "# Use accuracy_score function to get the accuracy\n",
        "print(\"SVM Accuracy Score -> \",accuracy_score(predictions_SVM, Test_Y)*100)"
      ],
      "metadata": {
        "colab": {
          "base_uri": "https://localhost:8080/"
        },
        "id": "H3asNeZCqGMj",
        "outputId": "e63621a7-3ea9-4a35-eca6-9538acae4943"
      },
      "execution_count": null,
      "outputs": [
        {
          "output_type": "stream",
          "name": "stdout",
          "text": [
            "SVM Accuracy Score ->  65.21739130434783\n"
          ]
        }
      ]
    },
    {
      "cell_type": "markdown",
      "source": [
        "Cross Validation"
      ],
      "metadata": {
        "id": "64tMRRUhfSgg"
      }
    },
    {
      "cell_type": "code",
      "source": [
        "Train_X, Test_X, Train_Y, Test_Y = model_selection.train_test_split(Corpus['text_final'],Corpus['Tag'],test_size=0.3)"
      ],
      "metadata": {
        "id": "RRp8TzTKO0es"
      },
      "execution_count": null,
      "outputs": []
    },
    {
      "cell_type": "code",
      "source": [
        "X_train, X_test, y_train, y_test = model_selection.train_test_split(Corpus['text_final'],Corpus['Tag'], test_size=0.3, random_state=0)"
      ],
      "metadata": {
        "id": "9hP3LKYSOa80"
      },
      "execution_count": null,
      "outputs": []
    },
    {
      "cell_type": "code",
      "source": [
        "Encoder = LabelEncoder()\n",
        "Train_Y = Encoder.fit_transform(Train_Y)\n",
        "Test_Y = Encoder.fit_transform(Test_Y)"
      ],
      "metadata": {
        "id": "t1-jNtGSPsmF"
      },
      "execution_count": null,
      "outputs": []
    },
    {
      "cell_type": "code",
      "source": [
        "Tfidf_vect = TfidfVectorizer(max_features=5000)\n",
        "Tfidf_vect.fit(Corpus['text_final'])\n",
        "Train_X_Tfidf = Tfidf_vect.transform(Train_X)\n",
        "Test_X_Tfidf = Tfidf_vect.transform(Test_X)"
      ],
      "metadata": {
        "id": "F5DDncijP2mz"
      },
      "execution_count": null,
      "outputs": []
    },
    {
      "cell_type": "code",
      "source": [
        "import numpy as np\n",
        "from sklearn.model_selection import train_test_split\n",
        "from sklearn import datasets\n",
        "from sklearn import svm\n",
        "\n",
        "X, y = datasets.load_iris(return_X_y=True)\n",
        "X.shape, y.shape"
      ],
      "metadata": {
        "colab": {
          "base_uri": "https://localhost:8080/"
        },
        "id": "rrYNw_yBQMDx",
        "outputId": "e57360c4-d8d0-40ad-9021-8033efd21e54"
      },
      "execution_count": null,
      "outputs": [
        {
          "output_type": "execute_result",
          "data": {
            "text/plain": [
              "((150, 4), (150,))"
            ]
          },
          "metadata": {},
          "execution_count": 73
        }
      ]
    },
    {
      "cell_type": "code",
      "source": [
        "print(X)\n",
        "print(y)"
      ],
      "metadata": {
        "id": "hBXcfQ9QQlix"
      },
      "execution_count": null,
      "outputs": []
    },
    {
      "cell_type": "code",
      "source": [
        "from sklearn.model_selection import cross_val_score\n",
        "clf = svm.SVC(kernel='linear', C=1, random_state=42)\n",
        "scores = cross_val_score(clf, X,Y, cv=5, n_splits=2)"
      ],
      "metadata": {
        "colab": {
          "base_uri": "https://localhost:8080/",
          "height": 212
        },
        "id": "Him0J5xBOWAf",
        "outputId": "e4e5fd61-ebdf-40cc-fdfe-695939be041d"
      },
      "execution_count": null,
      "outputs": [
        {
          "output_type": "error",
          "ename": "TypeError",
          "evalue": "ignored",
          "traceback": [
            "\u001b[0;31m---------------------------------------------------------------------------\u001b[0m",
            "\u001b[0;31mTypeError\u001b[0m                                 Traceback (most recent call last)",
            "\u001b[0;32m<ipython-input-91-e27beef1af11>\u001b[0m in \u001b[0;36m<module>\u001b[0;34m()\u001b[0m\n\u001b[1;32m      1\u001b[0m \u001b[0;32mfrom\u001b[0m \u001b[0msklearn\u001b[0m\u001b[0;34m.\u001b[0m\u001b[0mmodel_selection\u001b[0m \u001b[0;32mimport\u001b[0m \u001b[0mcross_val_score\u001b[0m\u001b[0;34m\u001b[0m\u001b[0;34m\u001b[0m\u001b[0m\n\u001b[1;32m      2\u001b[0m \u001b[0mclf\u001b[0m \u001b[0;34m=\u001b[0m \u001b[0msvm\u001b[0m\u001b[0;34m.\u001b[0m\u001b[0mSVC\u001b[0m\u001b[0;34m(\u001b[0m\u001b[0mkernel\u001b[0m\u001b[0;34m=\u001b[0m\u001b[0;34m'linear'\u001b[0m\u001b[0;34m,\u001b[0m \u001b[0mC\u001b[0m\u001b[0;34m=\u001b[0m\u001b[0;36m1\u001b[0m\u001b[0;34m,\u001b[0m \u001b[0mrandom_state\u001b[0m\u001b[0;34m=\u001b[0m\u001b[0;36m42\u001b[0m\u001b[0;34m)\u001b[0m\u001b[0;34m\u001b[0m\u001b[0;34m\u001b[0m\u001b[0m\n\u001b[0;32m----> 3\u001b[0;31m \u001b[0mscores\u001b[0m \u001b[0;34m=\u001b[0m \u001b[0mcross_val_score\u001b[0m\u001b[0;34m(\u001b[0m\u001b[0mclf\u001b[0m\u001b[0;34m,\u001b[0m \u001b[0mX\u001b[0m\u001b[0;34m,\u001b[0m\u001b[0mY\u001b[0m\u001b[0;34m,\u001b[0m \u001b[0mcv\u001b[0m\u001b[0;34m=\u001b[0m\u001b[0;36m5\u001b[0m\u001b[0;34m,\u001b[0m \u001b[0mn_splits\u001b[0m\u001b[0;34m=\u001b[0m\u001b[0;36m2\u001b[0m\u001b[0;34m)\u001b[0m\u001b[0;34m\u001b[0m\u001b[0;34m\u001b[0m\u001b[0m\n\u001b[0m",
            "\u001b[0;31mTypeError\u001b[0m: cross_val_score() got an unexpected keyword argument 'n_splits'"
          ]
        }
      ]
    },
    {
      "cell_type": "code",
      "source": [
        "print(\"%0.2f accuracy with a standard deviation of %0.2f\" % (scores.mean(), scores.std()))"
      ],
      "metadata": {
        "id": "bnhF9GpUSJYJ"
      },
      "execution_count": null,
      "outputs": []
    },
    {
      "cell_type": "code",
      "source": [
        "from keras.models import Sequential\n",
        "from keras.layers import Dense\n",
        "from sklearn.model_selection import StratifiedKFold\n",
        "import numpy\n",
        "# fix random seed for reproducibility\n",
        "seed = 7\n",
        "numpy.random.seed(seed)\n",
        "# load pima indians dataset\n",
        "\n",
        "# define 10-fold cross validation test harness\n",
        "kfold = StratifiedKFold(n_splits=2, shuffle=True, random_state=seed)\n",
        "cvscores = []\n",
        "for train, test in kfold.split(X, Y):\n",
        "  # create model\n",
        "    model = Sequential()\n",
        "    model.add(Dense(12, input_dim=8, activation='relu'))\n",
        "    model.add(Dense(8, activation='relu'))\n",
        "    model.add(Dense(1, activation='sigmoid'))\n",
        "    # Compile model\n",
        "    model.compile(loss='binary_crossentropy', optimizer='adam', metrics=['accuracy'])\n",
        "    # Fit the model\n",
        "    model.fit(X[train], Y[train], epochs=150, batch_size=10, verbose=0)\n",
        "    # evaluate the model\n",
        "    scores = model.evaluate(X[test], Y[test], verbose=0)\n",
        "    print(\"%s: %.2f%%\" % (model.metrics_names[1], scores[1]*100))\n",
        "    cvscores.append(scores[1] * 100)\n",
        "print(\"%.2f%% (+/- %.2f%%)\" % (numpy.mean(cvscores), numpy.std(cvscores)))"
      ],
      "metadata": {
        "colab": {
          "base_uri": "https://localhost:8080/",
          "height": 456
        },
        "id": "9SYanzkzWQjM",
        "outputId": "9b743715-58da-4a10-f2aa-cab5c25018a1"
      },
      "execution_count": null,
      "outputs": [
        {
          "output_type": "error",
          "ename": "InvalidArgumentError",
          "evalue": "ignored",
          "traceback": [
            "\u001b[0;31m---------------------------------------------------------------------------\u001b[0m",
            "\u001b[0;31mInvalidArgumentError\u001b[0m                      Traceback (most recent call last)",
            "\u001b[0;32m<ipython-input-93-f6ae0247d041>\u001b[0m in \u001b[0;36m<module>\u001b[0;34m()\u001b[0m\n\u001b[1;32m     20\u001b[0m     \u001b[0mmodel\u001b[0m\u001b[0;34m.\u001b[0m\u001b[0mcompile\u001b[0m\u001b[0;34m(\u001b[0m\u001b[0mloss\u001b[0m\u001b[0;34m=\u001b[0m\u001b[0;34m'binary_crossentropy'\u001b[0m\u001b[0;34m,\u001b[0m \u001b[0moptimizer\u001b[0m\u001b[0;34m=\u001b[0m\u001b[0;34m'adam'\u001b[0m\u001b[0;34m,\u001b[0m \u001b[0mmetrics\u001b[0m\u001b[0;34m=\u001b[0m\u001b[0;34m[\u001b[0m\u001b[0;34m'accuracy'\u001b[0m\u001b[0;34m]\u001b[0m\u001b[0;34m)\u001b[0m\u001b[0;34m\u001b[0m\u001b[0;34m\u001b[0m\u001b[0m\n\u001b[1;32m     21\u001b[0m     \u001b[0;31m# Fit the model\u001b[0m\u001b[0;34m\u001b[0m\u001b[0;34m\u001b[0m\u001b[0;34m\u001b[0m\u001b[0m\n\u001b[0;32m---> 22\u001b[0;31m     \u001b[0mmodel\u001b[0m\u001b[0;34m.\u001b[0m\u001b[0mfit\u001b[0m\u001b[0;34m(\u001b[0m\u001b[0mX\u001b[0m\u001b[0;34m[\u001b[0m\u001b[0mtrain\u001b[0m\u001b[0;34m]\u001b[0m\u001b[0;34m,\u001b[0m \u001b[0mY\u001b[0m\u001b[0;34m[\u001b[0m\u001b[0mtrain\u001b[0m\u001b[0;34m]\u001b[0m\u001b[0;34m,\u001b[0m \u001b[0mepochs\u001b[0m\u001b[0;34m=\u001b[0m\u001b[0;36m150\u001b[0m\u001b[0;34m,\u001b[0m \u001b[0mbatch_size\u001b[0m\u001b[0;34m=\u001b[0m\u001b[0;36m10\u001b[0m\u001b[0;34m,\u001b[0m \u001b[0mverbose\u001b[0m\u001b[0;34m=\u001b[0m\u001b[0;36m0\u001b[0m\u001b[0;34m)\u001b[0m\u001b[0;34m\u001b[0m\u001b[0;34m\u001b[0m\u001b[0m\n\u001b[0m\u001b[1;32m     23\u001b[0m     \u001b[0;31m# evaluate the model\u001b[0m\u001b[0;34m\u001b[0m\u001b[0;34m\u001b[0m\u001b[0;34m\u001b[0m\u001b[0m\n\u001b[1;32m     24\u001b[0m     \u001b[0mscores\u001b[0m \u001b[0;34m=\u001b[0m \u001b[0mmodel\u001b[0m\u001b[0;34m.\u001b[0m\u001b[0mevaluate\u001b[0m\u001b[0;34m(\u001b[0m\u001b[0mX\u001b[0m\u001b[0;34m[\u001b[0m\u001b[0mtest\u001b[0m\u001b[0;34m]\u001b[0m\u001b[0;34m,\u001b[0m \u001b[0mY\u001b[0m\u001b[0;34m[\u001b[0m\u001b[0mtest\u001b[0m\u001b[0;34m]\u001b[0m\u001b[0;34m,\u001b[0m \u001b[0mverbose\u001b[0m\u001b[0;34m=\u001b[0m\u001b[0;36m0\u001b[0m\u001b[0;34m)\u001b[0m\u001b[0;34m\u001b[0m\u001b[0;34m\u001b[0m\u001b[0m\n",
            "\u001b[0;32m/usr/local/lib/python3.7/dist-packages/keras/utils/traceback_utils.py\u001b[0m in \u001b[0;36merror_handler\u001b[0;34m(*args, **kwargs)\u001b[0m\n\u001b[1;32m     65\u001b[0m     \u001b[0;32mexcept\u001b[0m \u001b[0mException\u001b[0m \u001b[0;32mas\u001b[0m \u001b[0me\u001b[0m\u001b[0;34m:\u001b[0m  \u001b[0;31m# pylint: disable=broad-except\u001b[0m\u001b[0;34m\u001b[0m\u001b[0;34m\u001b[0m\u001b[0m\n\u001b[1;32m     66\u001b[0m       \u001b[0mfiltered_tb\u001b[0m \u001b[0;34m=\u001b[0m \u001b[0m_process_traceback_frames\u001b[0m\u001b[0;34m(\u001b[0m\u001b[0me\u001b[0m\u001b[0;34m.\u001b[0m\u001b[0m__traceback__\u001b[0m\u001b[0;34m)\u001b[0m\u001b[0;34m\u001b[0m\u001b[0;34m\u001b[0m\u001b[0m\n\u001b[0;32m---> 67\u001b[0;31m       \u001b[0;32mraise\u001b[0m \u001b[0me\u001b[0m\u001b[0;34m.\u001b[0m\u001b[0mwith_traceback\u001b[0m\u001b[0;34m(\u001b[0m\u001b[0mfiltered_tb\u001b[0m\u001b[0;34m)\u001b[0m \u001b[0;32mfrom\u001b[0m \u001b[0;32mNone\u001b[0m\u001b[0;34m\u001b[0m\u001b[0;34m\u001b[0m\u001b[0m\n\u001b[0m\u001b[1;32m     68\u001b[0m     \u001b[0;32mfinally\u001b[0m\u001b[0;34m:\u001b[0m\u001b[0;34m\u001b[0m\u001b[0;34m\u001b[0m\u001b[0m\n\u001b[1;32m     69\u001b[0m       \u001b[0;32mdel\u001b[0m \u001b[0mfiltered_tb\u001b[0m\u001b[0;34m\u001b[0m\u001b[0;34m\u001b[0m\u001b[0m\n",
            "\u001b[0;32m/usr/local/lib/python3.7/dist-packages/tensorflow/python/framework/ops.py\u001b[0m in \u001b[0;36mraise_from_not_ok_status\u001b[0;34m(e, name)\u001b[0m\n\u001b[1;32m   7184\u001b[0m \u001b[0;32mdef\u001b[0m \u001b[0mraise_from_not_ok_status\u001b[0m\u001b[0;34m(\u001b[0m\u001b[0me\u001b[0m\u001b[0;34m,\u001b[0m \u001b[0mname\u001b[0m\u001b[0;34m)\u001b[0m\u001b[0;34m:\u001b[0m\u001b[0;34m\u001b[0m\u001b[0;34m\u001b[0m\u001b[0m\n\u001b[1;32m   7185\u001b[0m   \u001b[0me\u001b[0m\u001b[0;34m.\u001b[0m\u001b[0mmessage\u001b[0m \u001b[0;34m+=\u001b[0m \u001b[0;34m(\u001b[0m\u001b[0;34m\" name: \"\u001b[0m \u001b[0;34m+\u001b[0m \u001b[0mname\u001b[0m \u001b[0;32mif\u001b[0m \u001b[0mname\u001b[0m \u001b[0;32mis\u001b[0m \u001b[0;32mnot\u001b[0m \u001b[0;32mNone\u001b[0m \u001b[0;32melse\u001b[0m \u001b[0;34m\"\"\u001b[0m\u001b[0;34m)\u001b[0m\u001b[0;34m\u001b[0m\u001b[0;34m\u001b[0m\u001b[0m\n\u001b[0;32m-> 7186\u001b[0;31m   \u001b[0;32mraise\u001b[0m \u001b[0mcore\u001b[0m\u001b[0;34m.\u001b[0m\u001b[0m_status_to_exception\u001b[0m\u001b[0;34m(\u001b[0m\u001b[0me\u001b[0m\u001b[0;34m)\u001b[0m \u001b[0;32mfrom\u001b[0m \u001b[0;32mNone\u001b[0m  \u001b[0;31m# pylint: disable=protected-access\u001b[0m\u001b[0;34m\u001b[0m\u001b[0;34m\u001b[0m\u001b[0m\n\u001b[0m\u001b[1;32m   7187\u001b[0m \u001b[0;34m\u001b[0m\u001b[0m\n\u001b[1;32m   7188\u001b[0m \u001b[0;34m\u001b[0m\u001b[0m\n",
            "\u001b[0;31mInvalidArgumentError\u001b[0m: indices[1] = [0,4972] is out of order. Many sparse ops require sorted indices.\n    Use `tf.sparse.reorder` to create a correctly ordered copy.\n\n [Op:SerializeManySparse]"
          ]
        }
      ]
    },
    {
      "cell_type": "code",
      "source": [
        "import numpy as np\n",
        "from sklearn import svm\n",
        "from sklearn.model_selection import cross_val_score\n",
        "from sklearn.model_selection import StratifiedKFold\n",
        "\n",
        "skf = StratifiedKFold(n_splits=2)\n",
        "\n",
        "for train, test in skf.split(X,Y):\n",
        "    print(\"%s %s\" % (train,test))\n",
        "\n",
        "    clf = svm.SVC(kernel='linear', C=1)\n",
        "\n",
        "    scores = cross_val_score(clf, train, test, cv=5)"
      ],
      "metadata": {
        "colab": {
          "base_uri": "https://localhost:8080/",
          "height": 530
        },
        "id": "8LXgF6UtXE5q",
        "outputId": "f802f873-7a45-4d67-a3e4-aa6ea00961e5"
      },
      "execution_count": null,
      "outputs": [
        {
          "output_type": "stream",
          "name": "stdout",
          "text": [
            "[ 40  61  62  63  64  66  68  69  70  71  73  74  75  76  77  78  79  80\n",
            "  82  83  84  86  87  89  90  91  92  94  95  97  98  99 100 103 104 105\n",
            " 106 107 108 109 110 111 112 113 114 115 116 117 118 119 120 121 122 123\n",
            " 124 127 131 132 133 134 135 137 138 139 140 141 142 143 144 145 146 147\n",
            " 148 149 150] [  0   1   2   3   4   5   6   7   8   9  10  11  12  13  14  15  16  17\n",
            "  18  19  20  21  22  23  24  25  26  27  28  29  30  31  32  33  34  35\n",
            "  36  37  38  39  41  42  43  44  45  46  47  48  49  50  51  52  53  54\n",
            "  55  56  57  58  59  60  65  67  72  81  85  88  93  96 101 102 125 126\n",
            " 128 129 130 136]\n"
          ]
        },
        {
          "output_type": "error",
          "ename": "ValueError",
          "evalue": "ignored",
          "traceback": [
            "\u001b[0;31m---------------------------------------------------------------------------\u001b[0m",
            "\u001b[0;31mValueError\u001b[0m                                Traceback (most recent call last)",
            "\u001b[0;32m<ipython-input-98-8c934065789e>\u001b[0m in \u001b[0;36m<module>\u001b[0;34m()\u001b[0m\n\u001b[1;32m     11\u001b[0m     \u001b[0mclf\u001b[0m \u001b[0;34m=\u001b[0m \u001b[0msvm\u001b[0m\u001b[0;34m.\u001b[0m\u001b[0mSVC\u001b[0m\u001b[0;34m(\u001b[0m\u001b[0mkernel\u001b[0m\u001b[0;34m=\u001b[0m\u001b[0;34m'linear'\u001b[0m\u001b[0;34m,\u001b[0m \u001b[0mC\u001b[0m\u001b[0;34m=\u001b[0m\u001b[0;36m1\u001b[0m\u001b[0;34m)\u001b[0m\u001b[0;34m\u001b[0m\u001b[0;34m\u001b[0m\u001b[0m\n\u001b[1;32m     12\u001b[0m \u001b[0;34m\u001b[0m\u001b[0m\n\u001b[0;32m---> 13\u001b[0;31m     \u001b[0mscores\u001b[0m \u001b[0;34m=\u001b[0m \u001b[0mcross_val_score\u001b[0m\u001b[0;34m(\u001b[0m\u001b[0mclf\u001b[0m\u001b[0;34m,\u001b[0m \u001b[0mtrain\u001b[0m\u001b[0;34m,\u001b[0m \u001b[0mtest\u001b[0m\u001b[0;34m,\u001b[0m \u001b[0mcv\u001b[0m\u001b[0;34m=\u001b[0m\u001b[0;36m5\u001b[0m\u001b[0;34m)\u001b[0m\u001b[0;34m\u001b[0m\u001b[0;34m\u001b[0m\u001b[0m\n\u001b[0m",
            "\u001b[0;32m/usr/local/lib/python3.7/dist-packages/sklearn/model_selection/_validation.py\u001b[0m in \u001b[0;36mcross_val_score\u001b[0;34m(estimator, X, y, groups, scoring, cv, n_jobs, verbose, fit_params, pre_dispatch, error_score)\u001b[0m\n\u001b[1;32m    518\u001b[0m         \u001b[0mfit_params\u001b[0m\u001b[0;34m=\u001b[0m\u001b[0mfit_params\u001b[0m\u001b[0;34m,\u001b[0m\u001b[0;34m\u001b[0m\u001b[0;34m\u001b[0m\u001b[0m\n\u001b[1;32m    519\u001b[0m         \u001b[0mpre_dispatch\u001b[0m\u001b[0;34m=\u001b[0m\u001b[0mpre_dispatch\u001b[0m\u001b[0;34m,\u001b[0m\u001b[0;34m\u001b[0m\u001b[0;34m\u001b[0m\u001b[0m\n\u001b[0;32m--> 520\u001b[0;31m         \u001b[0merror_score\u001b[0m\u001b[0;34m=\u001b[0m\u001b[0merror_score\u001b[0m\u001b[0;34m,\u001b[0m\u001b[0;34m\u001b[0m\u001b[0;34m\u001b[0m\u001b[0m\n\u001b[0m\u001b[1;32m    521\u001b[0m     )\n\u001b[1;32m    522\u001b[0m     \u001b[0;32mreturn\u001b[0m \u001b[0mcv_results\u001b[0m\u001b[0;34m[\u001b[0m\u001b[0;34m\"test_score\"\u001b[0m\u001b[0;34m]\u001b[0m\u001b[0;34m\u001b[0m\u001b[0;34m\u001b[0m\u001b[0m\n",
            "\u001b[0;32m/usr/local/lib/python3.7/dist-packages/sklearn/model_selection/_validation.py\u001b[0m in \u001b[0;36mcross_validate\u001b[0;34m(estimator, X, y, groups, scoring, cv, n_jobs, verbose, fit_params, pre_dispatch, return_train_score, return_estimator, error_score)\u001b[0m\n\u001b[1;32m    251\u001b[0m \u001b[0;34m\u001b[0m\u001b[0m\n\u001b[1;32m    252\u001b[0m     \"\"\"\n\u001b[0;32m--> 253\u001b[0;31m     \u001b[0mX\u001b[0m\u001b[0;34m,\u001b[0m \u001b[0my\u001b[0m\u001b[0;34m,\u001b[0m \u001b[0mgroups\u001b[0m \u001b[0;34m=\u001b[0m \u001b[0mindexable\u001b[0m\u001b[0;34m(\u001b[0m\u001b[0mX\u001b[0m\u001b[0;34m,\u001b[0m \u001b[0my\u001b[0m\u001b[0;34m,\u001b[0m \u001b[0mgroups\u001b[0m\u001b[0;34m)\u001b[0m\u001b[0;34m\u001b[0m\u001b[0;34m\u001b[0m\u001b[0m\n\u001b[0m\u001b[1;32m    254\u001b[0m \u001b[0;34m\u001b[0m\u001b[0m\n\u001b[1;32m    255\u001b[0m     \u001b[0mcv\u001b[0m \u001b[0;34m=\u001b[0m \u001b[0mcheck_cv\u001b[0m\u001b[0;34m(\u001b[0m\u001b[0mcv\u001b[0m\u001b[0;34m,\u001b[0m \u001b[0my\u001b[0m\u001b[0;34m,\u001b[0m \u001b[0mclassifier\u001b[0m\u001b[0;34m=\u001b[0m\u001b[0mis_classifier\u001b[0m\u001b[0;34m(\u001b[0m\u001b[0mestimator\u001b[0m\u001b[0;34m)\u001b[0m\u001b[0;34m)\u001b[0m\u001b[0;34m\u001b[0m\u001b[0;34m\u001b[0m\u001b[0m\n",
            "\u001b[0;32m/usr/local/lib/python3.7/dist-packages/sklearn/utils/validation.py\u001b[0m in \u001b[0;36mindexable\u001b[0;34m(*iterables)\u001b[0m\n\u001b[1;32m    376\u001b[0m \u001b[0;34m\u001b[0m\u001b[0m\n\u001b[1;32m    377\u001b[0m     \u001b[0mresult\u001b[0m \u001b[0;34m=\u001b[0m \u001b[0;34m[\u001b[0m\u001b[0m_make_indexable\u001b[0m\u001b[0;34m(\u001b[0m\u001b[0mX\u001b[0m\u001b[0;34m)\u001b[0m \u001b[0;32mfor\u001b[0m \u001b[0mX\u001b[0m \u001b[0;32min\u001b[0m \u001b[0miterables\u001b[0m\u001b[0;34m]\u001b[0m\u001b[0;34m\u001b[0m\u001b[0;34m\u001b[0m\u001b[0m\n\u001b[0;32m--> 378\u001b[0;31m     \u001b[0mcheck_consistent_length\u001b[0m\u001b[0;34m(\u001b[0m\u001b[0;34m*\u001b[0m\u001b[0mresult\u001b[0m\u001b[0;34m)\u001b[0m\u001b[0;34m\u001b[0m\u001b[0;34m\u001b[0m\u001b[0m\n\u001b[0m\u001b[1;32m    379\u001b[0m     \u001b[0;32mreturn\u001b[0m \u001b[0mresult\u001b[0m\u001b[0;34m\u001b[0m\u001b[0;34m\u001b[0m\u001b[0m\n\u001b[1;32m    380\u001b[0m \u001b[0;34m\u001b[0m\u001b[0m\n",
            "\u001b[0;32m/usr/local/lib/python3.7/dist-packages/sklearn/utils/validation.py\u001b[0m in \u001b[0;36mcheck_consistent_length\u001b[0;34m(*arrays)\u001b[0m\n\u001b[1;32m    332\u001b[0m         raise ValueError(\n\u001b[1;32m    333\u001b[0m             \u001b[0;34m\"Found input variables with inconsistent numbers of samples: %r\"\u001b[0m\u001b[0;34m\u001b[0m\u001b[0;34m\u001b[0m\u001b[0m\n\u001b[0;32m--> 334\u001b[0;31m             \u001b[0;34m%\u001b[0m \u001b[0;34m[\u001b[0m\u001b[0mint\u001b[0m\u001b[0;34m(\u001b[0m\u001b[0ml\u001b[0m\u001b[0;34m)\u001b[0m \u001b[0;32mfor\u001b[0m \u001b[0ml\u001b[0m \u001b[0;32min\u001b[0m \u001b[0mlengths\u001b[0m\u001b[0;34m]\u001b[0m\u001b[0;34m\u001b[0m\u001b[0;34m\u001b[0m\u001b[0m\n\u001b[0m\u001b[1;32m    335\u001b[0m         )\n\u001b[1;32m    336\u001b[0m \u001b[0;34m\u001b[0m\u001b[0m\n",
            "\u001b[0;31mValueError\u001b[0m: Found input variables with inconsistent numbers of samples: [75, 76]"
          ]
        }
      ]
    }
  ]
}