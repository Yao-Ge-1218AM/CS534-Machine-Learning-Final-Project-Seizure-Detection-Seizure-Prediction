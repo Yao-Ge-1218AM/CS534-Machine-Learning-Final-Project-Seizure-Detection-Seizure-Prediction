{
  "nbformat": 4,
  "nbformat_minor": 0,
  "metadata": {
    "colab": {
      "provenance": []
    },
    "kernelspec": {
      "name": "python3",
      "display_name": "Python 3"
    },
    "language_info": {
      "name": "python"
    }
  },
  "cells": [
    {
      "cell_type": "code",
      "source": [
        "!git clone https://github.com/katbailey/few-shot-text-classification"
      ],
      "metadata": {
        "colab": {
          "base_uri": "https://localhost:8080/"
        },
        "id": "vL3MklkQoENN",
        "outputId": "02197bf1-8803-49e9-ae22-9c85391e684c"
      },
      "execution_count": null,
      "outputs": [
        {
          "output_type": "stream",
          "name": "stdout",
          "text": [
            "Cloning into 'few-shot-text-classification'...\n",
            "remote: Enumerating objects: 16, done.\u001b[K\n",
            "remote: Total 16 (delta 0), reused 0 (delta 0), pack-reused 16\u001b[K\n",
            "Unpacking objects: 100% (16/16), done.\n"
          ]
        }
      ]
    },
    {
      "cell_type": "code",
      "source": [
        "!unzip /content/SIF-84b5b4c1c1ca20b6af19fc78cae005a1818ec571.zip"
      ],
      "metadata": {
        "id": "LAQbN3TgputX"
      },
      "execution_count": null,
      "outputs": []
    },
    {
      "cell_type": "code",
      "source": [
        "!git clone https://github.com/PrincetonML/SIF/tree/84b5b4c1c1ca20b6af19fc78cae005a1818ec571/"
      ],
      "metadata": {
        "colab": {
          "base_uri": "https://localhost:8080/"
        },
        "id": "bD8NKtXvphk9",
        "outputId": "e8a20572-7028-4f9b-e57a-ae13f1a25278"
      },
      "execution_count": null,
      "outputs": [
        {
          "output_type": "stream",
          "name": "stdout",
          "text": [
            "Cloning into '84b5b4c1c1ca20b6af19fc78cae005a1818ec571'...\n",
            "fatal: repository 'https://github.com/PrincetonML/SIF/tree/84b5b4c1c1ca20b6af19fc78cae005a1818ec571/' not found\n"
          ]
        }
      ]
    },
    {
      "cell_type": "code",
      "source": [
        "cd few-shot-text-classification/"
      ],
      "metadata": {
        "colab": {
          "base_uri": "https://localhost:8080/"
        },
        "id": "Zw1jZO_joJiY",
        "outputId": "e39839eb-f6a2-4244-ff52-6675254e0f0b"
      },
      "execution_count": null,
      "outputs": [
        {
          "output_type": "stream",
          "name": "stdout",
          "text": [
            "[Errno 2] No such file or directory: 'few-shot-text-classification/'\n",
            "/content/few-shot-text-classification\n"
          ]
        }
      ]
    },
    {
      "cell_type": "markdown",
      "source": [
        "ModuleNotFoundError: No module named 'data_io'"
      ],
      "metadata": {
        "id": "Z2EU9xvLoog2"
      }
    },
    {
      "cell_type": "code",
      "source": [
        "!pip install dataIO"
      ],
      "metadata": {
        "id": "C5dpDXzcoUv0"
      },
      "execution_count": null,
      "outputs": []
    },
    {
      "cell_type": "code",
      "execution_count": null,
      "metadata": {
        "id": "W40GWpZ8n6IS"
      },
      "outputs": [],
      "source": [
        "from sklearn.datasets import fetch_20newsgroups\n",
        "from sklearn.metrics.pairwise import cosine_similarity\n",
        "from sklearn.feature_extraction.text import TfidfVectorizer\n",
        "from sklearn.decomposition import LatentDirichletAllocation\n",
        "from operator import itemgetter\n",
        "from itertools import cycle, islice\n",
        "import pandas as pd\n",
        "import numpy as np\n",
        "import sif_embedding_wrapper\n",
        "import utils\n",
        "import itertools"
      ]
    },
    {
      "cell_type": "markdown",
      "source": [],
      "metadata": {
        "id": "qKc4ojfvf7NX"
      }
    },
    {
      "cell_type": "code",
      "source": [],
      "metadata": {
        "id": "MteiYJjBf7fH"
      },
      "execution_count": null,
      "outputs": []
    }
  ]
}